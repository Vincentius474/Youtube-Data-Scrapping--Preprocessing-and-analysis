{
 "cells": [
  {
   "cell_type": "code",
   "execution_count": 106,
   "id": "1754aadb-be33-462c-95bf-34284e964101",
   "metadata": {},
   "outputs": [],
   "source": [
    "# Library imports\n",
    "import seaborn as sb\n",
    "import pandas as pd\n",
    "import matplotlib.pyplot as plt\n",
    "from matplotlib.gridspec import GridSpec\n",
    "import plotly.graph_objects as px\n",
    "import plotly.express as px\n",
    "from bokeh.plotting import figure, output_file, show"
   ]
  },
  {
   "cell_type": "code",
   "execution_count": 107,
   "id": "7b7e2f10-0bf7-45e0-bfe5-354f7e8c346e",
   "metadata": {},
   "outputs": [
    {
     "data": {
      "application/vnd.plotly.v1+json": {
       "config": {
        "plotlyServerURL": "https://plot.ly"
       },
       "data": [
        {
         "hovertemplate": "x=%{x}<br>y=%{y}<extra></extra>",
         "legendgroup": "",
         "marker": {
          "color": "#636efa",
          "symbol": "circle"
         },
         "mode": "markers",
         "name": "",
         "showlegend": false,
         "type": "scattergl",
         "x": [
          "1 day ",
          "2 days ",
          "3 days ",
          "4 days ",
          "5 days ",
          "8 days ",
          "9 days ",
          "10 days ",
          "11 days ",
          "12 days ",
          "2 weeks ",
          "2 weeks ",
          "2 weeks ",
          "2 weeks ",
          "2 weeks ",
          "2 weeks ",
          "3 weeks ",
          "3 weeks ",
          "3 weeks ",
          "3 weeks ",
          "3 weeks ",
          "3 weeks ",
          "4 weeks ",
          "4 weeks ",
          "1 month ",
          "1 month ",
          "1 month ",
          "1 month ",
          "1 month ",
          "1 month ",
          "1 month ",
          "1 month ",
          "1 month ",
          "1 month ",
          "1 month ",
          "1 month ",
          "1 month ",
          "1 month ",
          "1 month ",
          "1 month ",
          "1 month ",
          "1 month ",
          "1 month ",
          "1 month ",
          "1 month ",
          "1 month ",
          "2 months ",
          "2 months ",
          "2 months ",
          "2 months ",
          "2 months ",
          "2 months ",
          "2 months ",
          "2 months ",
          "2 months ",
          "2 months ",
          "2 months ",
          "2 months ",
          "2 months ",
          "2 months ",
          "2 months ",
          "2 months ",
          "2 months ",
          "2 months ",
          "2 months ",
          "2 months ",
          "2 months ",
          "2 months ",
          "3 months ",
          "3 months ",
          "3 months ",
          "3 months ",
          "3 months ",
          "3 months ",
          "3 months ",
          "3 months ",
          "3 months ",
          "3 months ",
          "3 months ",
          "3 months ",
          "3 months ",
          "3 months ",
          "3 months ",
          "3 months ",
          "3 months ",
          "3 months ",
          "3 months ",
          "3 months ",
          "3 months ",
          "3 months ",
          "3 months ",
          "3 months ",
          "4 months ",
          "4 months ",
          "4 months ",
          "4 months ",
          "4 months ",
          "4 months ",
          "4 months ",
          "4 months ",
          "4 months ",
          "4 months ",
          "4 months ",
          "4 months ",
          "4 months ",
          "4 months ",
          "4 months ",
          "4 months ",
          "4 months ",
          "4 months ",
          "4 months ",
          "4 months ",
          "4 months ",
          "4 months ",
          "4 months ",
          "4 months ",
          "5 months ",
          "5 months ",
          "5 months ",
          "5 months ",
          "5 months ",
          "5 months ",
          "5 months ",
          "5 months ",
          "5 months ",
          "5 months ",
          "5 months ",
          "5 months ",
          "5 months ",
          "5 months ",
          "5 months ",
          "5 months ",
          "5 months ",
          "5 months ",
          "5 months ",
          "5 months ",
          "5 months ",
          "5 months ",
          "5 months ",
          "5 months ",
          "5 months ",
          "6 months ",
          "6 months ",
          "6 months ",
          "6 months ",
          "6 months ",
          "6 months ",
          "6 months ",
          "6 months ",
          "6 months ",
          "6 months ",
          "6 months ",
          "6 months ",
          "6 months ",
          "6 months ",
          "6 months ",
          "6 months ",
          "7 months ",
          "7 months ",
          "7 months ",
          "7 months ",
          "7 months ",
          "7 months ",
          "7 months ",
          "7 months ",
          "7 months ",
          "7 months ",
          "7 months ",
          "7 months ",
          "7 months ",
          "7 months ",
          "7 months ",
          "7 months ",
          "7 months ",
          "7 months ",
          "7 months ",
          "7 months ",
          "7 months ",
          "8 months ",
          "8 months ",
          "8 months ",
          "8 months ",
          "8 months ",
          "8 months ",
          "8 months ",
          "8 months ",
          "8 months ",
          "8 months ",
          "8 months ",
          "8 months ",
          "8 months ",
          "8 months ",
          "8 months ",
          "8 months ",
          "8 months ",
          "9 months ",
          "9 months ",
          "9 months ",
          "9 months ",
          "9 months ",
          "9 months ",
          "9 months ",
          "9 months ",
          "9 months ",
          "9 months ",
          "9 months ",
          "9 months ",
          "9 months ",
          "9 months ",
          "9 months ",
          "9 months ",
          "9 months ",
          "9 months ",
          "9 months ",
          "9 months ",
          "9 months ",
          "9 months ",
          "9 months ",
          "9 months ",
          "9 months ",
          "9 months ",
          "9 months ",
          "9 months ",
          "9 months ",
          "9 months ",
          "9 months ",
          "9 months ",
          "9 months ",
          "9 months ",
          "9 months ",
          "9 months ",
          "9 months ",
          "9 months ",
          "9 months ",
          "9 months ",
          "9 months ",
          "9 months ",
          "9 months ",
          "9 months ",
          "9 months ",
          "9 months ",
          "10 months ",
          "10 months ",
          "10 months ",
          "10 months ",
          "10 months ",
          "10 months ",
          "10 months ",
          "10 months ",
          "10 months ",
          "10 months ",
          "10 months ",
          "10 months ",
          "10 months ",
          "10 months ",
          "10 months ",
          "10 months ",
          "10 months ",
          "10 months ",
          "10 months ",
          "10 months ",
          "10 months ",
          "10 months ",
          "10 months ",
          "10 months ",
          "10 months ",
          "10 months ",
          "10 months ",
          "10 months ",
          "10 months ",
          "10 months ",
          "10 months ",
          "10 months ",
          "10 months ",
          "10 months ",
          "10 months ",
          "10 months ",
          "10 months ",
          "10 months ",
          "10 months ",
          "10 months ",
          "10 months ",
          "10 months ",
          "10 months ",
          "10 months ",
          "10 months ",
          "10 months ",
          "10 months ",
          "10 months ",
          "10 months ",
          "10 months ",
          "10 months ",
          "10 months ",
          "10 months ",
          "10 months ",
          "10 months ",
          "11 months ",
          "11 months ",
          "11 months ",
          "11 months ",
          "11 months ",
          "11 months ",
          "11 months ",
          "11 months ",
          "11 months ",
          "11 months ",
          "11 months ",
          "11 months ",
          "11 months ",
          "11 months ",
          "11 months ",
          "11 months ",
          "11 months ",
          "11 months ",
          "11 months ",
          "11 months ",
          "11 months ",
          "11 months ",
          "11 months ",
          "11 months ",
          "11 months ",
          "11 months ",
          "11 months ",
          "11 months ",
          "11 months ",
          "11 months ",
          "11 months ",
          "11 months ",
          "11 months ",
          "11 months ",
          "11 months ",
          "11 months ",
          "11 months ",
          "11 months ",
          "11 months ",
          "11 months ",
          "11 months ",
          "11 months ",
          "11 months ",
          "11 months ",
          "1 year ",
          "1 year ",
          "1 year ",
          "1 year ",
          "1 year ",
          "1 year ",
          "1 year ",
          "1 year ",
          "1 year ",
          "1 year ",
          "1 year ",
          "1 year ",
          "1 year ",
          "1 year ",
          "1 year ",
          "1 year ",
          "1 year ",
          "1 year ",
          "1 year ",
          "1 year ",
          "1 year ",
          "1 year ",
          "1 year ",
          "1 year ",
          "1 year ",
          "1 year ",
          "1 year ",
          "1 year ",
          "1 year ",
          "1 year ",
          "1 year ",
          "1 year ",
          "1 year ",
          "1 year ",
          "1 year ",
          "1 year ",
          "1 year ",
          "1 year ",
          "1 year ",
          "1 year ",
          "1 year ",
          "1 year ",
          "1 year ",
          "1 year ",
          "1 year ",
          "1 year ",
          "1 year ",
          "1 year ",
          "1 year ",
          "1 year ",
          "1 year ",
          "1 year ",
          "1 year ",
          "1 year ",
          "1 year ",
          "1 year ",
          "1 year ",
          "1 year ",
          "1 year ",
          "1 year ",
          "1 year ",
          "1 year ",
          "1 year ",
          "1 year ",
          "1 year ",
          "1 year ",
          "1 year ",
          "1 year ",
          "1 year ",
          "1 year ",
          "1 year ",
          "1 year ",
          "1 year ",
          "1 year ",
          "1 year ",
          "1 year ",
          "1 year ",
          "1 year ",
          "1 year ",
          "1 year ",
          "1 year ",
          "1 year ",
          "1 year ",
          "1 year ",
          "1 year ",
          "1 year ",
          "1 year ",
          "1 year ",
          "1 year ",
          "1 year ",
          "1 year ",
          "1 year ",
          "1 year ",
          "1 year ",
          "1 year ",
          "1 year ",
          "1 year ",
          "1 year ",
          "1 year ",
          "1 year ",
          "1 year ",
          "1 year ",
          "1 year ",
          "1 year ",
          "1 year ",
          "1 year ",
          "1 year ",
          "1 year ",
          "1 year ",
          "1 year ",
          "1 year ",
          "1 year ",
          "1 year ",
          "1 year ",
          "1 year ",
          "1 year ",
          "1 year ",
          "1 year ",
          "1 year ",
          "1 year ",
          "1 year ",
          "1 year ",
          "1 year ",
          "1 year ",
          "1 year ",
          "1 year ",
          "1 year ",
          "1 year ",
          "1 year ",
          "1 year ",
          "1 year ",
          "1 year ",
          "1 year ",
          "1 year ",
          "1 year ",
          "1 year ",
          "1 year ",
          "1 year ",
          "1 year ",
          "1 year ",
          "1 year ",
          "1 year ",
          "1 year ",
          "1 year ",
          "1 year ",
          "1 year ",
          "1 year ",
          "1 year ",
          "1 year ",
          "1 year ",
          "1 year ",
          "1 year ",
          "1 year ",
          "1 year ",
          "1 year ",
          "1 year ",
          "1 year ",
          "1 year ",
          "1 year ",
          "1 year ",
          "1 year ",
          "1 year ",
          "1 year ",
          "1 year ",
          "1 year ",
          "1 year ",
          "1 year ",
          "1 year ",
          "1 year ",
          "1 year ",
          "1 year ",
          "1 year ",
          "1 year ",
          "1 year ",
          "1 year ",
          "1 year ",
          "1 year ",
          "1 year ",
          "1 year ",
          "1 year ",
          "1 year ",
          "1 year ",
          "1 year ",
          "1 year ",
          "1 year ",
          "1 year ",
          "1 year ",
          "1 year ",
          "1 year ",
          "1 year ",
          "1 year ",
          "1 year ",
          "1 year ",
          "1 year ",
          "1 year ",
          "1 year ",
          "1 year ",
          "1 year ",
          "1 year ",
          "1 year ",
          "1 year ",
          "1 year ",
          "1 year ",
          "1 year ",
          "1 year ",
          "1 year ",
          "1 year ",
          "1 year ",
          "1 year ",
          "1 year ",
          "1 year ",
          "1 year ",
          "1 year ",
          "1 year ",
          "1 year ",
          "1 year ",
          "1 year ",
          "1 year ",
          "1 year ",
          "1 year ",
          "1 year ",
          "1 year ",
          "1 year ",
          "1 year ",
          "1 year ",
          "1 year ",
          "1 year ",
          "1 year ",
          "1 year ",
          "1 year ",
          "1 year ",
          "1 year ",
          "1 year ",
          "1 year ",
          "1 year ",
          "1 year ",
          "1 year ",
          "1 year ",
          "1 year ",
          "1 year ",
          "1 year ",
          "1 year ",
          "1 year ",
          "1 year ",
          "1 year ",
          "1 year ",
          "1 year ",
          "1 year ",
          "1 year ",
          "1 year ",
          "1 year ",
          "1 year ",
          "1 year ",
          "1 year ",
          "1 year ",
          "1 year ",
          "1 year ",
          "1 year ",
          "1 year ",
          "1 year ",
          "1 year ",
          "1 year ",
          "1 year ",
          "1 year ",
          "1 year ",
          "1 year ",
          "1 year ",
          "1 year ",
          "1 year ",
          "1 year ",
          "1 year ",
          "1 year ",
          "1 year ",
          "1 year ",
          "1 year ",
          "1 year ",
          "1 year ",
          "1 year ",
          "1 year ",
          "1 year ",
          "1 year ",
          "1 year ",
          "1 year ",
          "1 year ",
          "1 year ",
          "1 year ",
          "1 year ",
          "2 years ",
          "2 years ",
          "2 years ",
          "2 years ",
          "2 years ",
          "2 years ",
          "2 years ",
          "2 years ",
          "2 years ",
          "2 years ",
          "2 years ",
          "2 years ",
          "2 years ",
          "2 years ",
          "2 years ",
          "2 years ",
          "2 years ",
          "2 years ",
          "2 years ",
          "2 years ",
          "2 years ",
          "2 years ",
          "2 years ",
          "2 years ",
          "2 years ",
          "2 years ",
          "2 years ",
          "2 years ",
          "2 years ",
          "2 years ",
          "2 years ",
          "2 years ",
          "2 years ",
          "2 years ",
          "2 years ",
          "2 years ",
          "2 years ",
          "2 years ",
          "2 years ",
          "2 years ",
          "2 years ",
          "2 years ",
          "2 years ",
          "2 years ",
          "2 years ",
          "2 years ",
          "2 years ",
          "2 years ",
          "2 years ",
          "2 years ",
          "2 years ",
          "2 years ",
          "2 years ",
          "2 years ",
          "2 years ",
          "2 years ",
          "2 years ",
          "2 years ",
          "2 years ",
          "2 years ",
          "2 years ",
          "2 years ",
          "2 years ",
          "2 years ",
          "2 years ",
          "2 years ",
          "2 years ",
          "2 years ",
          "2 years ",
          "2 years ",
          "2 years ",
          "2 years ",
          "2 years ",
          "2 years ",
          "2 years ",
          "2 years ",
          "2 years ",
          "2 years ",
          "2 years ",
          "2 years ",
          "2 years ",
          "2 years ",
          "2 years ",
          "2 years ",
          "2 years ",
          "2 years ",
          "2 years ",
          "2 years ",
          "2 years ",
          "2 years ",
          "2 years ",
          "2 years ",
          "2 years ",
          "2 years ",
          "2 years ",
          "2 years ",
          "2 years ",
          "2 years ",
          "2 years ",
          "2 years ",
          "2 years ",
          "2 years ",
          "2 years ",
          "2 years ",
          "2 years ",
          "2 years ",
          "2 years ",
          "2 years ",
          "2 years ",
          "2 years ",
          "2 years ",
          "2 years ",
          "2 years ",
          "2 years ",
          "2 years ",
          "2 years ",
          "2 years ",
          "2 years ",
          "2 years ",
          "2 years ",
          "2 years ",
          "2 years ",
          "2 years ",
          "2 years ",
          "2 years ",
          "2 years ",
          "2 years ",
          "2 years ",
          "2 years ",
          "2 years ",
          "2 years ",
          "2 years ",
          "2 years ",
          "2 years ",
          "2 years ",
          "2 years ",
          "2 years ",
          "2 years ",
          "2 years ",
          "2 years ",
          "2 years ",
          "2 years ",
          "2 years ",
          "2 years ",
          "2 years ",
          "2 years ",
          "2 years ",
          "2 years ",
          "2 years ",
          "2 years ",
          "2 years ",
          "2 years ",
          "2 years ",
          "2 years ",
          "2 years ",
          "2 years ",
          "2 years ",
          "2 years ",
          "2 years ",
          "2 years ",
          "2 years ",
          "2 years ",
          "2 years ",
          "2 years ",
          "2 years ",
          "2 years ",
          "2 years ",
          "2 years ",
          "2 years ",
          "2 years ",
          "2 years ",
          "2 years ",
          "2 years ",
          "2 years ",
          "2 years ",
          "2 years ",
          "2 years ",
          "2 years ",
          "2 years ",
          "2 years ",
          "2 years ",
          "2 years ",
          "2 years ",
          "2 years ",
          "2 years ",
          "2 years ",
          "2 years ",
          "2 years ",
          "2 years ",
          "2 years ",
          "2 years ",
          "2 years ",
          "2 years ",
          "2 years ",
          "2 years ",
          "3 years ",
          "3 years ",
          "3 years ",
          "3 years ",
          "3 years ",
          "3 years ",
          "3 years ",
          "3 years ",
          "3 years ",
          "3 years ",
          "3 years ",
          "3 years ",
          "3 years ",
          "3 years ",
          "3 years ",
          "3 years ",
          "3 years ",
          "3 years ",
          "3 years ",
          "3 years ",
          "3 years ",
          "3 years ",
          "3 years ",
          "3 years ",
          "3 years ",
          "3 years ",
          "3 years ",
          "3 years ",
          "3 years ",
          "3 years ",
          "3 years ",
          "3 years ",
          "3 years ",
          "3 years ",
          "3 years ",
          "3 years ",
          "3 years ",
          "3 years ",
          "3 years ",
          "3 years ",
          "3 years ",
          "3 years ",
          "3 years ",
          "3 years ",
          "3 years ",
          "3 years ",
          "3 years ",
          "3 years ",
          "3 years ",
          "3 years ",
          "3 years ",
          "3 years ",
          "3 years ",
          "3 years ",
          "3 years ",
          "3 years ",
          "3 years ",
          "3 years ",
          "3 years ",
          "3 years ",
          "3 years ",
          "3 years ",
          "3 years ",
          "3 years ",
          "3 years ",
          "3 years ",
          "3 years ",
          "3 years ",
          "3 years ",
          "3 years ",
          "3 years ",
          "3 years ",
          "3 years ",
          "3 years ",
          "3 years ",
          "3 years ",
          "3 years ",
          "3 years ",
          "3 years ",
          "3 years ",
          "3 years ",
          "3 years ",
          "3 years ",
          "3 years ",
          "3 years ",
          "3 years ",
          "3 years ",
          "3 years ",
          "3 years ",
          "3 years ",
          "3 years ",
          "3 years ",
          "3 years ",
          "3 years ",
          "3 years ",
          "3 years ",
          "3 years ",
          "3 years ",
          "3 years ",
          "3 years ",
          "3 years ",
          "3 years ",
          "3 years ",
          "3 years ",
          "3 years ",
          "3 years ",
          "3 years ",
          "3 years ",
          "3 years ",
          "3 years ",
          "3 years ",
          "3 years ",
          "3 years ",
          "3 years ",
          "3 years ",
          "3 years ",
          "3 years ",
          "3 years ",
          "3 years ",
          "3 years ",
          "3 years ",
          "3 years ",
          "3 years ",
          "3 years ",
          "3 years ",
          "3 years ",
          "3 years ",
          "3 years ",
          "3 years ",
          "3 years ",
          "3 years ",
          "3 years ",
          "3 years ",
          "3 years ",
          "3 years ",
          "3 years ",
          "3 years ",
          "3 years ",
          "3 years ",
          "3 years ",
          "3 years ",
          "3 years ",
          "3 years ",
          "3 years ",
          "3 years ",
          "3 years ",
          "3 years ",
          "3 years ",
          "3 years ",
          "3 years ",
          "3 years ",
          "3 years ",
          "3 years ",
          "3 years ",
          "3 years ",
          "3 years ",
          "3 years ",
          "3 years ",
          "3 years ",
          "3 years ",
          "3 years ",
          "3 years ",
          "3 years ",
          "3 years ",
          "3 years ",
          "3 years ",
          "3 years ",
          "3 years ",
          "3 years ",
          "3 years ",
          "3 years ",
          "3 years ",
          "3 years ",
          "3 years ",
          "3 years ",
          "3 years ",
          "3 years ",
          "3 years ",
          "3 years ",
          "3 years ",
          "3 years ",
          "3 years ",
          "3 years ",
          "3 years ",
          "3 years ",
          "3 years ",
          "3 years ",
          "3 years ",
          "3 years ",
          "3 years ",
          "3 years ",
          "3 years ",
          "3 years ",
          "3 years ",
          "3 years ",
          "3 years ",
          "3 years ",
          "3 years ",
          "3 years ",
          "3 years ",
          "3 years ",
          "3 years ",
          "3 years ",
          "3 years ",
          "3 years ",
          "3 years ",
          "3 years ",
          "3 years ",
          "3 years ",
          "3 years ",
          "3 years ",
          "3 years ",
          "3 years ",
          "3 years ",
          "3 years ",
          "3 years ",
          "3 years ",
          "3 years ",
          "3 years ",
          "3 years ",
          "3 years ",
          "3 years ",
          "3 years ",
          "3 years ",
          "3 years ",
          "3 years ",
          "3 years ",
          "3 years ",
          "3 years ",
          "3 years ",
          "3 years ",
          "3 years ",
          "3 years ",
          "3 years ",
          "4 years ",
          "4 years ",
          "4 years ",
          "4 years ",
          "4 years ",
          "4 years ",
          "4 years ",
          "4 years ",
          "4 years ",
          "4 years ",
          "4 years ",
          "4 years ",
          "4 years ",
          "4 years ",
          "4 years ",
          "4 years ",
          "4 years ",
          "4 years ",
          "4 years ",
          "4 years ",
          "4 years ",
          "4 years ",
          "4 years ",
          "4 years ",
          "4 years ",
          "4 years ",
          "4 years ",
          "4 years ",
          "4 years ",
          "4 years ",
          "4 years ",
          "4 years ",
          "4 years ",
          "4 years ",
          "4 years ",
          "4 years ",
          "4 years ",
          "4 years ",
          "4 years ",
          "4 years ",
          "4 years ",
          "4 years ",
          "4 years ",
          "4 years ",
          "4 years ",
          "4 years ",
          "4 years ",
          "4 years ",
          "4 years ",
          "4 years ",
          "4 years ",
          "4 years ",
          "4 years ",
          "4 years ",
          "4 years ",
          "4 years ",
          "4 years ",
          "4 years ",
          "4 years ",
          "4 years ",
          "4 years ",
          "4 years ",
          "4 years ",
          "4 years ",
          "4 years ",
          "4 years ",
          "4 years ",
          "4 years ",
          "4 years ",
          "4 years ",
          "4 years ",
          "4 years ",
          "4 years ",
          "4 years ",
          "4 years ",
          "4 years ",
          "4 years ",
          "4 years ",
          "4 years ",
          "4 years ",
          "4 years ",
          "4 years ",
          "4 years ",
          "4 years ",
          "4 years ",
          "4 years ",
          "4 years ",
          "4 years ",
          "4 years ",
          "4 years ",
          "4 years ",
          "4 years ",
          "4 years ",
          "4 years ",
          "4 years ",
          "4 years ",
          "4 years ",
          "4 years ",
          "4 years ",
          "4 years ",
          "4 years ",
          "4 years ",
          "4 years ",
          "4 years ",
          "4 years ",
          "4 years ",
          "4 years ",
          "4 years ",
          "4 years ",
          "4 years ",
          "4 years ",
          "4 years ",
          "4 years ",
          "4 years ",
          "4 years ",
          "4 years ",
          "4 years ",
          "4 years ",
          "4 years ",
          "4 years ",
          "4 years ",
          "4 years ",
          "4 years ",
          "4 years ",
          "4 years ",
          "4 years ",
          "4 years ",
          "4 years ",
          "4 years ",
          "4 years ",
          "4 years ",
          "4 years ",
          "4 years ",
          "4 years ",
          "4 years ",
          "4 years ",
          "4 years ",
          "4 years ",
          "4 years ",
          "4 years ",
          "4 years ",
          "4 years ",
          "4 years ",
          "4 years ",
          "4 years ",
          "4 years ",
          "4 years ",
          "4 years ",
          "4 years ",
          "4 years ",
          "4 years ",
          "4 years ",
          "4 years ",
          "4 years ",
          "4 years ",
          "4 years ",
          "4 years ",
          "4 years ",
          "4 years ",
          "4 years ",
          "4 years ",
          "4 years ",
          "4 years ",
          "4 years ",
          "4 years ",
          "4 years ",
          "4 years ",
          "4 years ",
          "4 years ",
          "4 years ",
          "4 years ",
          "4 years ",
          "4 years ",
          "4 years ",
          "5 years ",
          "5 years ",
          "5 years ",
          "5 years ",
          "5 years ",
          "5 years ",
          "5 years ",
          "5 years ",
          "5 years ",
          "5 years ",
          "5 years ",
          "5 years ",
          "5 years ",
          "5 years ",
          "5 years ",
          "5 years ",
          "5 years ",
          "5 years ",
          "5 years ",
          "5 years ",
          "5 years ",
          "5 years ",
          "5 years ",
          "5 years ",
          "5 years ",
          "5 years ",
          "5 years ",
          "5 years ",
          "5 years ",
          "5 years ",
          "5 years ",
          "5 years ",
          "5 years ",
          "5 years ",
          "5 years ",
          "5 years ",
          "5 years ",
          "5 years ",
          "5 years ",
          "5 years ",
          "5 years ",
          "5 years ",
          "5 years ",
          "5 years ",
          "5 years ",
          "5 years ",
          "5 years ",
          "5 years ",
          "5 years ",
          "5 years ",
          "5 years ",
          "5 years ",
          "5 years ",
          "5 years ",
          "5 years ",
          "5 years ",
          "5 years ",
          "5 years ",
          "5 years ",
          "5 years ",
          "5 years ",
          "5 years ",
          "5 years ",
          "5 years ",
          "5 years ",
          "5 years ",
          "5 years ",
          "5 years ",
          "5 years ",
          "5 years ",
          "5 years ",
          "5 years ",
          "5 years ",
          "5 years ",
          "5 years ",
          "5 years ",
          "5 years ",
          "5 years ",
          "5 years ",
          "5 years ",
          "5 years ",
          "5 years ",
          "5 years ",
          "5 years ",
          "5 years ",
          "5 years ",
          "5 years ",
          "5 years ",
          "5 years ",
          "5 years ",
          "5 years ",
          "5 years ",
          "5 years ",
          "5 years ",
          "5 years ",
          "5 years ",
          "5 years ",
          "5 years ",
          "5 years ",
          "5 years ",
          "5 years ",
          "5 years ",
          "5 years ",
          "5 years ",
          "5 years ",
          "5 years ",
          "5 years ",
          "5 years ",
          "5 years ",
          "5 years ",
          "5 years ",
          "5 years ",
          "5 years ",
          "5 years ",
          "5 years ",
          "5 years ",
          "5 years ",
          "5 years ",
          "5 years ",
          "5 years ",
          "5 years ",
          "5 years ",
          "5 years ",
          "5 years ",
          "5 years ",
          "5 years ",
          "5 years ",
          "5 years ",
          "5 years ",
          "6 years ",
          "6 years ",
          "6 years ",
          "6 years ",
          "6 years ",
          "6 years ",
          "6 years ",
          "6 years ",
          "6 years ",
          "6 years ",
          "6 years ",
          "6 years ",
          "6 years ",
          "6 years ",
          "6 years ",
          "6 years ",
          "6 years ",
          "6 years ",
          "6 years ",
          "6 years ",
          "6 years ",
          "6 years ",
          "6 years ",
          "6 years ",
          "6 years ",
          "6 years ",
          "6 years ",
          "6 years ",
          "6 years ",
          "6 years ",
          "7 years ",
          "7 years ",
          "7 years ",
          "11 years "
         ],
         "xaxis": "x",
         "y": [
          233000,
          60000,
          66000,
          345000,
          152000,
          56000,
          68000,
          65000,
          222000,
          131000,
          397000,
          78000,
          3100,
          62000,
          136000,
          156000,
          346000,
          67000,
          3800,
          47000,
          293000,
          156000,
          437000,
          84000,
          91000,
          478000,
          140000,
          167000,
          67000,
          119000,
          455000,
          183000,
          415000,
          108000,
          105000,
          457000,
          233000,
          465000,
          87000,
          113000,
          530000,
          186000,
          428000,
          97000,
          117000,
          496000,
          219000,
          895000,
          119000,
          106000,
          512000,
          242000,
          137000,
          323000,
          184000,
          548000,
          195000,
          436000,
          131000,
          123000,
          452000,
          235000,
          10000,
          645000,
          176000,
          146000,
          465000,
          259000,
          448000,
          130000,
          115000,
          558000,
          286000,
          22000,
          344000,
          124000,
          118000,
          574000,
          337000,
          59000,
          238000,
          147000,
          100000,
          391000,
          233000,
          728000,
          139000,
          84000,
          1100000,
          177000,
          283000,
          187000,
          97000,
          509000,
          182000,
          168000,
          253000,
          102000,
          88000,
          806000,
          299000,
          368000,
          145000,
          103000,
          499000,
          309000,
          446000,
          133000,
          56000,
          460000,
          258000,
          409000,
          146000,
          135000,
          624000,
          324000,
          468000,
          142000,
          28000,
          638000,
          246000,
          170000,
          131000,
          7100,
          1400000,
          142000,
          58000,
          453000,
          291000,
          655000,
          132000,
          71000,
          657000,
          271000,
          508000,
          136000,
          106000,
          548000,
          446000,
          69000,
          252000,
          132000,
          533000,
          293000,
          20000,
          410000,
          101000,
          492000,
          311000,
          257000,
          150000,
          360000,
          221000,
          189000,
          307000,
          274000,
          215000,
          399000,
          182000,
          14000,
          592000,
          173000,
          297000,
          317000,
          15000,
          1300000,
          527000,
          63000,
          505000,
          352000,
          770000,
          121000,
          566000,
          325000,
          621000,
          67000,
          467000,
          178000,
          420000,
          159000,
          446000,
          222000,
          484000,
          68000,
          474000,
          340000,
          548000,
          86000,
          456000,
          340000,
          368000,
          78000,
          524000,
          359000,
          478000,
          91000,
          1700,
          1100,
          1000,
          357000,
          175000,
          259000,
          68000,
          104000,
          517000,
          361000,
          2200,
          31000,
          1400,
          2000,
          18000,
          3600,
          11000,
          1900,
          8400,
          362000,
          76000,
          504000,
          249000,
          463000,
          56000,
          5100,
          989,
          1700,
          426000,
          18000,
          3200,
          5900,
          2300,
          2800,
          1800,
          3100,
          1000,
          448000,
          422000,
          269000,
          997,
          922,
          722,
          2100,
          533000,
          43000,
          3200,
          6700,
          2200,
          930,
          295000,
          428000,
          71000,
          1800,
          1000,
          748,
          526000,
          14000,
          4300,
          5900,
          10000,
          8100,
          21000,
          1200,
          1200,
          335000,
          209000,
          144000,
          1600,
          1100,
          907,
          655000,
          516000,
          3600,
          14000,
          2800,
          119000,
          1400,
          10000,
          3400,
          667000,
          147000,
          2100,
          950,
          911,
          473000,
          272000,
          1200000,
          109000,
          1500,
          1300,
          1200,
          557000,
          9400,
          16000,
          12000,
          78000,
          2100,
          8300,
          325000,
          675000,
          103000,
          5800,
          441000,
          222000,
          290000,
          110000,
          2300,
          7100,
          545000,
          3600,
          1800,
          11000,
          11000,
          66000,
          3700,
          5400,
          3600,
          406000,
          21000,
          358000,
          218000,
          622000,
          390000,
          109000,
          1700,
          4900,
          5400,
          7200,
          2600,
          852,
          3000,
          3400,
          133000,
          5200,
          9600,
          745000,
          181000,
          1600,
          1500,
          1600,
          470000,
          309000,
          875000,
          4700,
          2500,
          4000,
          5600,
          81000,
          3000,
          8300,
          4700,
          4400,
          23000,
          535000,
          253000,
          62000,
          6000,
          12000,
          1500,
          12000,
          6900,
          8800,
          8900,
          104000,
          4700,
          3200,
          1900,
          183000,
          293000,
          42000,
          264000,
          399000,
          126000,
          801000,
          25000,
          1000000,
          156000,
          458000,
          640000,
          3400,
          1800,
          2300,
          516000,
          142000,
          561000,
          439000,
          3100,
          1200,
          2200,
          615000,
          271000,
          558000,
          803000,
          926000,
          116000,
          537000,
          285000,
          1100,
          1100,
          2600,
          749000,
          182000,
          547000,
          300000,
          4200,
          2900,
          4400,
          2800000,
          230000,
          469000,
          253000,
          2800,
          1700,
          1300,
          333000,
          247000,
          650000,
          417000,
          2200,
          4200,
          1900,
          1600000,
          244000,
          97000,
          528000,
          866000,
          2900,
          2600,
          1200,
          305000,
          175000,
          17000,
          12000,
          9700,
          12000,
          514000,
          218000,
          1100000,
          148000,
          576000,
          271000,
          478000,
          95000,
          499000,
          437000,
          9500,
          268000,
          381000,
          571000,
          201000,
          29000,
          414000,
          244000,
          489000,
          157000,
          10000,
          361000,
          155000,
          37000,
          508000,
          251000,
          10000,
          552000,
          7500,
          244000,
          59000,
          540000,
          174000,
          9800,
          1000000,
          176000,
          165000,
          506000,
          993000,
          15000,
          877000,
          304000,
          84000,
          589000,
          213000,
          14000,
          297000,
          305000,
          78000,
          540000,
          237000,
          11000,
          856000,
          151000,
          32000,
          540000,
          119000,
          20000,
          202000,
          483000,
          352000,
          611000,
          359000,
          366000,
          151000,
          18000,
          66000,
          335000,
          728000,
          357000,
          212000,
          491000,
          21000,
          250000,
          485000,
          507000,
          277000,
          27000,
          497000,
          457000,
          16000,
          203000,
          557000,
          460000,
          148000,
          16000,
          204000,
          513000,
          24000,
          33000,
          276000,
          324000,
          29000,
          777000,
          346000,
          10000,
          504000,
          10000,
          386000,
          132000,
          18000,
          468000,
          342000,
          113000,
          20000,
          519000,
          149000,
          250000,
          252000,
          26000,
          449000,
          639000,
          243000,
          20000,
          557000,
          16000,
          744000,
          170000,
          24000,
          478000,
          1900000,
          192000,
          26000,
          225000,
          368000,
          512000,
          240000,
          46000,
          448000,
          1300000,
          33000,
          106000,
          394000,
          24000,
          348000,
          179000,
          21000,
          412000,
          606000,
          154000,
          75000,
          609000,
          9600,
          13000,
          475000,
          321000,
          385000,
          18000,
          486000,
          191000,
          410000,
          26000,
          324000,
          158000,
          445000,
          205000,
          648000,
          272000,
          537000,
          487000,
          525000,
          22000,
          5100,
          26000,
          505000,
          356000,
          373000,
          359000,
          38000,
          5000,
          9400,
          17000,
          2200,
          3900000,
          414000,
          350000,
          581000,
          10000,
          4400,
          16000,
          566000,
          559000,
          16000,
          6900,
          15000,
          469000,
          495000,
          516000,
          686000,
          11000,
          6900,
          20000,
          425000,
          531000,
          828000,
          769000,
          91000,
          184000,
          111000,
          146000,
          626000,
          558000,
          1500000,
          503000,
          36000,
          1700000,
          473000,
          477000,
          563000,
          15000,
          26000,
          596000,
          720000,
          423000,
          651000,
          558000,
          969000,
          771000,
          284000,
          509000,
          33000,
          258000,
          601000,
          7200,
          11000,
          47000,
          4100,
          22000,
          3000,
          3500,
          3600,
          7000,
          2200,
          363000,
          7000,
          18000,
          595000,
          112000,
          533000,
          658000,
          794000,
          914000,
          30000,
          15000,
          7200,
          390000,
          545000,
          1500000,
          1500000,
          1600000,
          14000,
          11000,
          16000,
          29000,
          33000,
          408000,
          547000,
          1000000,
          46000,
          1100000,
          433000,
          17000,
          997000,
          100000,
          42000,
          443000,
          59000,
          269000,
          27000,
          353000,
          356000,
          66000,
          12000,
          527000,
          386000,
          541000,
          28000,
          707000,
          22000,
          514000,
          66000,
          249000,
          475000,
          274000,
          25000,
          673000,
          33000,
          22000,
          20000,
          478000,
          2700000,
          13000,
          15000,
          762000,
          46000,
          265000,
          76000,
          519000,
          54000,
          14000,
          21000,
          470000,
          516000,
          515000,
          45000,
          260000,
          16000,
          779000,
          30000,
          15000,
          9400,
          794000,
          23000,
          185000,
          474000,
          17000,
          35000,
          875000,
          42000,
          513000,
          105000,
          434000,
          610000,
          19000,
          809000,
          511000,
          712000,
          159000,
          442000,
          30000,
          447000,
          505000,
          669000,
          744000,
          18000,
          16000,
          92000,
          508000,
          476000,
          518000,
          1100000,
          16000,
          477000,
          514000,
          714000,
          46000,
          24000,
          463000,
          365000,
          569000,
          915000,
          16000,
          73000,
          471000,
          9300,
          714000,
          516000,
          49000,
          9400,
          464000,
          22000,
          552000,
          693000,
          439000,
          1100000,
          24000,
          65000,
          530000,
          358000,
          46000,
          172000,
          50000,
          472000,
          27000,
          531000,
          61000,
          424000,
          514000,
          20000,
          329000,
          445000,
          87000,
          585000,
          454000,
          421000,
          63000,
          86000,
          406000,
          1000000,
          278000,
          717000,
          11000,
          653000,
          38000,
          35000,
          577000,
          23000,
          502000,
          472000,
          1400000,
          107000,
          1000000,
          1700000,
          342000,
          22000,
          31000,
          70000,
          907000,
          874000,
          373000,
          455000,
          9400,
          899000,
          74000,
          57000,
          60000,
          298000,
          446000,
          24000,
          39000,
          62000,
          430000,
          21000,
          172000,
          71000,
          337000,
          25000,
          878000,
          204000,
          82000,
          534000,
          350000,
          71000,
          282000,
          573000,
          13000,
          96000,
          1000000,
          22000,
          300000,
          10000,
          350000,
          464000,
          175000,
          438000,
          22000,
          317000,
          563000,
          30000,
          8700,
          271000,
          5000,
          425000,
          32000,
          17000,
          288000,
          4100,
          841000,
          31000,
          52000,
          11000,
          325000,
          44000,
          261000,
          245000,
          6700,
          385000,
          100000,
          22000,
          17000,
          297000,
          12000,
          66000,
          271000,
          13000,
          221000,
          14000,
          5400,
          659000,
          13000,
          592000,
          8500,
          4900,
          214000,
          22000,
          19000,
          169000,
          8500,
          7900,
          3700,
          361000,
          21000,
          16000,
          182000,
          167000,
          19000,
          20000,
          184000,
          3900,
          169000,
          5900,
          14000,
          16000,
          297000,
          245000,
          918000,
          130000,
          74000,
          19000,
          7200,
          4900,
          237000,
          11000,
          13000,
          31000,
          3400,
          685000,
          50000,
          18000,
          217000,
          4700,
          260000,
          25000,
          216000,
          7200,
          245000,
          43000,
          628000,
          31000,
          162000,
          38000,
          263000,
          5000,
          574000,
          22000,
          251000,
          3900,
          459000,
          59000,
          61000,
          311000,
          5000,
          2500,
          3500000,
          63000,
          176000,
          16000,
          2800,
          2100,
          1000000,
          186000,
          3000,
          9700,
          2600,
          576000,
          152000,
          13000,
          6300,
          3400,
          190000,
          47000,
          366000,
          10000,
          3000,
          2100,
          196000,
          153000,
          10000,
          5300,
          128000,
          30000,
          38000,
          15000,
          5700,
          1800,
          1000000,
          19000,
          152000,
          6600,
          5200,
          1900,
          1000000,
          27000,
          141000,
          11000,
          3600,
          220000,
          240000,
          40000,
          111000,
          16000,
          5800,
          2300,
          99000,
          147000,
          33000,
          218000,
          28000,
          2300,
          966000,
          48000,
          116000,
          17000,
          4700,
          5200,
          524000,
          130000,
          25000,
          8100,
          4000,
          841000,
          45000,
          98000,
          43000,
          11000,
          186000,
          142000,
          157000,
          270000,
          96000,
          74000,
          108000,
          438000,
          115000,
          3200,
          3100,
          91000,
          85000,
          108000,
          3900,
          2900,
          11000,
          106000,
          28000,
          97000,
          3700,
          84000,
          5400,
          657000,
          80000,
          46000,
          5300,
          31000,
          2100,
          119000,
          15000,
          121000,
          2700,
          31000,
          429000,
          6600,
          102000,
          3600,
          276000,
          126000,
          136000,
          28000,
          470000,
          29000,
          1400,
          1400,
          3500,
          446000,
          76000,
          111000,
          8800,
          96000,
          295000,
          31000,
          43000,
          11000,
          3900,
          11000,
          152000,
          45000,
          198000,
          18000,
          12000,
          29000,
          82000,
          78000,
          29000,
          44000,
          172000,
          253000,
          33000,
          521000,
          29000,
          149000,
          306000,
          33000,
          70000,
          41000,
          408000,
          39000,
          739000,
          24000,
          81000,
          173000,
          14000,
          25000,
          39000,
          14000,
          31000,
          23000,
          445000,
          1600000,
          27000,
          101000,
          243000,
          15000,
          28000,
          21000,
          10000,
          25000,
          14000,
          22000,
          14000,
          18000,
          69000,
          1900,
          9500,
          680000,
          38000,
          2300,
          11000,
          30000,
          24000,
          6700,
          14000,
          327000,
          1000000,
          15000,
          14000,
          1500,
          38000,
          1800,
          16000,
          8400,
          16000,
          5000,
          1400,
          54000,
          16000,
          21000,
          50000,
          7500,
          1600,
          10000,
          7900,
          4000,
          7000,
          11000,
          1000,
          49000,
          36000,
          5600,
          6600,
          10000,
          4700,
          4800,
          8400,
          49000,
          77000,
          1200,
          4800,
          3900,
          3200,
          4800,
          14000,
          15000,
          4600,
          1400,
          8200,
          7800,
          9600,
          17000,
          130000,
          37000,
          1500,
          21000,
          20000,
          118000,
          4700,
          14000,
          23000,
          4600,
          15000,
          1400,
          17000,
          22000,
          1900,
          285000,
          3700,
          16000,
          25000,
          44000,
          9700,
          4500,
          15000,
          22000,
          13000,
          27000,
          46000,
          24000,
          108000,
          2700,
          11000,
          13000,
          2100,
          45000,
          16000,
          12000,
          10000,
          13000,
          4500,
          4200,
          30000,
          13000,
          27000,
          82000,
          9500,
          15000,
          44000,
          72000,
          14000,
          58000,
          48000,
          26000,
          88000,
          186000,
          12000,
          11000,
          9200,
          12000,
          18000,
          24000,
          12000,
          30000,
          52000,
          10000,
          38000,
          19000,
          274000,
          12000,
          10000,
          11000,
          234000,
          16000,
          2800,
          11000,
          14000,
          15000,
          44000,
          15000,
          1800,
          77000,
          192000,
          12000,
          12000,
          18000,
          47000,
          105000,
          149000,
          16000,
          1300,
          26000,
          34000,
          1400,
          102000,
          13000,
          2000,
          87000,
          124000,
          12000,
          1100,
          43000,
          10000,
          1500,
          372000,
          13000,
          1700,
          38000,
          9400,
          10000,
          96000,
          13000,
          30000,
          16000,
          2600,
          11000,
          32000,
          10000,
          11000,
          1100,
          10000,
          18000,
          9400,
          852,
          76000,
          9600,
          1700,
          109000,
          8300,
          862,
          456000,
          7700,
          14000,
          1900,
          98000,
          10000,
          197000,
          9800,
          946,
          7800,
          2400,
          90000,
          304000,
          13000,
          8200,
          3100,
          7200,
          14000,
          9400,
          5800,
          7700,
          5500,
          4000,
          5800,
          33000,
          53000,
          18000,
          25000,
          10000,
          11000,
          5800,
          10000,
          14000,
          66000,
          192000,
          12000,
          593000,
          8200,
          250000,
          28000,
          12000,
          17000,
          35000,
          13000,
          6500,
          6700,
          10000,
          27000,
          13000,
          12000,
          20000,
          61000,
          2800,
          2600,
          16000,
          12000
         ],
         "yaxis": "y"
        }
       ],
       "layout": {
        "autosize": true,
        "legend": {
         "tracegroupgap": 0
        },
        "margin": {
         "t": 60
        },
        "template": {
         "data": {
          "bar": [
           {
            "error_x": {
             "color": "#2a3f5f"
            },
            "error_y": {
             "color": "#2a3f5f"
            },
            "marker": {
             "line": {
              "color": "#E5ECF6",
              "width": 0.5
             },
             "pattern": {
              "fillmode": "overlay",
              "size": 10,
              "solidity": 0.2
             }
            },
            "type": "bar"
           }
          ],
          "barpolar": [
           {
            "marker": {
             "line": {
              "color": "#E5ECF6",
              "width": 0.5
             },
             "pattern": {
              "fillmode": "overlay",
              "size": 10,
              "solidity": 0.2
             }
            },
            "type": "barpolar"
           }
          ],
          "carpet": [
           {
            "aaxis": {
             "endlinecolor": "#2a3f5f",
             "gridcolor": "white",
             "linecolor": "white",
             "minorgridcolor": "white",
             "startlinecolor": "#2a3f5f"
            },
            "baxis": {
             "endlinecolor": "#2a3f5f",
             "gridcolor": "white",
             "linecolor": "white",
             "minorgridcolor": "white",
             "startlinecolor": "#2a3f5f"
            },
            "type": "carpet"
           }
          ],
          "choropleth": [
           {
            "colorbar": {
             "outlinewidth": 0,
             "ticks": ""
            },
            "type": "choropleth"
           }
          ],
          "contour": [
           {
            "colorbar": {
             "outlinewidth": 0,
             "ticks": ""
            },
            "colorscale": [
             [
              0,
              "#0d0887"
             ],
             [
              0.1111111111111111,
              "#46039f"
             ],
             [
              0.2222222222222222,
              "#7201a8"
             ],
             [
              0.3333333333333333,
              "#9c179e"
             ],
             [
              0.4444444444444444,
              "#bd3786"
             ],
             [
              0.5555555555555556,
              "#d8576b"
             ],
             [
              0.6666666666666666,
              "#ed7953"
             ],
             [
              0.7777777777777778,
              "#fb9f3a"
             ],
             [
              0.8888888888888888,
              "#fdca26"
             ],
             [
              1,
              "#f0f921"
             ]
            ],
            "type": "contour"
           }
          ],
          "contourcarpet": [
           {
            "colorbar": {
             "outlinewidth": 0,
             "ticks": ""
            },
            "type": "contourcarpet"
           }
          ],
          "heatmap": [
           {
            "colorbar": {
             "outlinewidth": 0,
             "ticks": ""
            },
            "colorscale": [
             [
              0,
              "#0d0887"
             ],
             [
              0.1111111111111111,
              "#46039f"
             ],
             [
              0.2222222222222222,
              "#7201a8"
             ],
             [
              0.3333333333333333,
              "#9c179e"
             ],
             [
              0.4444444444444444,
              "#bd3786"
             ],
             [
              0.5555555555555556,
              "#d8576b"
             ],
             [
              0.6666666666666666,
              "#ed7953"
             ],
             [
              0.7777777777777778,
              "#fb9f3a"
             ],
             [
              0.8888888888888888,
              "#fdca26"
             ],
             [
              1,
              "#f0f921"
             ]
            ],
            "type": "heatmap"
           }
          ],
          "heatmapgl": [
           {
            "colorbar": {
             "outlinewidth": 0,
             "ticks": ""
            },
            "colorscale": [
             [
              0,
              "#0d0887"
             ],
             [
              0.1111111111111111,
              "#46039f"
             ],
             [
              0.2222222222222222,
              "#7201a8"
             ],
             [
              0.3333333333333333,
              "#9c179e"
             ],
             [
              0.4444444444444444,
              "#bd3786"
             ],
             [
              0.5555555555555556,
              "#d8576b"
             ],
             [
              0.6666666666666666,
              "#ed7953"
             ],
             [
              0.7777777777777778,
              "#fb9f3a"
             ],
             [
              0.8888888888888888,
              "#fdca26"
             ],
             [
              1,
              "#f0f921"
             ]
            ],
            "type": "heatmapgl"
           }
          ],
          "histogram": [
           {
            "marker": {
             "pattern": {
              "fillmode": "overlay",
              "size": 10,
              "solidity": 0.2
             }
            },
            "type": "histogram"
           }
          ],
          "histogram2d": [
           {
            "colorbar": {
             "outlinewidth": 0,
             "ticks": ""
            },
            "colorscale": [
             [
              0,
              "#0d0887"
             ],
             [
              0.1111111111111111,
              "#46039f"
             ],
             [
              0.2222222222222222,
              "#7201a8"
             ],
             [
              0.3333333333333333,
              "#9c179e"
             ],
             [
              0.4444444444444444,
              "#bd3786"
             ],
             [
              0.5555555555555556,
              "#d8576b"
             ],
             [
              0.6666666666666666,
              "#ed7953"
             ],
             [
              0.7777777777777778,
              "#fb9f3a"
             ],
             [
              0.8888888888888888,
              "#fdca26"
             ],
             [
              1,
              "#f0f921"
             ]
            ],
            "type": "histogram2d"
           }
          ],
          "histogram2dcontour": [
           {
            "colorbar": {
             "outlinewidth": 0,
             "ticks": ""
            },
            "colorscale": [
             [
              0,
              "#0d0887"
             ],
             [
              0.1111111111111111,
              "#46039f"
             ],
             [
              0.2222222222222222,
              "#7201a8"
             ],
             [
              0.3333333333333333,
              "#9c179e"
             ],
             [
              0.4444444444444444,
              "#bd3786"
             ],
             [
              0.5555555555555556,
              "#d8576b"
             ],
             [
              0.6666666666666666,
              "#ed7953"
             ],
             [
              0.7777777777777778,
              "#fb9f3a"
             ],
             [
              0.8888888888888888,
              "#fdca26"
             ],
             [
              1,
              "#f0f921"
             ]
            ],
            "type": "histogram2dcontour"
           }
          ],
          "mesh3d": [
           {
            "colorbar": {
             "outlinewidth": 0,
             "ticks": ""
            },
            "type": "mesh3d"
           }
          ],
          "parcoords": [
           {
            "line": {
             "colorbar": {
              "outlinewidth": 0,
              "ticks": ""
             }
            },
            "type": "parcoords"
           }
          ],
          "pie": [
           {
            "automargin": true,
            "type": "pie"
           }
          ],
          "scatter": [
           {
            "fillpattern": {
             "fillmode": "overlay",
             "size": 10,
             "solidity": 0.2
            },
            "type": "scatter"
           }
          ],
          "scatter3d": [
           {
            "line": {
             "colorbar": {
              "outlinewidth": 0,
              "ticks": ""
             }
            },
            "marker": {
             "colorbar": {
              "outlinewidth": 0,
              "ticks": ""
             }
            },
            "type": "scatter3d"
           }
          ],
          "scattercarpet": [
           {
            "marker": {
             "colorbar": {
              "outlinewidth": 0,
              "ticks": ""
             }
            },
            "type": "scattercarpet"
           }
          ],
          "scattergeo": [
           {
            "marker": {
             "colorbar": {
              "outlinewidth": 0,
              "ticks": ""
             }
            },
            "type": "scattergeo"
           }
          ],
          "scattergl": [
           {
            "marker": {
             "colorbar": {
              "outlinewidth": 0,
              "ticks": ""
             }
            },
            "type": "scattergl"
           }
          ],
          "scattermapbox": [
           {
            "marker": {
             "colorbar": {
              "outlinewidth": 0,
              "ticks": ""
             }
            },
            "type": "scattermapbox"
           }
          ],
          "scatterpolar": [
           {
            "marker": {
             "colorbar": {
              "outlinewidth": 0,
              "ticks": ""
             }
            },
            "type": "scatterpolar"
           }
          ],
          "scatterpolargl": [
           {
            "marker": {
             "colorbar": {
              "outlinewidth": 0,
              "ticks": ""
             }
            },
            "type": "scatterpolargl"
           }
          ],
          "scatterternary": [
           {
            "marker": {
             "colorbar": {
              "outlinewidth": 0,
              "ticks": ""
             }
            },
            "type": "scatterternary"
           }
          ],
          "surface": [
           {
            "colorbar": {
             "outlinewidth": 0,
             "ticks": ""
            },
            "colorscale": [
             [
              0,
              "#0d0887"
             ],
             [
              0.1111111111111111,
              "#46039f"
             ],
             [
              0.2222222222222222,
              "#7201a8"
             ],
             [
              0.3333333333333333,
              "#9c179e"
             ],
             [
              0.4444444444444444,
              "#bd3786"
             ],
             [
              0.5555555555555556,
              "#d8576b"
             ],
             [
              0.6666666666666666,
              "#ed7953"
             ],
             [
              0.7777777777777778,
              "#fb9f3a"
             ],
             [
              0.8888888888888888,
              "#fdca26"
             ],
             [
              1,
              "#f0f921"
             ]
            ],
            "type": "surface"
           }
          ],
          "table": [
           {
            "cells": {
             "fill": {
              "color": "#EBF0F8"
             },
             "line": {
              "color": "white"
             }
            },
            "header": {
             "fill": {
              "color": "#C8D4E3"
             },
             "line": {
              "color": "white"
             }
            },
            "type": "table"
           }
          ]
         },
         "layout": {
          "annotationdefaults": {
           "arrowcolor": "#2a3f5f",
           "arrowhead": 0,
           "arrowwidth": 1
          },
          "autotypenumbers": "strict",
          "coloraxis": {
           "colorbar": {
            "outlinewidth": 0,
            "ticks": ""
           }
          },
          "colorscale": {
           "diverging": [
            [
             0,
             "#8e0152"
            ],
            [
             0.1,
             "#c51b7d"
            ],
            [
             0.2,
             "#de77ae"
            ],
            [
             0.3,
             "#f1b6da"
            ],
            [
             0.4,
             "#fde0ef"
            ],
            [
             0.5,
             "#f7f7f7"
            ],
            [
             0.6,
             "#e6f5d0"
            ],
            [
             0.7,
             "#b8e186"
            ],
            [
             0.8,
             "#7fbc41"
            ],
            [
             0.9,
             "#4d9221"
            ],
            [
             1,
             "#276419"
            ]
           ],
           "sequential": [
            [
             0,
             "#0d0887"
            ],
            [
             0.1111111111111111,
             "#46039f"
            ],
            [
             0.2222222222222222,
             "#7201a8"
            ],
            [
             0.3333333333333333,
             "#9c179e"
            ],
            [
             0.4444444444444444,
             "#bd3786"
            ],
            [
             0.5555555555555556,
             "#d8576b"
            ],
            [
             0.6666666666666666,
             "#ed7953"
            ],
            [
             0.7777777777777778,
             "#fb9f3a"
            ],
            [
             0.8888888888888888,
             "#fdca26"
            ],
            [
             1,
             "#f0f921"
            ]
           ],
           "sequentialminus": [
            [
             0,
             "#0d0887"
            ],
            [
             0.1111111111111111,
             "#46039f"
            ],
            [
             0.2222222222222222,
             "#7201a8"
            ],
            [
             0.3333333333333333,
             "#9c179e"
            ],
            [
             0.4444444444444444,
             "#bd3786"
            ],
            [
             0.5555555555555556,
             "#d8576b"
            ],
            [
             0.6666666666666666,
             "#ed7953"
            ],
            [
             0.7777777777777778,
             "#fb9f3a"
            ],
            [
             0.8888888888888888,
             "#fdca26"
            ],
            [
             1,
             "#f0f921"
            ]
           ]
          },
          "colorway": [
           "#636efa",
           "#EF553B",
           "#00cc96",
           "#ab63fa",
           "#FFA15A",
           "#19d3f3",
           "#FF6692",
           "#B6E880",
           "#FF97FF",
           "#FECB52"
          ],
          "font": {
           "color": "#2a3f5f"
          },
          "geo": {
           "bgcolor": "white",
           "lakecolor": "white",
           "landcolor": "#E5ECF6",
           "showlakes": true,
           "showland": true,
           "subunitcolor": "white"
          },
          "hoverlabel": {
           "align": "left"
          },
          "hovermode": "closest",
          "mapbox": {
           "style": "light"
          },
          "paper_bgcolor": "white",
          "plot_bgcolor": "#E5ECF6",
          "polar": {
           "angularaxis": {
            "gridcolor": "white",
            "linecolor": "white",
            "ticks": ""
           },
           "bgcolor": "#E5ECF6",
           "radialaxis": {
            "gridcolor": "white",
            "linecolor": "white",
            "ticks": ""
           }
          },
          "scene": {
           "xaxis": {
            "backgroundcolor": "#E5ECF6",
            "gridcolor": "white",
            "gridwidth": 2,
            "linecolor": "white",
            "showbackground": true,
            "ticks": "",
            "zerolinecolor": "white"
           },
           "yaxis": {
            "backgroundcolor": "#E5ECF6",
            "gridcolor": "white",
            "gridwidth": 2,
            "linecolor": "white",
            "showbackground": true,
            "ticks": "",
            "zerolinecolor": "white"
           },
           "zaxis": {
            "backgroundcolor": "#E5ECF6",
            "gridcolor": "white",
            "gridwidth": 2,
            "linecolor": "white",
            "showbackground": true,
            "ticks": "",
            "zerolinecolor": "white"
           }
          },
          "shapedefaults": {
           "line": {
            "color": "#2a3f5f"
           }
          },
          "ternary": {
           "aaxis": {
            "gridcolor": "white",
            "linecolor": "white",
            "ticks": ""
           },
           "baxis": {
            "gridcolor": "white",
            "linecolor": "white",
            "ticks": ""
           },
           "bgcolor": "#E5ECF6",
           "caxis": {
            "gridcolor": "white",
            "linecolor": "white",
            "ticks": ""
           }
          },
          "title": {
           "x": 0.05
          },
          "xaxis": {
           "automargin": true,
           "gridcolor": "white",
           "linecolor": "white",
           "ticks": "",
           "title": {
            "standoff": 15
           },
           "zerolinecolor": "white",
           "zerolinewidth": 2
          },
          "yaxis": {
           "automargin": true,
           "gridcolor": "white",
           "linecolor": "white",
           "ticks": "",
           "title": {
            "standoff": 15
           },
           "zerolinecolor": "white",
           "zerolinewidth": 2
          }
         }
        },
        "title": {
         "text": "Podcast and Chill Network"
        },
        "updatemenus": [
         {
          "buttons": [
           {
            "args": [
             "type",
             "scatter"
            ],
            "label": "Scatter Plot",
            "method": "restyle"
           }
          ],
          "direction": "left",
          "type": "buttons"
         }
        ],
        "xaxis": {
         "anchor": "y",
         "autorange": true,
         "domain": [
          0,
          1
         ],
         "range": [
          -1.8883957288048374,
          32.88839572880484
         ],
         "title": {
          "text": "Posted On"
         },
         "type": "category"
        },
        "yaxis": {
         "anchor": "x",
         "autorange": true,
         "domain": [
          0,
          1
         ],
         "range": [
          -316943.0609452736,
          4217665.060945273
         ],
         "title": {
          "text": "# of views per episode"
         },
         "type": "linear"
        }
       }
      },
      "image/png": "[encoded data removed]",
      "text/html": [
       "<div>                            <div id=\"5e2c8428-c60a-4f76-b56c-9e4ecbcdd816\" class=\"plotly-graph-div\" style=\"height:525px; width:100%;\"></div>            <script type=\"text/javascript\">                require([\"plotly\"], function(Plotly) {                    window.PLOTLYENV=window.PLOTLYENV || {};                                    if (document.getElementById(\"5e2c8428-c60a-4f76-b56c-9e4ecbcdd816\")) {                    Plotly.newPlot(                        \"5e2c8428-c60a-4f76-b56c-9e4ecbcdd816\",                        [{\"hovertemplate\":\"x=%{x}\\u003cbr\\u003ey=%{y}\\u003cextra\\u003e\\u003c\\u002fextra\\u003e\",\"legendgroup\":\"\",\"marker\":{\"color\":\"#636efa\",\"symbol\":\"circle\"},\"mode\":\"markers\",\"name\":\"\",\"showlegend\":false,\"x\":[\"1 day \",\"2 days \",\"3 days \",\"4 days \",\"5 days \",\"8 days \",\"9 days \",\"10 days \",\"11 days \",\"12 days \",\"2 weeks \",\"2 weeks \",\"2 weeks \",\"2 weeks \",\"2 weeks \",\"2 weeks \",\"3 weeks \",\"3 weeks \",\"3 weeks \",\"3 weeks \",\"3 weeks \",\"3 weeks \",\"4 weeks \",\"4 weeks \",\"1 month \",\"1 month \",\"1 month \",\"1 month \",\"1 month \",\"1 month \",\"1 month \",\"1 month \",\"1 month \",\"1 month \",\"1 month \",\"1 month \",\"1 month \",\"1 month \",\"1 month \",\"1 month \",\"1 month \",\"1 month \",\"1 month \",\"1 month \",\"1 month \",\"1 month \",\"2 months \",\"2 months \",\"2 months \",\"2 months \",\"2 months \",\"2 months \",\"2 months \",\"2 months \",\"2 months \",\"2 months \",\"2 months \",\"2 months \",\"2 months \",\"2 months \",\"2 months \",\"2 months \",\"2 months \",\"2 months \",\"2 months \",\"2 months \",\"2 months \",\"2 months \",\"3 months \",\"3 months \",\"3 months \",\"3 months \",\"3 months \",\"3 months \",\"3 months \",\"3 months \",\"3 months \",\"3 months \",\"3 months \",\"3 months \",\"3 months \",\"3 months \",\"3 months \",\"3 months \",\"3 months \",\"3 months \",\"3 months \",\"3 months \",\"3 months \",\"3 months \",\"3 months \",\"3 months \",\"4 months \",\"4 months \",\"4 months \",\"4 months \",\"4 months \",\"4 months \",\"4 months \",\"4 months \",\"4 months \",\"4 months \",\"4 months \",\"4 months \",\"4 months \",\"4 months \",\"4 months \",\"4 months \",\"4 months \",\"4 months \",\"4 months \",\"4 months \",\"4 months \",\"4 months \",\"4 months \",\"4 months \",\"5 months \",\"5 months \",\"5 months \",\"5 months \",\"5 months \",\"5 months \",\"5 months \",\"5 months \",\"5 months \",\"5 months \",\"5 months \",\"5 months \",\"5 months \",\"5 months \",\"5 months \",\"5 months \",\"5 months \",\"5 months \",\"5 months \",\"5 months \",\"5 months \",\"5 months \",\"5 months \",\"5 months \",\"5 months \",\"6 months \",\"6 months \",\"6 months \",\"6 months \",\"6 months \",\"6 months \",\"6 months \",\"6 months \",\"6 months \",\"6 months \",\"6 months \",\"6 months \",\"6 months \",\"6 months \",\"6 months \",\"6 months \",\"7 months \",\"7 months \",\"7 months \",\"7 months \",\"7 months \",\"7 months \",\"7 months \",\"7 months \",\"7 months \",\"7 months \",\"7 months \",\"7 months \",\"7 months \",\"7 months \",\"7 months \",\"7 months \",\"7 months \",\"7 months \",\"7 months \",\"7 months \",\"7 months \",\"8 months \",\"8 months \",\"8 months \",\"8 months \",\"8 months \",\"8 months \",\"8 months \",\"8 months \",\"8 months \",\"8 months \",\"8 months \",\"8 months \",\"8 months \",\"8 months \",\"8 months \",\"8 months \",\"8 months \",\"9 months \",\"9 months \",\"9 months \",\"9 months \",\"9 months \",\"9 months \",\"9 months \",\"9 months \",\"9 months \",\"9 months \",\"9 months \",\"9 months \",\"9 months \",\"9 months \",\"9 months \",\"9 months \",\"9 months \",\"9 months \",\"9 months \",\"9 months \",\"9 months \",\"9 months \",\"9 months \",\"9 months \",\"9 months \",\"9 months \",\"9 months \",\"9 months \",\"9 months \",\"9 months \",\"9 months \",\"9 months \",\"9 months \",\"9 months \",\"9 months \",\"9 months \",\"9 months \",\"9 months \",\"9 months \",\"9 months \",\"9 months \",\"9 months \",\"9 months \",\"9 months \",\"9 months \",\"9 months \",\"10 months \",\"10 months \",\"10 months \",\"10 months \",\"10 months \",\"10 months \",\"10 months \",\"10 months \",\"10 months \",\"10 months \",\"10 months \",\"10 months \",\"10 months \",\"10 months \",\"10 months \",\"10 months \",\"10 months \",\"10 months \",\"10 months \",\"10 months \",\"10 months \",\"10 months \",\"10 months \",\"10 months \",\"10 months \",\"10 months \",\"10 months \",\"10 months \",\"10 months \",\"10 months \",\"10 months \",\"10 months \",\"10 months \",\"10 months \",\"10 months \",\"10 months \",\"10 months \",\"10 months \",\"10 months \",\"10 months \",\"10 months \",\"10 months \",\"10 months \",\"10 months \",\"10 months \",\"10 months \",\"10 months \",\"10 months \",\"10 months \",\"10 months \",\"10 months \",\"10 months \",\"10 months \",\"10 months \",\"10 months \",\"11 months \",\"11 months \",\"11 months \",\"11 months \",\"11 months \",\"11 months \",\"11 months \",\"11 months \",\"11 months \",\"11 months \",\"11 months \",\"11 months \",\"11 months \",\"11 months \",\"11 months \",\"11 months \",\"11 months \",\"11 months \",\"11 months \",\"11 months \",\"11 months \",\"11 months \",\"11 months \",\"11 months \",\"11 months \",\"11 months \",\"11 months \",\"11 months \",\"11 months \",\"11 months \",\"11 months \",\"11 months \",\"11 months \",\"11 months \",\"11 months \",\"11 months \",\"11 months \",\"11 months \",\"11 months \",\"11 months \",\"11 months \",\"11 months \",\"11 months \",\"11 months \",\"1 year \",\"1 year \",\"1 year \",\"1 year \",\"1 year \",\"1 year \",\"1 year \",\"1 year \",\"1 year \",\"1 year \",\"1 year \",\"1 year \",\"1 year \",\"1 year \",\"1 year \",\"1 year \",\"1 year \",\"1 year \",\"1 year \",\"1 year \",\"1 year \",\"1 year \",\"1 year \",\"1 year \",\"1 year \",\"1 year \",\"1 year \",\"1 year \",\"1 year \",\"1 year \",\"1 year \",\"1 year \",\"1 year \",\"1 year \",\"1 year \",\"1 year \",\"1 year \",\"1 year \",\"1 year \",\"1 year \",\"1 year \",\"1 year \",\"1 year \",\"1 year \",\"1 year \",\"1 year \",\"1 year \",\"1 year \",\"1 year \",\"1 year \",\"1 year \",\"1 year \",\"1 year \",\"1 year \",\"1 year \",\"1 year \",\"1 year \",\"1 year \",\"1 year \",\"1 year \",\"1 year \",\"1 year \",\"1 year \",\"1 year \",\"1 year \",\"1 year \",\"1 year \",\"1 year \",\"1 year \",\"1 year \",\"1 year \",\"1 year \",\"1 year \",\"1 year \",\"1 year \",\"1 year \",\"1 year \",\"1 year \",\"1 year \",\"1 year \",\"1 year \",\"1 year \",\"1 year \",\"1 year \",\"1 year \",\"1 year \",\"1 year \",\"1 year \",\"1 year \",\"1 year \",\"1 year \",\"1 year \",\"1 year \",\"1 year \",\"1 year \",\"1 year \",\"1 year \",\"1 year \",\"1 year \",\"1 year \",\"1 year \",\"1 year \",\"1 year \",\"1 year \",\"1 year \",\"1 year \",\"1 year \",\"1 year \",\"1 year \",\"1 year \",\"1 year \",\"1 year \",\"1 year \",\"1 year \",\"1 year \",\"1 year \",\"1 year \",\"1 year \",\"1 year \",\"1 year \",\"1 year \",\"1 year \",\"1 year \",\"1 year \",\"1 year \",\"1 year \",\"1 year \",\"1 year \",\"1 year \",\"1 year \",\"1 year \",\"1 year \",\"1 year \",\"1 year \",\"1 year \",\"1 year \",\"1 year \",\"1 year \",\"1 year \",\"1 year \",\"1 year \",\"1 year \",\"1 year \",\"1 year \",\"1 year \",\"1 year \",\"1 year \",\"1 year \",\"1 year \",\"1 year \",\"1 year \",\"1 year \",\"1 year \",\"1 year \",\"1 year \",\"1 year \",\"1 year \",\"1 year \",\"1 year \",\"1 year \",\"1 year \",\"1 year \",\"1 year \",\"1 year \",\"1 year \",\"1 year \",\"1 year \",\"1 year \",\"1 year \",\"1 year \",\"1 year \",\"1 year \",\"1 year \",\"1 year \",\"1 year \",\"1 year \",\"1 year \",\"1 year \",\"1 year \",\"1 year \",\"1 year \",\"1 year \",\"1 year \",\"1 year \",\"1 year \",\"1 year \",\"1 year \",\"1 year \",\"1 year \",\"1 year \",\"1 year \",\"1 year \",\"1 year \",\"1 year \",\"1 year \",\"1 year \",\"1 year \",\"1 year \",\"1 year \",\"1 year \",\"1 year \",\"1 year \",\"1 year \",\"1 year \",\"1 year \",\"1 year \",\"1 year \",\"1 year \",\"1 year \",\"1 year \",\"1 year \",\"1 year \",\"1 year \",\"1 year \",\"1 year \",\"1 year \",\"1 year \",\"1 year \",\"1 year \",\"1 year \",\"1 year \",\"1 year \",\"1 year \",\"1 year \",\"1 year \",\"1 year \",\"1 year \",\"1 year \",\"1 year \",\"1 year \",\"1 year \",\"1 year \",\"1 year \",\"1 year \",\"1 year \",\"1 year \",\"1 year \",\"1 year \",\"1 year \",\"1 year \",\"1 year \",\"1 year \",\"1 year \",\"1 year \",\"1 year \",\"1 year \",\"1 year \",\"1 year \",\"1 year \",\"1 year \",\"1 year \",\"1 year \",\"1 year \",\"1 year \",\"1 year \",\"1 year \",\"1 year \",\"1 year \",\"1 year \",\"1 year \",\"1 year \",\"1 year \",\"1 year \",\"1 year \",\"1 year \",\"1 year \",\"1 year \",\"1 year \",\"1 year \",\"1 year \",\"1 year \",\"1 year \",\"1 year \",\"1 year \",\"1 year \",\"1 year \",\"1 year \",\"1 year \",\"1 year \",\"1 year \",\"1 year \",\"1 year \",\"1 year \",\"1 year \",\"1 year \",\"1 year \",\"1 year \",\"2 years \",\"2 years \",\"2 years \",\"2 years \",\"2 years \",\"2 years \",\"2 years \",\"2 years \",\"2 years \",\"2 years \",\"2 years \",\"2 years \",\"2 years \",\"2 years \",\"2 years \",\"2 years \",\"2 years \",\"2 years \",\"2 years \",\"2 years \",\"2 years \",\"2 years \",\"2 years \",\"2 years \",\"2 years \",\"2 years \",\"2 years \",\"2 years \",\"2 years \",\"2 years \",\"2 years \",\"2 years \",\"2 years \",\"2 years \",\"2 years \",\"2 years \",\"2 years \",\"2 years \",\"2 years \",\"2 years \",\"2 years \",\"2 years \",\"2 years \",\"2 years \",\"2 years \",\"2 years \",\"2 years \",\"2 years \",\"2 years \",\"2 years \",\"2 years \",\"2 years \",\"2 years \",\"2 years \",\"2 years \",\"2 years \",\"2 years \",\"2 years \",\"2 years \",\"2 years \",\"2 years \",\"2 years \",\"2 years \",\"2 years \",\"2 years \",\"2 years \",\"2 years \",\"2 years \",\"2 years \",\"2 years \",\"2 years \",\"2 years \",\"2 years \",\"2 years \",\"2 years \",\"2 years \",\"2 years \",\"2 years \",\"2 years \",\"2 years \",\"2 years \",\"2 years \",\"2 years \",\"2 years \",\"2 years \",\"2 years \",\"2 years \",\"2 years \",\"2 years \",\"2 years \",\"2 years \",\"2 years \",\"2 years \",\"2 years \",\"2 years \",\"2 years \",\"2 years \",\"2 years \",\"2 years \",\"2 years \",\"2 years \",\"2 years \",\"2 years \",\"2 years \",\"2 years \",\"2 years \",\"2 years \",\"2 years \",\"2 years \",\"2 years \",\"2 years \",\"2 years \",\"2 years \",\"2 years \",\"2 years \",\"2 years \",\"2 years \",\"2 years \",\"2 years \",\"2 years \",\"2 years \",\"2 years \",\"2 years \",\"2 years \",\"2 years \",\"2 years \",\"2 years \",\"2 years \",\"2 years \",\"2 years \",\"2 years \",\"2 years \",\"2 years \",\"2 years \",\"2 years \",\"2 years \",\"2 years \",\"2 years \",\"2 years \",\"2 years \",\"2 years \",\"2 years \",\"2 years \",\"2 years \",\"2 years \",\"2 years \",\"2 years \",\"2 years \",\"2 years \",\"2 years \",\"2 years \",\"2 years \",\"2 years \",\"2 years \",\"2 years \",\"2 years \",\"2 years \",\"2 years \",\"2 years \",\"2 years \",\"2 years \",\"2 years \",\"2 years \",\"2 years \",\"2 years \",\"2 years \",\"2 years \",\"2 years \",\"2 years \",\"2 years \",\"2 years \",\"2 years \",\"2 years \",\"2 years \",\"2 years \",\"2 years \",\"2 years \",\"2 years \",\"2 years \",\"2 years \",\"2 years \",\"2 years \",\"2 years \",\"2 years \",\"2 years \",\"2 years \",\"2 years \",\"2 years \",\"2 years \",\"2 years \",\"2 years \",\"2 years \",\"2 years \",\"2 years \",\"2 years \",\"3 years \",\"3 years \",\"3 years \",\"3 years \",\"3 years \",\"3 years \",\"3 years \",\"3 years \",\"3 years \",\"3 years \",\"3 years \",\"3 years \",\"3 years \",\"3 years \",\"3 years \",\"3 years \",\"3 years \",\"3 years \",\"3 years \",\"3 years \",\"3 years \",\"3 years \",\"3 years \",\"3 years \",\"3 years \",\"3 years \",\"3 years \",\"3 years \",\"3 years \",\"3 years \",\"3 years \",\"3 years \",\"3 years \",\"3 years \",\"3 years \",\"3 years \",\"3 years \",\"3 years \",\"3 years \",\"3 years \",\"3 years \",\"3 years \",\"3 years \",\"3 years \",\"3 years \",\"3 years \",\"3 years \",\"3 years \",\"3 years \",\"3 years \",\"3 years \",\"3 years \",\"3 years \",\"3 years \",\"3 years \",\"3 years \",\"3 years \",\"3 years \",\"3 years \",\"3 years \",\"3 years \",\"3 years \",\"3 years \",\"3 years \",\"3 years \",\"3 years \",\"3 years \",\"3 years \",\"3 years \",\"3 years \",\"3 years \",\"3 years \",\"3 years \",\"3 years \",\"3 years \",\"3 years \",\"3 years \",\"3 years \",\"3 years \",\"3 years \",\"3 years \",\"3 years \",\"3 years \",\"3 years \",\"3 years \",\"3 years \",\"3 years \",\"3 years \",\"3 years \",\"3 years \",\"3 years \",\"3 years \",\"3 years \",\"3 years \",\"3 years \",\"3 years \",\"3 years \",\"3 years \",\"3 years \",\"3 years \",\"3 years \",\"3 years \",\"3 years \",\"3 years \",\"3 years \",\"3 years \",\"3 years \",\"3 years \",\"3 years \",\"3 years \",\"3 years \",\"3 years \",\"3 years \",\"3 years \",\"3 years \",\"3 years \",\"3 years \",\"3 years \",\"3 years \",\"3 years \",\"3 years \",\"3 years \",\"3 years \",\"3 years \",\"3 years \",\"3 years \",\"3 years \",\"3 years \",\"3 years \",\"3 years \",\"3 years \",\"3 years \",\"3 years \",\"3 years \",\"3 years \",\"3 years \",\"3 years \",\"3 years \",\"3 years \",\"3 years \",\"3 years \",\"3 years \",\"3 years \",\"3 years \",\"3 years \",\"3 years \",\"3 years \",\"3 years \",\"3 years \",\"3 years \",\"3 years \",\"3 years \",\"3 years \",\"3 years \",\"3 years \",\"3 years \",\"3 years \",\"3 years \",\"3 years \",\"3 years \",\"3 years \",\"3 years \",\"3 years \",\"3 years \",\"3 years \",\"3 years \",\"3 years \",\"3 years \",\"3 years \",\"3 years \",\"3 years \",\"3 years \",\"3 years \",\"3 years \",\"3 years \",\"3 years \",\"3 years \",\"3 years \",\"3 years \",\"3 years \",\"3 years \",\"3 years \",\"3 years \",\"3 years \",\"3 years \",\"3 years \",\"3 years \",\"3 years \",\"3 years \",\"3 years \",\"3 years \",\"3 years \",\"3 years \",\"3 years \",\"3 years \",\"3 years \",\"3 years \",\"3 years \",\"3 years \",\"3 years \",\"3 years \",\"3 years \",\"3 years \",\"3 years \",\"3 years \",\"3 years \",\"3 years \",\"3 years \",\"3 years \",\"3 years \",\"3 years \",\"3 years \",\"3 years \",\"3 years \",\"3 years \",\"3 years \",\"3 years \",\"3 years \",\"3 years \",\"3 years \",\"3 years \",\"3 years \",\"3 years \",\"3 years \",\"3 years \",\"3 years \",\"3 years \",\"3 years \",\"3 years \",\"3 years \",\"3 years \",\"3 years \",\"3 years \",\"3 years \",\"4 years \",\"4 years \",\"4 years \",\"4 years \",\"4 years \",\"4 years \",\"4 years \",\"4 years \",\"4 years \",\"4 years \",\"4 years \",\"4 years \",\"4 years \",\"4 years \",\"4 years \",\"4 years \",\"4 years \",\"4 years \",\"4 years \",\"4 years \",\"4 years \",\"4 years \",\"4 years \",\"4 years \",\"4 years \",\"4 years \",\"4 years \",\"4 years \",\"4 years \",\"4 years \",\"4 years \",\"4 years \",\"4 years \",\"4 years \",\"4 years \",\"4 years \",\"4 years \",\"4 years \",\"4 years \",\"4 years \",\"4 years \",\"4 years \",\"4 years \",\"4 years \",\"4 years \",\"4 years \",\"4 years \",\"4 years \",\"4 years \",\"4 years \",\"4 years \",\"4 years \",\"4 years \",\"4 years \",\"4 years \",\"4 years \",\"4 years \",\"4 years \",\"4 years \",\"4 years \",\"4 years \",\"4 years \",\"4 years \",\"4 years \",\"4 years \",\"4 years \",\"4 years \",\"4 years \",\"4 years \",\"4 years \",\"4 years \",\"4 years \",\"4 years \",\"4 years \",\"4 years \",\"4 years \",\"4 years \",\"4 years \",\"4 years \",\"4 years \",\"4 years \",\"4 years \",\"4 years \",\"4 years \",\"4 years \",\"4 years \",\"4 years \",\"4 years \",\"4 years \",\"4 years \",\"4 years \",\"4 years \",\"4 years \",\"4 years \",\"4 years \",\"4 years \",\"4 years \",\"4 years \",\"4 years \",\"4 years \",\"4 years \",\"4 years \",\"4 years \",\"4 years \",\"4 years \",\"4 years \",\"4 years \",\"4 years \",\"4 years \",\"4 years \",\"4 years \",\"4 years \",\"4 years \",\"4 years \",\"4 years \",\"4 years \",\"4 years \",\"4 years \",\"4 years \",\"4 years \",\"4 years \",\"4 years \",\"4 years \",\"4 years \",\"4 years \",\"4 years \",\"4 years \",\"4 years \",\"4 years \",\"4 years \",\"4 years \",\"4 years \",\"4 years \",\"4 years \",\"4 years \",\"4 years \",\"4 years \",\"4 years \",\"4 years \",\"4 years \",\"4 years \",\"4 years \",\"4 years \",\"4 years \",\"4 years \",\"4 years \",\"4 years \",\"4 years \",\"4 years \",\"4 years \",\"4 years \",\"4 years \",\"4 years \",\"4 years \",\"4 years \",\"4 years \",\"4 years \",\"4 years \",\"4 years \",\"4 years \",\"4 years \",\"4 years \",\"4 years \",\"4 years \",\"4 years \",\"4 years \",\"4 years \",\"4 years \",\"4 years \",\"4 years \",\"4 years \",\"4 years \",\"4 years \",\"4 years \",\"5 years \",\"5 years \",\"5 years \",\"5 years \",\"5 years \",\"5 years \",\"5 years \",\"5 years \",\"5 years \",\"5 years \",\"5 years \",\"5 years \",\"5 years \",\"5 years \",\"5 years \",\"5 years \",\"5 years \",\"5 years \",\"5 years \",\"5 years \",\"5 years \",\"5 years \",\"5 years \",\"5 years \",\"5 years \",\"5 years \",\"5 years \",\"5 years \",\"5 years \",\"5 years \",\"5 years \",\"5 years \",\"5 years \",\"5 years \",\"5 years \",\"5 years \",\"5 years \",\"5 years \",\"5 years \",\"5 years \",\"5 years \",\"5 years \",\"5 years \",\"5 years \",\"5 years \",\"5 years \",\"5 years \",\"5 years \",\"5 years \",\"5 years \",\"5 years \",\"5 years \",\"5 years \",\"5 years \",\"5 years \",\"5 years \",\"5 years \",\"5 years \",\"5 years \",\"5 years \",\"5 years \",\"5 years \",\"5 years \",\"5 years \",\"5 years \",\"5 years \",\"5 years \",\"5 years \",\"5 years \",\"5 years \",\"5 years \",\"5 years \",\"5 years \",\"5 years \",\"5 years \",\"5 years \",\"5 years \",\"5 years \",\"5 years \",\"5 years \",\"5 years \",\"5 years \",\"5 years \",\"5 years \",\"5 years \",\"5 years \",\"5 years \",\"5 years \",\"5 years \",\"5 years \",\"5 years \",\"5 years \",\"5 years \",\"5 years \",\"5 years \",\"5 years \",\"5 years \",\"5 years \",\"5 years \",\"5 years \",\"5 years \",\"5 years \",\"5 years \",\"5 years \",\"5 years \",\"5 years \",\"5 years \",\"5 years \",\"5 years \",\"5 years \",\"5 years \",\"5 years \",\"5 years \",\"5 years \",\"5 years \",\"5 years \",\"5 years \",\"5 years \",\"5 years \",\"5 years \",\"5 years \",\"5 years \",\"5 years \",\"5 years \",\"5 years \",\"5 years \",\"5 years \",\"5 years \",\"5 years \",\"6 years \",\"6 years \",\"6 years \",\"6 years \",\"6 years \",\"6 years \",\"6 years \",\"6 years \",\"6 years \",\"6 years \",\"6 years \",\"6 years \",\"6 years \",\"6 years \",\"6 years \",\"6 years \",\"6 years \",\"6 years \",\"6 years \",\"6 years \",\"6 years \",\"6 years \",\"6 years \",\"6 years \",\"6 years \",\"6 years \",\"6 years \",\"6 years \",\"6 years \",\"6 years \",\"7 years \",\"7 years \",\"7 years \",\"11 years \"],\"xaxis\":\"x\",\"y\":[233000.0,60000.0,66000.0,345000.0,152000.0,56000.0,68000.0,65000.0,222000.0,131000.0,397000.0,78000.0,3100.0,62000.0,136000.0,156000.0,346000.0,67000.0,3800.0,47000.0,293000.0,156000.0,437000.0,84000.0,91000.0,478000.0,140000.0,167000.0,67000.0,119000.0,455000.0,183000.0,415000.0,108000.0,105000.0,457000.0,233000.0,465000.0,87000.0,113000.0,530000.0,186000.0,428000.0,97000.0,117000.0,496000.0,219000.0,895000.0,119000.0,106000.0,512000.0,242000.0,137000.0,323000.0,184000.0,548000.0,195000.0,436000.0,131000.0,123000.0,452000.0,235000.0,10000.0,645000.0,176000.0,146000.0,465000.0,259000.0,448000.0,130000.0,115000.0,558000.0,286000.0,22000.0,344000.0,124000.0,118000.0,574000.0,337000.0,59000.0,238000.0,147000.0,100000.0,391000.0,233000.0,728000.0,139000.0,84000.0,1100000.0,177000.0,283000.0,187000.0,97000.0,509000.0,182000.0,168000.0,253000.0,102000.0,88000.0,806000.0,299000.0,368000.0,145000.0,103000.0,499000.0,309000.0,446000.0,133000.0,56000.0,460000.0,258000.0,409000.0,146000.0,135000.0,624000.0,324000.0,468000.0,142000.0,28000.0,638000.0,246000.0,170000.0,131000.0,7100.0,1400000.0,142000.0,58000.0,453000.0,291000.0,655000.0,132000.0,71000.0,657000.0,271000.0,508000.0,136000.0,106000.0,548000.0,446000.0,69000.0,252000.0,132000.0,533000.0,293000.0,20000.0,410000.0,101000.0,492000.0,311000.0,257000.0,150000.0,360000.0,221000.0,189000.0,307000.0,274000.0,215000.0,399000.0,182000.0,14000.0,592000.0,173000.0,297000.0,317000.0,15000.0,1300000.0,527000.0,63000.0,505000.0,352000.0,770000.0,121000.0,566000.0,325000.0,621000.0,67000.0,467000.0,178000.0,420000.0,159000.0,446000.0,222000.0,484000.0,68000.0,474000.0,340000.0,548000.0,86000.0,456000.0,340000.0,368000.0,78000.0,524000.0,359000.0,478000.0,91000.0,1700.0,1100.0,1000.0,357000.0,175000.0,259000.0,68000.0,104000.0,517000.0,361000.0,2200.0,31000.0,1400.0,2000.0,18000.0,3600.0,11000.0,1900.0,8400.0,362000.0,76000.0,504000.0,249000.0,463000.0,56000.0,5100.0,989.0,1700.0,426000.0,18000.0,3200.0,5900.0,2300.0,2800.0,1800.0,3100.0,1000.0,448000.0,422000.0,269000.0,997.0,922.0,722.0,2100.0,533000.0,43000.0,3200.0,6700.0,2200.0,930.0,295000.0,428000.0,71000.0,1800.0,1000.0,748.0,526000.0,14000.0,4300.0,5900.0,10000.0,8100.0,21000.0,1200.0,1200.0,335000.0,209000.0,144000.0,1600.0,1100.0,907.0,655000.0,516000.0,3600.0,14000.0,2800.0,119000.0,1400.0,10000.0,3400.0,667000.0,147000.0,2100.0,950.0,911.0,473000.0,272000.0,1200000.0,109000.0,1500.0,1300.0,1200.0,557000.0,9400.0,16000.0,12000.0,78000.0,2100.0,8300.0,325000.0,675000.0,103000.0,5800.0,441000.0,222000.0,290000.0,110000.0,2300.0,7100.0,545000.0,3600.0,1800.0,11000.0,11000.0,66000.0,3700.0,5400.0,3600.0,406000.0,21000.0,358000.0,218000.0,622000.0,390000.0,109000.0,1700.0,4900.0,5400.0,7200.0,2600.0,852.0,3000.0,3400.0,133000.0,5200.0,9600.0,745000.0,181000.0,1600.0,1500.0,1600.0,470000.0,309000.0,875000.0,4700.0,2500.0,4000.0,5600.0,81000.0,3000.0,8300.0,4700.0,4400.0,23000.0,535000.0,253000.0,62000.0,6000.0,12000.0,1500.0,12000.0,6900.0,8800.0,8900.0,104000.0,4700.0,3200.0,1900.0,183000.0,293000.0,42000.0,264000.0,399000.0,126000.0,801000.0,25000.0,1000000.0,156000.0,458000.0,640000.0,3400.0,1800.0,2300.0,516000.0,142000.0,561000.0,439000.0,3100.0,1200.0,2200.0,615000.0,271000.0,558000.0,803000.0,926000.0,116000.0,537000.0,285000.0,1100.0,1100.0,2600.0,749000.0,182000.0,547000.0,300000.0,4200.0,2900.0,4400.0,2800000.0,230000.0,469000.0,253000.0,2800.0,1700.0,1300.0,333000.0,247000.0,650000.0,417000.0,2200.0,4200.0,1900.0,1600000.0,244000.0,97000.0,528000.0,866000.0,2900.0,2600.0,1200.0,305000.0,175000.0,17000.0,12000.0,9700.0,12000.0,514000.0,218000.0,1100000.0,148000.0,576000.0,271000.0,478000.0,95000.0,499000.0,437000.0,9500.0,268000.0,381000.0,571000.0,201000.0,29000.0,414000.0,244000.0,489000.0,157000.0,10000.0,361000.0,155000.0,37000.0,508000.0,251000.0,10000.0,552000.0,7500.0,244000.0,59000.0,540000.0,174000.0,9800.0,1000000.0,176000.0,165000.0,506000.0,993000.0,15000.0,877000.0,304000.0,84000.0,589000.0,213000.0,14000.0,297000.0,305000.0,78000.0,540000.0,237000.0,11000.0,856000.0,151000.0,32000.0,540000.0,119000.0,20000.0,202000.0,483000.0,352000.0,611000.0,359000.0,366000.0,151000.0,18000.0,66000.0,335000.0,728000.0,357000.0,212000.0,491000.0,21000.0,250000.0,485000.0,507000.0,277000.0,27000.0,497000.0,457000.0,16000.0,203000.0,557000.0,460000.0,148000.0,16000.0,204000.0,513000.0,24000.0,33000.0,276000.0,324000.0,29000.0,777000.0,346000.0,10000.0,504000.0,10000.0,386000.0,132000.0,18000.0,468000.0,342000.0,113000.0,20000.0,519000.0,149000.0,250000.0,252000.0,26000.0,449000.0,639000.0,243000.0,20000.0,557000.0,16000.0,744000.0,170000.0,24000.0,478000.0,1900000.0,192000.0,26000.0,225000.0,368000.0,512000.0,240000.0,46000.0,448000.0,1300000.0,33000.0,106000.0,394000.0,24000.0,348000.0,179000.0,21000.0,412000.0,606000.0,154000.0,75000.0,609000.0,9600.0,13000.0,475000.0,321000.0,385000.0,18000.0,486000.0,191000.0,410000.0,26000.0,324000.0,158000.0,445000.0,205000.0,648000.0,272000.0,537000.0,487000.0,525000.0,22000.0,5100.0,26000.0,505000.0,356000.0,373000.0,359000.0,38000.0,5000.0,9400.0,17000.0,2200.0,3900000.0,414000.0,350000.0,581000.0,10000.0,4400.0,16000.0,566000.0,559000.0,16000.0,6900.0,15000.0,469000.0,495000.0,516000.0,686000.0,11000.0,6900.0,20000.0,425000.0,531000.0,828000.0,769000.0,91000.0,184000.0,111000.0,146000.0,626000.0,558000.0,1500000.0,503000.0,36000.0,1700000.0,473000.0,477000.0,563000.0,15000.0,26000.0,596000.0,720000.0,423000.0,651000.0,558000.0,969000.0,771000.0,284000.0,509000.0,33000.0,258000.0,601000.0,7200.0,11000.0,47000.0,4100.0,22000.0,3000.0,3500.0,3600.0,7000.0,2200.0,363000.0,7000.0,18000.0,595000.0,112000.0,533000.0,658000.0,794000.0,914000.0,30000.0,15000.0,7200.0,390000.0,545000.0,1500000.0,1500000.0,1600000.0,14000.0,11000.0,16000.0,29000.0,33000.0,408000.0,547000.0,1000000.0,46000.0,1100000.0,433000.0,17000.0,997000.0,100000.0,42000.0,443000.0,59000.0,269000.0,27000.0,353000.0,356000.0,66000.0,12000.0,527000.0,386000.0,541000.0,28000.0,707000.0,22000.0,514000.0,66000.0,249000.0,475000.0,274000.0,25000.0,673000.0,33000.0,22000.0,20000.0,478000.0,2700000.0,13000.0,15000.0,762000.0,46000.0,265000.0,76000.0,519000.0,54000.0,14000.0,21000.0,470000.0,516000.0,515000.0,45000.0,260000.0,16000.0,779000.0,30000.0,15000.0,9400.0,794000.0,23000.0,185000.0,474000.0,17000.0,35000.0,875000.0,42000.0,513000.0,105000.0,434000.0,610000.0,19000.0,809000.0,511000.0,712000.0,159000.0,442000.0,30000.0,447000.0,505000.0,669000.0,744000.0,18000.0,16000.0,92000.0,508000.0,476000.0,518000.0,1100000.0,16000.0,477000.0,514000.0,714000.0,46000.0,24000.0,463000.0,365000.0,569000.0,915000.0,16000.0,73000.0,471000.0,9300.0,714000.0,516000.0,49000.0,9400.0,464000.0,22000.0,552000.0,693000.0,439000.0,1100000.0,24000.0,65000.0,530000.0,358000.0,46000.0,172000.0,50000.0,472000.0,27000.0,531000.0,61000.0,424000.0,514000.0,20000.0,329000.0,445000.0,87000.0,585000.0,454000.0,421000.0,63000.0,86000.0,406000.0,1000000.0,278000.0,717000.0,11000.0,653000.0,38000.0,35000.0,577000.0,23000.0,502000.0,472000.0,1400000.0,107000.0,1000000.0,1700000.0,342000.0,22000.0,31000.0,70000.0,907000.0,874000.0,373000.0,455000.0,9400.0,899000.0,74000.0,57000.0,60000.0,298000.0,446000.0,24000.0,39000.0,62000.0,430000.0,21000.0,172000.0,71000.0,337000.0,25000.0,878000.0,204000.0,82000.0,534000.0,350000.0,71000.0,282000.0,573000.0,13000.0,96000.0,1000000.0,22000.0,300000.0,10000.0,350000.0,464000.0,175000.0,438000.0,22000.0,317000.0,563000.0,30000.0,8700.0,271000.0,5000.0,425000.0,32000.0,17000.0,288000.0,4100.0,841000.0,31000.0,52000.0,11000.0,325000.0,44000.0,261000.0,245000.0,6700.0,385000.0,100000.0,22000.0,17000.0,297000.0,12000.0,66000.0,271000.0,13000.0,221000.0,14000.0,5400.0,659000.0,13000.0,592000.0,8500.0,4900.0,214000.0,22000.0,19000.0,169000.0,8500.0,7900.0,3700.0,361000.0,21000.0,16000.0,182000.0,167000.0,19000.0,20000.0,184000.0,3900.0,169000.0,5900.0,14000.0,16000.0,297000.0,245000.0,918000.0,130000.0,74000.0,19000.0,7200.0,4900.0,237000.0,11000.0,13000.0,31000.0,3400.0,685000.0,50000.0,18000.0,217000.0,4700.0,260000.0,25000.0,216000.0,7200.0,245000.0,43000.0,628000.0,31000.0,162000.0,38000.0,263000.0,5000.0,574000.0,22000.0,251000.0,3900.0,459000.0,59000.0,61000.0,311000.0,5000.0,2500.0,3500000.0,63000.0,176000.0,16000.0,2800.0,2100.0,1000000.0,186000.0,3000.0,9700.0,2600.0,576000.0,152000.0,13000.0,6300.0,3400.0,190000.0,47000.0,366000.0,10000.0,3000.0,2100.0,196000.0,153000.0,10000.0,5300.0,128000.0,30000.0,38000.0,15000.0,5700.0,1800.0,1000000.0,19000.0,152000.0,6600.0,5200.0,1900.0,1000000.0,27000.0,141000.0,11000.0,3600.0,220000.0,240000.0,40000.0,111000.0,16000.0,5800.0,2300.0,99000.0,147000.0,33000.0,218000.0,28000.0,2300.0,966000.0,48000.0,116000.0,17000.0,4700.0,5200.0,524000.0,130000.0,25000.0,8100.0,4000.0,841000.0,45000.0,98000.0,43000.0,11000.0,186000.0,142000.0,157000.0,270000.0,96000.0,74000.0,108000.0,438000.0,115000.0,3200.0,3100.0,91000.0,85000.0,108000.0,3900.0,2900.0,11000.0,106000.0,28000.0,97000.0,3700.0,84000.0,5400.0,657000.0,80000.0,46000.0,5300.0,31000.0,2100.0,119000.0,15000.0,121000.0,2700.0,31000.0,429000.0,6600.0,102000.0,3600.0,276000.0,126000.0,136000.0,28000.0,470000.0,29000.0,1400.0,1400.0,3500.0,446000.0,76000.0,111000.0,8800.0,96000.0,295000.0,31000.0,43000.0,11000.0,3900.0,11000.0,152000.0,45000.0,198000.0,18000.0,12000.0,29000.0,82000.0,78000.0,29000.0,44000.0,172000.0,253000.0,33000.0,521000.0,29000.0,149000.0,306000.0,33000.0,70000.0,41000.0,408000.0,39000.0,739000.0,24000.0,81000.0,173000.0,14000.0,25000.0,39000.0,14000.0,31000.0,23000.0,445000.0,1600000.0,27000.0,101000.0,243000.0,15000.0,28000.0,21000.0,10000.0,25000.0,14000.0,22000.0,14000.0,18000.0,69000.0,1900.0,9500.0,680000.0,38000.0,2300.0,11000.0,30000.0,24000.0,6700.0,14000.0,327000.0,1000000.0,15000.0,14000.0,1500.0,38000.0,1800.0,16000.0,8400.0,16000.0,5000.0,1400.0,54000.0,16000.0,21000.0,50000.0,7500.0,1600.0,10000.0,7900.0,4000.0,7000.0,11000.0,1000.0,49000.0,36000.0,5600.0,6600.0,10000.0,4700.0,4800.0,8400.0,49000.0,77000.0,1200.0,4800.0,3900.0,3200.0,4800.0,14000.0,15000.0,4600.0,1400.0,8200.0,7800.0,9600.0,17000.0,130000.0,37000.0,1500.0,21000.0,20000.0,118000.0,4700.0,14000.0,23000.0,4600.0,15000.0,1400.0,17000.0,22000.0,1900.0,285000.0,3700.0,16000.0,25000.0,44000.0,9700.0,4500.0,15000.0,22000.0,13000.0,27000.0,46000.0,24000.0,108000.0,2700.0,11000.0,13000.0,2100.0,45000.0,16000.0,12000.0,10000.0,13000.0,4500.0,4200.0,30000.0,13000.0,27000.0,82000.0,9500.0,15000.0,44000.0,72000.0,14000.0,58000.0,48000.0,26000.0,88000.0,186000.0,12000.0,11000.0,9200.0,12000.0,18000.0,24000.0,12000.0,30000.0,52000.0,10000.0,38000.0,19000.0,274000.0,12000.0,10000.0,11000.0,234000.0,16000.0,2800.0,11000.0,14000.0,15000.0,44000.0,15000.0,1800.0,77000.0,192000.0,12000.0,12000.0,18000.0,47000.0,105000.0,149000.0,16000.0,1300.0,26000.0,34000.0,1400.0,102000.0,13000.0,2000.0,87000.0,124000.0,12000.0,1100.0,43000.0,10000.0,1500.0,372000.0,13000.0,1700.0,38000.0,9400.0,10000.0,96000.0,13000.0,30000.0,16000.0,2600.0,11000.0,32000.0,10000.0,11000.0,1100.0,10000.0,18000.0,9400.0,852.0,76000.0,9600.0,1700.0,109000.0,8300.0,862.0,456000.0,7700.0,14000.0,1900.0,98000.0,10000.0,197000.0,9800.0,946.0,7800.0,2400.0,90000.0,304000.0,13000.0,8200.0,3100.0,7200.0,14000.0,9400.0,5800.0,7700.0,5500.0,4000.0,5800.0,33000.0,53000.0,18000.0,25000.0,10000.0,11000.0,5800.0,10000.0,14000.0,66000.0,192000.0,12000.0,593000.0,8200.0,250000.0,28000.0,12000.0,17000.0,35000.0,13000.0,6500.0,6700.0,10000.0,27000.0,13000.0,12000.0,20000.0,61000.0,2800.0,2600.0,16000.0,12000.0],\"yaxis\":\"y\",\"type\":\"scattergl\"}],                        {\"template\":{\"data\":{\"histogram2dcontour\":[{\"type\":\"histogram2dcontour\",\"colorbar\":{\"outlinewidth\":0,\"ticks\":\"\"},\"colorscale\":[[0.0,\"#0d0887\"],[0.1111111111111111,\"#46039f\"],[0.2222222222222222,\"#7201a8\"],[0.3333333333333333,\"#9c179e\"],[0.4444444444444444,\"#bd3786\"],[0.5555555555555556,\"#d8576b\"],[0.6666666666666666,\"#ed7953\"],[0.7777777777777778,\"#fb9f3a\"],[0.8888888888888888,\"#fdca26\"],[1.0,\"#f0f921\"]]}],\"choropleth\":[{\"type\":\"choropleth\",\"colorbar\":{\"outlinewidth\":0,\"ticks\":\"\"}}],\"histogram2d\":[{\"type\":\"histogram2d\",\"colorbar\":{\"outlinewidth\":0,\"ticks\":\"\"},\"colorscale\":[[0.0,\"#0d0887\"],[0.1111111111111111,\"#46039f\"],[0.2222222222222222,\"#7201a8\"],[0.3333333333333333,\"#9c179e\"],[0.4444444444444444,\"#bd3786\"],[0.5555555555555556,\"#d8576b\"],[0.6666666666666666,\"#ed7953\"],[0.7777777777777778,\"#fb9f3a\"],[0.8888888888888888,\"#fdca26\"],[1.0,\"#f0f921\"]]}],\"heatmap\":[{\"type\":\"heatmap\",\"colorbar\":{\"outlinewidth\":0,\"ticks\":\"\"},\"colorscale\":[[0.0,\"#0d0887\"],[0.1111111111111111,\"#46039f\"],[0.2222222222222222,\"#7201a8\"],[0.3333333333333333,\"#9c179e\"],[0.4444444444444444,\"#bd3786\"],[0.5555555555555556,\"#d8576b\"],[0.6666666666666666,\"#ed7953\"],[0.7777777777777778,\"#fb9f3a\"],[0.8888888888888888,\"#fdca26\"],[1.0,\"#f0f921\"]]}],\"heatmapgl\":[{\"type\":\"heatmapgl\",\"colorbar\":{\"outlinewidth\":0,\"ticks\":\"\"},\"colorscale\":[[0.0,\"#0d0887\"],[0.1111111111111111,\"#46039f\"],[0.2222222222222222,\"#7201a8\"],[0.3333333333333333,\"#9c179e\"],[0.4444444444444444,\"#bd3786\"],[0.5555555555555556,\"#d8576b\"],[0.6666666666666666,\"#ed7953\"],[0.7777777777777778,\"#fb9f3a\"],[0.8888888888888888,\"#fdca26\"],[1.0,\"#f0f921\"]]}],\"contourcarpet\":[{\"type\":\"contourcarpet\",\"colorbar\":{\"outlinewidth\":0,\"ticks\":\"\"}}],\"contour\":[{\"type\":\"contour\",\"colorbar\":{\"outlinewidth\":0,\"ticks\":\"\"},\"colorscale\":[[0.0,\"#0d0887\"],[0.1111111111111111,\"#46039f\"],[0.2222222222222222,\"#7201a8\"],[0.3333333333333333,\"#9c179e\"],[0.4444444444444444,\"#bd3786\"],[0.5555555555555556,\"#d8576b\"],[0.6666666666666666,\"#ed7953\"],[0.7777777777777778,\"#fb9f3a\"],[0.8888888888888888,\"#fdca26\"],[1.0,\"#f0f921\"]]}],\"surface\":[{\"type\":\"surface\",\"colorbar\":{\"outlinewidth\":0,\"ticks\":\"\"},\"colorscale\":[[0.0,\"#0d0887\"],[0.1111111111111111,\"#46039f\"],[0.2222222222222222,\"#7201a8\"],[0.3333333333333333,\"#9c179e\"],[0.4444444444444444,\"#bd3786\"],[0.5555555555555556,\"#d8576b\"],[0.6666666666666666,\"#ed7953\"],[0.7777777777777778,\"#fb9f3a\"],[0.8888888888888888,\"#fdca26\"],[1.0,\"#f0f921\"]]}],\"mesh3d\":[{\"type\":\"mesh3d\",\"colorbar\":{\"outlinewidth\":0,\"ticks\":\"\"}}],\"scatter\":[{\"fillpattern\":{\"fillmode\":\"overlay\",\"size\":10,\"solidity\":0.2},\"type\":\"scatter\"}],\"parcoords\":[{\"type\":\"parcoords\",\"line\":{\"colorbar\":{\"outlinewidth\":0,\"ticks\":\"\"}}}],\"scatterpolargl\":[{\"type\":\"scatterpolargl\",\"marker\":{\"colorbar\":{\"outlinewidth\":0,\"ticks\":\"\"}}}],\"bar\":[{\"error_x\":{\"color\":\"#2a3f5f\"},\"error_y\":{\"color\":\"#2a3f5f\"},\"marker\":{\"line\":{\"color\":\"#E5ECF6\",\"width\":0.5},\"pattern\":{\"fillmode\":\"overlay\",\"size\":10,\"solidity\":0.2}},\"type\":\"bar\"}],\"scattergeo\":[{\"type\":\"scattergeo\",\"marker\":{\"colorbar\":{\"outlinewidth\":0,\"ticks\":\"\"}}}],\"scatterpolar\":[{\"type\":\"scatterpolar\",\"marker\":{\"colorbar\":{\"outlinewidth\":0,\"ticks\":\"\"}}}],\"histogram\":[{\"marker\":{\"pattern\":{\"fillmode\":\"overlay\",\"size\":10,\"solidity\":0.2}},\"type\":\"histogram\"}],\"scattergl\":[{\"type\":\"scattergl\",\"marker\":{\"colorbar\":{\"outlinewidth\":0,\"ticks\":\"\"}}}],\"scatter3d\":[{\"type\":\"scatter3d\",\"line\":{\"colorbar\":{\"outlinewidth\":0,\"ticks\":\"\"}},\"marker\":{\"colorbar\":{\"outlinewidth\":0,\"ticks\":\"\"}}}],\"scattermapbox\":[{\"type\":\"scattermapbox\",\"marker\":{\"colorbar\":{\"outlinewidth\":0,\"ticks\":\"\"}}}],\"scatterternary\":[{\"type\":\"scatterternary\",\"marker\":{\"colorbar\":{\"outlinewidth\":0,\"ticks\":\"\"}}}],\"scattercarpet\":[{\"type\":\"scattercarpet\",\"marker\":{\"colorbar\":{\"outlinewidth\":0,\"ticks\":\"\"}}}],\"carpet\":[{\"aaxis\":{\"endlinecolor\":\"#2a3f5f\",\"gridcolor\":\"white\",\"linecolor\":\"white\",\"minorgridcolor\":\"white\",\"startlinecolor\":\"#2a3f5f\"},\"baxis\":{\"endlinecolor\":\"#2a3f5f\",\"gridcolor\":\"white\",\"linecolor\":\"white\",\"minorgridcolor\":\"white\",\"startlinecolor\":\"#2a3f5f\"},\"type\":\"carpet\"}],\"table\":[{\"cells\":{\"fill\":{\"color\":\"#EBF0F8\"},\"line\":{\"color\":\"white\"}},\"header\":{\"fill\":{\"color\":\"#C8D4E3\"},\"line\":{\"color\":\"white\"}},\"type\":\"table\"}],\"barpolar\":[{\"marker\":{\"line\":{\"color\":\"#E5ECF6\",\"width\":0.5},\"pattern\":{\"fillmode\":\"overlay\",\"size\":10,\"solidity\":0.2}},\"type\":\"barpolar\"}],\"pie\":[{\"automargin\":true,\"type\":\"pie\"}]},\"layout\":{\"autotypenumbers\":\"strict\",\"colorway\":[\"#636efa\",\"#EF553B\",\"#00cc96\",\"#ab63fa\",\"#FFA15A\",\"#19d3f3\",\"#FF6692\",\"#B6E880\",\"#FF97FF\",\"#FECB52\"],\"font\":{\"color\":\"#2a3f5f\"},\"hovermode\":\"closest\",\"hoverlabel\":{\"align\":\"left\"},\"paper_bgcolor\":\"white\",\"plot_bgcolor\":\"#E5ECF6\",\"polar\":{\"bgcolor\":\"#E5ECF6\",\"angularaxis\":{\"gridcolor\":\"white\",\"linecolor\":\"white\",\"ticks\":\"\"},\"radialaxis\":{\"gridcolor\":\"white\",\"linecolor\":\"white\",\"ticks\":\"\"}},\"ternary\":{\"bgcolor\":\"#E5ECF6\",\"aaxis\":{\"gridcolor\":\"white\",\"linecolor\":\"white\",\"ticks\":\"\"},\"baxis\":{\"gridcolor\":\"white\",\"linecolor\":\"white\",\"ticks\":\"\"},\"caxis\":{\"gridcolor\":\"white\",\"linecolor\":\"white\",\"ticks\":\"\"}},\"coloraxis\":{\"colorbar\":{\"outlinewidth\":0,\"ticks\":\"\"}},\"colorscale\":{\"sequential\":[[0.0,\"#0d0887\"],[0.1111111111111111,\"#46039f\"],[0.2222222222222222,\"#7201a8\"],[0.3333333333333333,\"#9c179e\"],[0.4444444444444444,\"#bd3786\"],[0.5555555555555556,\"#d8576b\"],[0.6666666666666666,\"#ed7953\"],[0.7777777777777778,\"#fb9f3a\"],[0.8888888888888888,\"#fdca26\"],[1.0,\"#f0f921\"]],\"sequentialminus\":[[0.0,\"#0d0887\"],[0.1111111111111111,\"#46039f\"],[0.2222222222222222,\"#7201a8\"],[0.3333333333333333,\"#9c179e\"],[0.4444444444444444,\"#bd3786\"],[0.5555555555555556,\"#d8576b\"],[0.6666666666666666,\"#ed7953\"],[0.7777777777777778,\"#fb9f3a\"],[0.8888888888888888,\"#fdca26\"],[1.0,\"#f0f921\"]],\"diverging\":[[0,\"#8e0152\"],[0.1,\"#c51b7d\"],[0.2,\"#de77ae\"],[0.3,\"#f1b6da\"],[0.4,\"#fde0ef\"],[0.5,\"#f7f7f7\"],[0.6,\"#e6f5d0\"],[0.7,\"#b8e186\"],[0.8,\"#7fbc41\"],[0.9,\"#4d9221\"],[1,\"#276419\"]]},\"xaxis\":{\"gridcolor\":\"white\",\"linecolor\":\"white\",\"ticks\":\"\",\"title\":{\"standoff\":15},\"zerolinecolor\":\"white\",\"automargin\":true,\"zerolinewidth\":2},\"yaxis\":{\"gridcolor\":\"white\",\"linecolor\":\"white\",\"ticks\":\"\",\"title\":{\"standoff\":15},\"zerolinecolor\":\"white\",\"automargin\":true,\"zerolinewidth\":2},\"scene\":{\"xaxis\":{\"backgroundcolor\":\"#E5ECF6\",\"gridcolor\":\"white\",\"linecolor\":\"white\",\"showbackground\":true,\"ticks\":\"\",\"zerolinecolor\":\"white\",\"gridwidth\":2},\"yaxis\":{\"backgroundcolor\":\"#E5ECF6\",\"gridcolor\":\"white\",\"linecolor\":\"white\",\"showbackground\":true,\"ticks\":\"\",\"zerolinecolor\":\"white\",\"gridwidth\":2},\"zaxis\":{\"backgroundcolor\":\"#E5ECF6\",\"gridcolor\":\"white\",\"linecolor\":\"white\",\"showbackground\":true,\"ticks\":\"\",\"zerolinecolor\":\"white\",\"gridwidth\":2}},\"shapedefaults\":{\"line\":{\"color\":\"#2a3f5f\"}},\"annotationdefaults\":{\"arrowcolor\":\"#2a3f5f\",\"arrowhead\":0,\"arrowwidth\":1},\"geo\":{\"bgcolor\":\"white\",\"landcolor\":\"#E5ECF6\",\"subunitcolor\":\"white\",\"showland\":true,\"showlakes\":true,\"lakecolor\":\"white\"},\"title\":{\"x\":0.05},\"mapbox\":{\"style\":\"light\"}}},\"xaxis\":{\"anchor\":\"y\",\"domain\":[0.0,1.0],\"title\":{\"text\":\"Posted On\"}},\"yaxis\":{\"anchor\":\"x\",\"domain\":[0.0,1.0],\"title\":{\"text\":\"# of views per episode\"}},\"legend\":{\"tracegroupgap\":0},\"margin\":{\"t\":60},\"title\":{\"text\":\"Podcast and Chill Network\"},\"updatemenus\":[{\"buttons\":[{\"args\":[\"type\",\"scatter\"],\"label\":\"Scatter Plot\",\"method\":\"restyle\"}],\"direction\":\"left\",\"type\":\"buttons\"}]},                        {\"responsive\": true}                    ).then(function(){\n",
       "                            \n",
       "var gd = document.getElementById('5e2c8428-c60a-4f76-b56c-9e4ecbcdd816');\n",
       "var x = new MutationObserver(function (mutations, observer) {{\n",
       "        var display = window.getComputedStyle(gd).display;\n",
       "        if (!display || display === 'none') {{\n",
       "            console.log([gd, 'removed!']);\n",
       "            Plotly.purge(gd);\n",
       "            observer.disconnect();\n",
       "        }}\n",
       "}});\n",
       "\n",
       "// Listen for the removal of the full notebook cells\n",
       "var notebookContainer = gd.closest('#notebook-container');\n",
       "if (notebookContainer) {{\n",
       "    x.observe(notebookContainer, {childList: true});\n",
       "}}\n",
       "\n",
       "// Listen for the clearing of the current output cell\n",
       "var outputEl = gd.closest('.output');\n",
       "if (outputEl) {{\n",
       "    x.observe(outputEl, {childList: true});\n",
       "}}\n",
       "\n",
       "                        })                };                });            </script>        </div>"
      ]
     },
     "metadata": {},
     "output_type": "display_data"
    }
   ],
   "source": [
    "# reading the database\n",
    "data = pd.read_csv(\"Output Files/podcastandchillnetwork_Podcast.csv\")\n",
    "\n",
    "plot = px.scatter(\n",
    "    x=data['posted'],\n",
    "    y=data['views'],\n",
    ")\n",
    " \n",
    "# Add dropdown\n",
    "plot.update_layout(\n",
    "\n",
    "    title=\"Podcast and Chill Network\",\n",
    "    xaxis_title=\"Posted On\",\n",
    "    yaxis_title=\"# of views per episode\",\n",
    "    \n",
    "    updatemenus=[\n",
    "        dict(\n",
    "            type=\"buttons\",\n",
    "            direction=\"left\",\n",
    "            buttons=list([\n",
    "                dict(\n",
    "                    args=[\"type\", \"scatter\"],\n",
    "                    label=\"Scatter Plot\",\n",
    "                    method=\"restyle\"\n",
    "                ),\n",
    "            ]),\n",
    "        ),\n",
    "    ]\n",
    ")\n",
    "\n",
    "plot.show()"
   ]
  },
  {
   "cell_type": "code",
   "execution_count": 108,
   "id": "f615af8f-7de1-4d14-8c64-b61bbf299ed8",
   "metadata": {},
   "outputs": [
    {
     "data": {
      "application/vnd.plotly.v1+json": {
       "config": {
        "plotlyServerURL": "https://plot.ly"
       },
       "data": [
        {
         "hovertemplate": "x=%{x}<br>y=%{y}<extra></extra>",
         "legendgroup": "",
         "marker": {
          "color": "#636efa",
          "colors": "#636efa",
          "symbol": "circle"
         },
         "mode": "markers",
         "name": "",
         "orientation": "v",
         "showlegend": false,
         "type": "scatter",
         "x": [
          "1 day ",
          "3 days ",
          "7 days ",
          "8 days ",
          "10 days ",
          "2 weeks ",
          "4 weeks ",
          "1 month ",
          "1 month ",
          "1 month ",
          "1 month ",
          "1 month ",
          "1 month ",
          "2 months ",
          "2 months ",
          "2 months ",
          "2 months ",
          "2 months ",
          "2 months ",
          "2 months ",
          "2 months ",
          "3 months ",
          "3 months ",
          "3 months ",
          "3 months ",
          "3 months ",
          "3 months ",
          "3 months ",
          "3 months ",
          "3 months ",
          "3 months ",
          "4 months ",
          "4 months ",
          "4 months ",
          "4 months ",
          "4 months ",
          "4 months ",
          "4 months ",
          "4 months ",
          "4 months ",
          "4 months ",
          "5 months ",
          "5 months ",
          "5 months ",
          "5 months ",
          "5 months ",
          "5 months ",
          "5 months ",
          "5 months ",
          "5 months ",
          "5 months ",
          "6 months ",
          "6 months ",
          "6 months ",
          "6 months ",
          "6 months ",
          "6 months ",
          "6 months ",
          "6 months ",
          "6 months ",
          "6 months ",
          "6 months ",
          "6 months ",
          "6 months ",
          "6 months ",
          "6 months ",
          "6 months ",
          "6 months ",
          "7 months ",
          "7 months ",
          "7 months ",
          "7 months ",
          "7 months ",
          "7 months ",
          "7 months ",
          "7 months ",
          "7 months ",
          "7 months ",
          "7 months ",
          "7 months ",
          "7 months ",
          "7 months ",
          "7 months ",
          "7 months ",
          "8 months ",
          "8 months ",
          "8 months ",
          "8 months ",
          "8 months ",
          "8 months ",
          "8 months ",
          "8 months ",
          "8 months ",
          "8 months ",
          "8 months ",
          "9 months ",
          "9 months ",
          "9 months ",
          "9 months ",
          "9 months ",
          "9 months ",
          "10 months ",
          "10 months ",
          "10 months ",
          "11 months ",
          "11 months ",
          "11 months ",
          "11 months ",
          "11 months ",
          "11 months ",
          "1 year ",
          "1 year ",
          "1 year ",
          "1 year ",
          "1 year ",
          "1 year ",
          "1 year ",
          "1 year ",
          "1 year ",
          "1 year ",
          "1 year ",
          "1 year ",
          "1 year ",
          "1 year ",
          "1 year ",
          "1 year ",
          "1 year ",
          "1 year ",
          "1 year ",
          "1 year ",
          "1 year ",
          "1 year ",
          "1 year ",
          "1 year ",
          "1 year ",
          "1 year ",
          "1 year ",
          "1 year ",
          "1 year ",
          "1 year ",
          "1 year ",
          "1 year ",
          "1 year ",
          "1 year ",
          "1 year ",
          "1 year ",
          "1 year ",
          "1 year ",
          "1 year ",
          "1 year ",
          "1 year ",
          "1 year ",
          "1 year ",
          "1 year ",
          "1 year ",
          "1 year ",
          "1 year ",
          "1 year ",
          "1 year ",
          "1 year ",
          "1 year ",
          "1 year ",
          "1 year ",
          "1 year ",
          "1 year ",
          "1 year ",
          "1 year ",
          "1 year ",
          "1 year ",
          "1 year ",
          "1 year ",
          "1 year ",
          "1 year ",
          "1 year ",
          "1 year ",
          "1 year ",
          "1 year ",
          "1 year ",
          "1 year ",
          "1 year ",
          "1 year ",
          "1 year ",
          "1 year ",
          "1 year ",
          "1 year ",
          "1 year ",
          "1 year ",
          "1 year ",
          "1 year ",
          "1 year ",
          "1 year ",
          "1 year ",
          "1 year ",
          "1 year ",
          "1 year ",
          "1 year ",
          "1 year ",
          "1 year ",
          "1 year ",
          "1 year ",
          "1 year ",
          "2 years ",
          "2 years ",
          "2 years ",
          "2 years ",
          "2 years ",
          "2 years ",
          "2 years ",
          "2 years ",
          "2 years ",
          "2 years ",
          "2 years ",
          "2 years ",
          "2 years ",
          "2 years ",
          "2 years ",
          "2 years ",
          "2 years ",
          "2 years ",
          "2 years ",
          "2 years ",
          "2 years ",
          "2 years ",
          "2 years ",
          "2 years ",
          "2 years ",
          "2 years ",
          "2 years ",
          "2 years ",
          "2 years ",
          "2 years ",
          "2 years ",
          "2 years ",
          "2 years ",
          "2 years ",
          "2 years ",
          "2 years ",
          "2 years ",
          "2 years ",
          "2 years ",
          "2 years ",
          "2 years ",
          "2 years ",
          "2 years ",
          "2 years ",
          "2 years ",
          "2 years ",
          "2 years ",
          "2 years ",
          "2 years ",
          "2 years ",
          "2 years ",
          "2 years ",
          "2 years ",
          "2 years ",
          "2 years ",
          "2 years ",
          "2 years ",
          "2 years ",
          "2 years ",
          "2 years ",
          "2 years ",
          "2 years ",
          "2 years ",
          "2 years ",
          "2 years ",
          "2 years ",
          "2 years ",
          "2 years ",
          "2 years ",
          "2 years ",
          "2 years ",
          "2 years ",
          "2 years ",
          "2 years ",
          "2 years ",
          "2 years ",
          "2 years ",
          "2 years ",
          "2 years ",
          "2 years ",
          "2 years ",
          "2 years ",
          "3 years ",
          "3 years ",
          "3 years ",
          "3 years ",
          "3 years ",
          "3 years ",
          "3 years ",
          "3 years ",
          "3 years ",
          "3 years ",
          "3 years ",
          "3 years ",
          "3 years ",
          "3 years ",
          "3 years ",
          "3 years ",
          "3 years ",
          "3 years ",
          "3 years ",
          "3 years ",
          "3 years ",
          "3 years ",
          "3 years ",
          "3 years ",
          "3 years ",
          "3 years ",
          "3 years ",
          "3 years ",
          "3 years ",
          "3 years ",
          "3 years ",
          "3 years ",
          "3 years ",
          "3 years ",
          "3 years ",
          "4 years ",
          "4 years ",
          "4 years ",
          "4 years ",
          "4 years ",
          "4 years ",
          "4 years ",
          "4 years "
         ],
         "xaxis": "x",
         "y": [
          12000,
          7200,
          3300,
          18000,
          28000,
          59000,
          138000,
          27000,
          388000,
          5300,
          24000,
          12000,
          63000,
          120000,
          25000,
          32000,
          44000,
          24000,
          20000,
          61000,
          26000,
          91000,
          19000,
          91000,
          55000,
          34000,
          10000,
          74000,
          196000,
          118000,
          160000,
          75000,
          24000,
          129000,
          55000,
          10000,
          181000,
          24000,
          132000,
          34000,
          3200,
          18000,
          8300,
          148000,
          41000,
          135000,
          201000,
          99000,
          14000,
          104000,
          50000,
          55000,
          7200,
          268000,
          178000,
          36000,
          78000,
          63000,
          6900,
          5000,
          3000,
          2700,
          6300,
          5000,
          31000,
          31000,
          27000,
          88000,
          39000,
          41000,
          74000,
          79000,
          160000,
          12000,
          6600,
          19000,
          7900,
          64000,
          8900,
          11000,
          4400,
          58000,
          4800,
          6700,
          297000,
          11000,
          106000,
          31000,
          8100,
          64000,
          8400,
          24000,
          64000,
          87000,
          241000,
          20000,
          26000,
          167000,
          157000,
          85000,
          187000,
          52000,
          137000,
          247000,
          50000,
          62000,
          244000,
          33000,
          136000,
          764000,
          433000,
          13000,
          141000,
          143000,
          36000,
          137000,
          977000,
          24000,
          15000,
          101000,
          23000,
          33000,
          116000,
          102000,
          119000,
          18000,
          119000,
          46000,
          32000,
          22000,
          9100,
          28000,
          198000,
          323000,
          22000,
          29000,
          154000,
          78000,
          131000,
          151000,
          211000,
          27000,
          237000,
          221000,
          86000,
          205000,
          1100000,
          150000,
          41000,
          295000,
          133000,
          176000,
          152000,
          52000,
          40000,
          52000,
          16000,
          73000,
          5500,
          48000,
          29000,
          59000,
          129000,
          79000,
          460000,
          72000,
          904000,
          79000,
          84000,
          283000,
          67000,
          42000,
          31000,
          29000,
          29000,
          338000,
          182000,
          971000,
          345000,
          579000,
          28000,
          269000,
          81000,
          18000,
          16000,
          26000,
          92000,
          9700,
          10000,
          337000,
          88000,
          46000,
          2900,
          172000,
          163000,
          22000,
          135000,
          23000,
          11000,
          1400000,
          254000,
          67000,
          364000,
          348000,
          21000,
          97000,
          264000,
          13000,
          12000,
          68000,
          47000,
          5900,
          69000,
          11000,
          177000,
          5200,
          259000,
          12000,
          204000,
          30000,
          141000,
          5900,
          16000,
          41000,
          16000,
          11000,
          5100,
          5000,
          4200,
          2200,
          1500,
          85000,
          179000,
          113000,
          3600,
          41000,
          24000,
          34000,
          27000,
          36000,
          36000,
          63000,
          20000,
          57000,
          92000,
          61000,
          51000,
          135000,
          168000,
          700,
          528,
          827,
          575,
          480,
          18000,
          322000,
          231000,
          55000,
          1000,
          723,
          1000,
          523,
          370,
          19000,
          45000,
          38000,
          171000,
          88000,
          99000,
          165000,
          32000,
          97000,
          120000,
          38000,
          71000,
          114000,
          84000,
          51000,
          36000,
          117000,
          109000,
          142000,
          62000,
          494000,
          573,
          10000,
          14000,
          88000,
          4200,
          33000,
          174000,
          119000,
          19000,
          3100,
          6400,
          1600,
          102000,
          1400,
          1600,
          88000,
          2600,
          42000,
          4000,
          20000,
          4300,
          84000,
          10000,
          96000,
          917000,
          32000,
          3000,
          103000,
          25000,
          24000,
          3700,
          6000,
          20000,
          11000,
          6500,
          3200,
          3300,
          12000,
          1800,
          4200,
          8700,
          11000
         ],
         "yaxis": "y"
        }
       ],
       "layout": {
        "autosize": true,
        "legend": {
         "tracegroupgap": 0
        },
        "margin": {
         "t": 60
        },
        "template": {
         "data": {
          "bar": [
           {
            "error_x": {
             "color": "#2a3f5f"
            },
            "error_y": {
             "color": "#2a3f5f"
            },
            "marker": {
             "line": {
              "color": "#E5ECF6",
              "width": 0.5
             },
             "pattern": {
              "fillmode": "overlay",
              "size": 10,
              "solidity": 0.2
             }
            },
            "type": "bar"
           }
          ],
          "barpolar": [
           {
            "marker": {
             "line": {
              "color": "#E5ECF6",
              "width": 0.5
             },
             "pattern": {
              "fillmode": "overlay",
              "size": 10,
              "solidity": 0.2
             }
            },
            "type": "barpolar"
           }
          ],
          "carpet": [
           {
            "aaxis": {
             "endlinecolor": "#2a3f5f",
             "gridcolor": "white",
             "linecolor": "white",
             "minorgridcolor": "white",
             "startlinecolor": "#2a3f5f"
            },
            "baxis": {
             "endlinecolor": "#2a3f5f",
             "gridcolor": "white",
             "linecolor": "white",
             "minorgridcolor": "white",
             "startlinecolor": "#2a3f5f"
            },
            "type": "carpet"
           }
          ],
          "choropleth": [
           {
            "colorbar": {
             "outlinewidth": 0,
             "ticks": ""
            },
            "type": "choropleth"
           }
          ],
          "contour": [
           {
            "colorbar": {
             "outlinewidth": 0,
             "ticks": ""
            },
            "colorscale": [
             [
              0,
              "#0d0887"
             ],
             [
              0.1111111111111111,
              "#46039f"
             ],
             [
              0.2222222222222222,
              "#7201a8"
             ],
             [
              0.3333333333333333,
              "#9c179e"
             ],
             [
              0.4444444444444444,
              "#bd3786"
             ],
             [
              0.5555555555555556,
              "#d8576b"
             ],
             [
              0.6666666666666666,
              "#ed7953"
             ],
             [
              0.7777777777777778,
              "#fb9f3a"
             ],
             [
              0.8888888888888888,
              "#fdca26"
             ],
             [
              1,
              "#f0f921"
             ]
            ],
            "type": "contour"
           }
          ],
          "contourcarpet": [
           {
            "colorbar": {
             "outlinewidth": 0,
             "ticks": ""
            },
            "type": "contourcarpet"
           }
          ],
          "heatmap": [
           {
            "colorbar": {
             "outlinewidth": 0,
             "ticks": ""
            },
            "colorscale": [
             [
              0,
              "#0d0887"
             ],
             [
              0.1111111111111111,
              "#46039f"
             ],
             [
              0.2222222222222222,
              "#7201a8"
             ],
             [
              0.3333333333333333,
              "#9c179e"
             ],
             [
              0.4444444444444444,
              "#bd3786"
             ],
             [
              0.5555555555555556,
              "#d8576b"
             ],
             [
              0.6666666666666666,
              "#ed7953"
             ],
             [
              0.7777777777777778,
              "#fb9f3a"
             ],
             [
              0.8888888888888888,
              "#fdca26"
             ],
             [
              1,
              "#f0f921"
             ]
            ],
            "type": "heatmap"
           }
          ],
          "heatmapgl": [
           {
            "colorbar": {
             "outlinewidth": 0,
             "ticks": ""
            },
            "colorscale": [
             [
              0,
              "#0d0887"
             ],
             [
              0.1111111111111111,
              "#46039f"
             ],
             [
              0.2222222222222222,
              "#7201a8"
             ],
             [
              0.3333333333333333,
              "#9c179e"
             ],
             [
              0.4444444444444444,
              "#bd3786"
             ],
             [
              0.5555555555555556,
              "#d8576b"
             ],
             [
              0.6666666666666666,
              "#ed7953"
             ],
             [
              0.7777777777777778,
              "#fb9f3a"
             ],
             [
              0.8888888888888888,
              "#fdca26"
             ],
             [
              1,
              "#f0f921"
             ]
            ],
            "type": "heatmapgl"
           }
          ],
          "histogram": [
           {
            "marker": {
             "pattern": {
              "fillmode": "overlay",
              "size": 10,
              "solidity": 0.2
             }
            },
            "type": "histogram"
           }
          ],
          "histogram2d": [
           {
            "colorbar": {
             "outlinewidth": 0,
             "ticks": ""
            },
            "colorscale": [
             [
              0,
              "#0d0887"
             ],
             [
              0.1111111111111111,
              "#46039f"
             ],
             [
              0.2222222222222222,
              "#7201a8"
             ],
             [
              0.3333333333333333,
              "#9c179e"
             ],
             [
              0.4444444444444444,
              "#bd3786"
             ],
             [
              0.5555555555555556,
              "#d8576b"
             ],
             [
              0.6666666666666666,
              "#ed7953"
             ],
             [
              0.7777777777777778,
              "#fb9f3a"
             ],
             [
              0.8888888888888888,
              "#fdca26"
             ],
             [
              1,
              "#f0f921"
             ]
            ],
            "type": "histogram2d"
           }
          ],
          "histogram2dcontour": [
           {
            "colorbar": {
             "outlinewidth": 0,
             "ticks": ""
            },
            "colorscale": [
             [
              0,
              "#0d0887"
             ],
             [
              0.1111111111111111,
              "#46039f"
             ],
             [
              0.2222222222222222,
              "#7201a8"
             ],
             [
              0.3333333333333333,
              "#9c179e"
             ],
             [
              0.4444444444444444,
              "#bd3786"
             ],
             [
              0.5555555555555556,
              "#d8576b"
             ],
             [
              0.6666666666666666,
              "#ed7953"
             ],
             [
              0.7777777777777778,
              "#fb9f3a"
             ],
             [
              0.8888888888888888,
              "#fdca26"
             ],
             [
              1,
              "#f0f921"
             ]
            ],
            "type": "histogram2dcontour"
           }
          ],
          "mesh3d": [
           {
            "colorbar": {
             "outlinewidth": 0,
             "ticks": ""
            },
            "type": "mesh3d"
           }
          ],
          "parcoords": [
           {
            "line": {
             "colorbar": {
              "outlinewidth": 0,
              "ticks": ""
             }
            },
            "type": "parcoords"
           }
          ],
          "pie": [
           {
            "automargin": true,
            "type": "pie"
           }
          ],
          "scatter": [
           {
            "fillpattern": {
             "fillmode": "overlay",
             "size": 10,
             "solidity": 0.2
            },
            "type": "scatter"
           }
          ],
          "scatter3d": [
           {
            "line": {
             "colorbar": {
              "outlinewidth": 0,
              "ticks": ""
             }
            },
            "marker": {
             "colorbar": {
              "outlinewidth": 0,
              "ticks": ""
             }
            },
            "type": "scatter3d"
           }
          ],
          "scattercarpet": [
           {
            "marker": {
             "colorbar": {
              "outlinewidth": 0,
              "ticks": ""
             }
            },
            "type": "scattercarpet"
           }
          ],
          "scattergeo": [
           {
            "marker": {
             "colorbar": {
              "outlinewidth": 0,
              "ticks": ""
             }
            },
            "type": "scattergeo"
           }
          ],
          "scattergl": [
           {
            "marker": {
             "colorbar": {
              "outlinewidth": 0,
              "ticks": ""
             }
            },
            "type": "scattergl"
           }
          ],
          "scattermapbox": [
           {
            "marker": {
             "colorbar": {
              "outlinewidth": 0,
              "ticks": ""
             }
            },
            "type": "scattermapbox"
           }
          ],
          "scatterpolar": [
           {
            "marker": {
             "colorbar": {
              "outlinewidth": 0,
              "ticks": ""
             }
            },
            "type": "scatterpolar"
           }
          ],
          "scatterpolargl": [
           {
            "marker": {
             "colorbar": {
              "outlinewidth": 0,
              "ticks": ""
             }
            },
            "type": "scatterpolargl"
           }
          ],
          "scatterternary": [
           {
            "marker": {
             "colorbar": {
              "outlinewidth": 0,
              "ticks": ""
             }
            },
            "type": "scatterternary"
           }
          ],
          "surface": [
           {
            "colorbar": {
             "outlinewidth": 0,
             "ticks": ""
            },
            "colorscale": [
             [
              0,
              "#0d0887"
             ],
             [
              0.1111111111111111,
              "#46039f"
             ],
             [
              0.2222222222222222,
              "#7201a8"
             ],
             [
              0.3333333333333333,
              "#9c179e"
             ],
             [
              0.4444444444444444,
              "#bd3786"
             ],
             [
              0.5555555555555556,
              "#d8576b"
             ],
             [
              0.6666666666666666,
              "#ed7953"
             ],
             [
              0.7777777777777778,
              "#fb9f3a"
             ],
             [
              0.8888888888888888,
              "#fdca26"
             ],
             [
              1,
              "#f0f921"
             ]
            ],
            "type": "surface"
           }
          ],
          "table": [
           {
            "cells": {
             "fill": {
              "color": "#EBF0F8"
             },
             "line": {
              "color": "white"
             }
            },
            "header": {
             "fill": {
              "color": "#C8D4E3"
             },
             "line": {
              "color": "white"
             }
            },
            "type": "table"
           }
          ]
         },
         "layout": {
          "annotationdefaults": {
           "arrowcolor": "#2a3f5f",
           "arrowhead": 0,
           "arrowwidth": 1
          },
          "autotypenumbers": "strict",
          "coloraxis": {
           "colorbar": {
            "outlinewidth": 0,
            "ticks": ""
           }
          },
          "colorscale": {
           "diverging": [
            [
             0,
             "#8e0152"
            ],
            [
             0.1,
             "#c51b7d"
            ],
            [
             0.2,
             "#de77ae"
            ],
            [
             0.3,
             "#f1b6da"
            ],
            [
             0.4,
             "#fde0ef"
            ],
            [
             0.5,
             "#f7f7f7"
            ],
            [
             0.6,
             "#e6f5d0"
            ],
            [
             0.7,
             "#b8e186"
            ],
            [
             0.8,
             "#7fbc41"
            ],
            [
             0.9,
             "#4d9221"
            ],
            [
             1,
             "#276419"
            ]
           ],
           "sequential": [
            [
             0,
             "#0d0887"
            ],
            [
             0.1111111111111111,
             "#46039f"
            ],
            [
             0.2222222222222222,
             "#7201a8"
            ],
            [
             0.3333333333333333,
             "#9c179e"
            ],
            [
             0.4444444444444444,
             "#bd3786"
            ],
            [
             0.5555555555555556,
             "#d8576b"
            ],
            [
             0.6666666666666666,
             "#ed7953"
            ],
            [
             0.7777777777777778,
             "#fb9f3a"
            ],
            [
             0.8888888888888888,
             "#fdca26"
            ],
            [
             1,
             "#f0f921"
            ]
           ],
           "sequentialminus": [
            [
             0,
             "#0d0887"
            ],
            [
             0.1111111111111111,
             "#46039f"
            ],
            [
             0.2222222222222222,
             "#7201a8"
            ],
            [
             0.3333333333333333,
             "#9c179e"
            ],
            [
             0.4444444444444444,
             "#bd3786"
            ],
            [
             0.5555555555555556,
             "#d8576b"
            ],
            [
             0.6666666666666666,
             "#ed7953"
            ],
            [
             0.7777777777777778,
             "#fb9f3a"
            ],
            [
             0.8888888888888888,
             "#fdca26"
            ],
            [
             1,
             "#f0f921"
            ]
           ]
          },
          "colorway": [
           "#636efa",
           "#EF553B",
           "#00cc96",
           "#ab63fa",
           "#FFA15A",
           "#19d3f3",
           "#FF6692",
           "#B6E880",
           "#FF97FF",
           "#FECB52"
          ],
          "font": {
           "color": "#2a3f5f"
          },
          "geo": {
           "bgcolor": "white",
           "lakecolor": "white",
           "landcolor": "#E5ECF6",
           "showlakes": true,
           "showland": true,
           "subunitcolor": "white"
          },
          "hoverlabel": {
           "align": "left"
          },
          "hovermode": "closest",
          "mapbox": {
           "style": "light"
          },
          "paper_bgcolor": "white",
          "plot_bgcolor": "#E5ECF6",
          "polar": {
           "angularaxis": {
            "gridcolor": "white",
            "linecolor": "white",
            "ticks": ""
           },
           "bgcolor": "#E5ECF6",
           "radialaxis": {
            "gridcolor": "white",
            "linecolor": "white",
            "ticks": ""
           }
          },
          "scene": {
           "xaxis": {
            "backgroundcolor": "#E5ECF6",
            "gridcolor": "white",
            "gridwidth": 2,
            "linecolor": "white",
            "showbackground": true,
            "ticks": "",
            "zerolinecolor": "white"
           },
           "yaxis": {
            "backgroundcolor": "#E5ECF6",
            "gridcolor": "white",
            "gridwidth": 2,
            "linecolor": "white",
            "showbackground": true,
            "ticks": "",
            "zerolinecolor": "white"
           },
           "zaxis": {
            "backgroundcolor": "#E5ECF6",
            "gridcolor": "white",
            "gridwidth": 2,
            "linecolor": "white",
            "showbackground": true,
            "ticks": "",
            "zerolinecolor": "white"
           }
          },
          "shapedefaults": {
           "line": {
            "color": "#2a3f5f"
           }
          },
          "ternary": {
           "aaxis": {
            "gridcolor": "white",
            "linecolor": "white",
            "ticks": ""
           },
           "baxis": {
            "gridcolor": "white",
            "linecolor": "white",
            "ticks": ""
           },
           "bgcolor": "#E5ECF6",
           "caxis": {
            "gridcolor": "white",
            "linecolor": "white",
            "ticks": ""
           }
          },
          "title": {
           "x": 0.05
          },
          "xaxis": {
           "automargin": true,
           "gridcolor": "white",
           "linecolor": "white",
           "ticks": "",
           "title": {
            "standoff": 15
           },
           "zerolinecolor": "white",
           "zerolinewidth": 2
          },
          "yaxis": {
           "automargin": true,
           "gridcolor": "white",
           "linecolor": "white",
           "ticks": "",
           "title": {
            "standoff": 15
           },
           "zerolinecolor": "white",
           "zerolinewidth": 2
          }
         }
        },
        "title": {
         "text": "King David Studio1"
        },
        "updatemenus": [
         {
          "active": 0,
          "buttons": [
           {
            "args": [
             "type",
             "scatter"
            ],
            "label": "Scatter Plot",
            "method": "restyle"
           },
           {
            "args": [
             "type",
             "pie"
            ],
            "label": "Pie Chart ",
            "method": "restyle"
           }
          ],
          "direction": "down"
         }
        ],
        "xaxis": {
         "anchor": "y",
         "autorange": true,
         "domain": [
          0,
          1
         ],
         "range": [
          -1.2812254516889239,
          22.281225451688925
         ],
         "title": {
          "text": "Posted On"
         },
         "type": "category"
        },
        "yaxis": {
         "anchor": "x",
         "autorange": true,
         "domain": [
          0,
          1
         ],
         "range": [
          -108740.94086021505,
          1509110.940860215
         ],
         "title": {
          "text": "# of views per episode"
         },
         "type": "linear"
        }
       }
      },
      "image/png": "[encoded data removed]",
      "text/html": [
       "<div>                            <div id=\"6d93f3d8-c6ad-4449-85d9-d38c7bd5669a\" class=\"plotly-graph-div\" style=\"height:525px; width:100%;\"></div>            <script type=\"text/javascript\">                require([\"plotly\"], function(Plotly) {                    window.PLOTLYENV=window.PLOTLYENV || {};                                    if (document.getElementById(\"6d93f3d8-c6ad-4449-85d9-d38c7bd5669a\")) {                    Plotly.newPlot(                        \"6d93f3d8-c6ad-4449-85d9-d38c7bd5669a\",                        [{\"hovertemplate\":\"x=%{x}\\u003cbr\\u003ey=%{y}\\u003cextra\\u003e\\u003c\\u002fextra\\u003e\",\"legendgroup\":\"\",\"marker\":{\"color\":\"#636efa\",\"symbol\":\"circle\"},\"mode\":\"markers\",\"name\":\"\",\"orientation\":\"v\",\"showlegend\":false,\"x\":[\"1 day \",\"3 days \",\"7 days \",\"8 days \",\"10 days \",\"2 weeks \",\"4 weeks \",\"1 month \",\"1 month \",\"1 month \",\"1 month \",\"1 month \",\"1 month \",\"2 months \",\"2 months \",\"2 months \",\"2 months \",\"2 months \",\"2 months \",\"2 months \",\"2 months \",\"3 months \",\"3 months \",\"3 months \",\"3 months \",\"3 months \",\"3 months \",\"3 months \",\"3 months \",\"3 months \",\"3 months \",\"4 months \",\"4 months \",\"4 months \",\"4 months \",\"4 months \",\"4 months \",\"4 months \",\"4 months \",\"4 months \",\"4 months \",\"5 months \",\"5 months \",\"5 months \",\"5 months \",\"5 months \",\"5 months \",\"5 months \",\"5 months \",\"5 months \",\"5 months \",\"6 months \",\"6 months \",\"6 months \",\"6 months \",\"6 months \",\"6 months \",\"6 months \",\"6 months \",\"6 months \",\"6 months \",\"6 months \",\"6 months \",\"6 months \",\"6 months \",\"6 months \",\"6 months \",\"6 months \",\"7 months \",\"7 months \",\"7 months \",\"7 months \",\"7 months \",\"7 months \",\"7 months \",\"7 months \",\"7 months \",\"7 months \",\"7 months \",\"7 months \",\"7 months \",\"7 months \",\"7 months \",\"7 months \",\"8 months \",\"8 months \",\"8 months \",\"8 months \",\"8 months \",\"8 months \",\"8 months \",\"8 months \",\"8 months \",\"8 months \",\"8 months \",\"9 months \",\"9 months \",\"9 months \",\"9 months \",\"9 months \",\"9 months \",\"10 months \",\"10 months \",\"10 months \",\"11 months \",\"11 months \",\"11 months \",\"11 months \",\"11 months \",\"11 months \",\"1 year \",\"1 year \",\"1 year \",\"1 year \",\"1 year \",\"1 year \",\"1 year \",\"1 year \",\"1 year \",\"1 year \",\"1 year \",\"1 year \",\"1 year \",\"1 year \",\"1 year \",\"1 year \",\"1 year \",\"1 year \",\"1 year \",\"1 year \",\"1 year \",\"1 year \",\"1 year \",\"1 year \",\"1 year \",\"1 year \",\"1 year \",\"1 year \",\"1 year \",\"1 year \",\"1 year \",\"1 year \",\"1 year \",\"1 year \",\"1 year \",\"1 year \",\"1 year \",\"1 year \",\"1 year \",\"1 year \",\"1 year \",\"1 year \",\"1 year \",\"1 year \",\"1 year \",\"1 year \",\"1 year \",\"1 year \",\"1 year \",\"1 year \",\"1 year \",\"1 year \",\"1 year \",\"1 year \",\"1 year \",\"1 year \",\"1 year \",\"1 year \",\"1 year \",\"1 year \",\"1 year \",\"1 year \",\"1 year \",\"1 year \",\"1 year \",\"1 year \",\"1 year \",\"1 year \",\"1 year \",\"1 year \",\"1 year \",\"1 year \",\"1 year \",\"1 year \",\"1 year \",\"1 year \",\"1 year \",\"1 year \",\"1 year \",\"1 year \",\"1 year \",\"1 year \",\"1 year \",\"1 year \",\"1 year \",\"1 year \",\"1 year \",\"1 year \",\"1 year \",\"1 year \",\"1 year \",\"2 years \",\"2 years \",\"2 years \",\"2 years \",\"2 years \",\"2 years \",\"2 years \",\"2 years \",\"2 years \",\"2 years \",\"2 years \",\"2 years \",\"2 years \",\"2 years \",\"2 years \",\"2 years \",\"2 years \",\"2 years \",\"2 years \",\"2 years \",\"2 years \",\"2 years \",\"2 years \",\"2 years \",\"2 years \",\"2 years \",\"2 years \",\"2 years \",\"2 years \",\"2 years \",\"2 years \",\"2 years \",\"2 years \",\"2 years \",\"2 years \",\"2 years \",\"2 years \",\"2 years \",\"2 years \",\"2 years \",\"2 years \",\"2 years \",\"2 years \",\"2 years \",\"2 years \",\"2 years \",\"2 years \",\"2 years \",\"2 years \",\"2 years \",\"2 years \",\"2 years \",\"2 years \",\"2 years \",\"2 years \",\"2 years \",\"2 years \",\"2 years \",\"2 years \",\"2 years \",\"2 years \",\"2 years \",\"2 years \",\"2 years \",\"2 years \",\"2 years \",\"2 years \",\"2 years \",\"2 years \",\"2 years \",\"2 years \",\"2 years \",\"2 years \",\"2 years \",\"2 years \",\"2 years \",\"2 years \",\"2 years \",\"2 years \",\"2 years \",\"2 years \",\"2 years \",\"3 years \",\"3 years \",\"3 years \",\"3 years \",\"3 years \",\"3 years \",\"3 years \",\"3 years \",\"3 years \",\"3 years \",\"3 years \",\"3 years \",\"3 years \",\"3 years \",\"3 years \",\"3 years \",\"3 years \",\"3 years \",\"3 years \",\"3 years \",\"3 years \",\"3 years \",\"3 years \",\"3 years \",\"3 years \",\"3 years \",\"3 years \",\"3 years \",\"3 years \",\"3 years \",\"3 years \",\"3 years \",\"3 years \",\"3 years \",\"3 years \",\"4 years \",\"4 years \",\"4 years \",\"4 years \",\"4 years \",\"4 years \",\"4 years \",\"4 years \"],\"xaxis\":\"x\",\"y\":[12000.0,7200.0,3300.0,18000.0,28000.0,59000.0,138000.0,27000.0,388000.0,5300.0,24000.0,12000.0,63000.0,120000.0,25000.0,32000.0,44000.0,24000.0,20000.0,61000.0,26000.0,91000.0,19000.0,91000.0,55000.0,34000.0,10000.0,74000.0,196000.0,118000.0,160000.0,75000.0,24000.0,129000.0,55000.0,10000.0,181000.0,24000.0,132000.0,34000.0,3200.0,18000.0,8300.0,148000.0,41000.0,135000.0,201000.0,99000.0,14000.0,104000.0,50000.0,55000.0,7200.0,268000.0,178000.0,36000.0,78000.0,63000.0,6900.0,5000.0,3000.0,2700.0,6300.0,5000.0,31000.0,31000.0,27000.0,88000.0,39000.0,41000.0,74000.0,79000.0,160000.0,12000.0,6600.0,19000.0,7900.0,64000.0,8900.0,11000.0,4400.0,58000.0,4800.0,6700.0,297000.0,11000.0,106000.0,31000.0,8100.0,64000.0,8400.0,24000.0,64000.0,87000.0,241000.0,20000.0,26000.0,167000.0,157000.0,85000.0,187000.0,52000.0,137000.0,247000.0,50000.0,62000.0,244000.0,33000.0,136000.0,764000.0,433000.0,13000.0,141000.0,143000.0,36000.0,137000.0,977000.0,24000.0,15000.0,101000.0,23000.0,33000.0,116000.0,102000.0,119000.0,18000.0,119000.0,46000.0,32000.0,22000.0,9100.0,28000.0,198000.0,323000.0,22000.0,29000.0,154000.0,78000.0,131000.0,151000.0,211000.0,27000.0,237000.0,221000.0,86000.0,205000.0,1100000.0,150000.0,41000.0,295000.0,133000.0,176000.0,152000.0,52000.0,40000.0,52000.0,16000.0,73000.0,5500.0,48000.0,29000.0,59000.0,129000.0,79000.0,460000.0,72000.0,904000.0,79000.0,84000.0,283000.0,67000.0,42000.0,31000.0,29000.0,29000.0,338000.0,182000.0,971000.0,345000.0,579000.0,28000.0,269000.0,81000.0,18000.0,16000.0,26000.0,92000.0,9700.0,10000.0,337000.0,88000.0,46000.0,2900.0,172000.0,163000.0,22000.0,135000.0,23000.0,11000.0,1400000.0,254000.0,67000.0,364000.0,348000.0,21000.0,97000.0,264000.0,13000.0,12000.0,68000.0,47000.0,5900.0,69000.0,11000.0,177000.0,5200.0,259000.0,12000.0,204000.0,30000.0,141000.0,5900.0,16000.0,41000.0,16000.0,11000.0,5100.0,5000.0,4200.0,2200.0,1500.0,85000.0,179000.0,113000.0,3600.0,41000.0,24000.0,34000.0,27000.0,36000.0,36000.0,63000.0,20000.0,57000.0,92000.0,61000.0,51000.0,135000.0,168000.0,700.0,528.0,827.0,575.0,480.0,18000.0,322000.0,231000.0,55000.0,1000.0,723.0,1000.0,523.0,370.0,19000.0,45000.0,38000.0,171000.0,88000.0,99000.0,165000.0,32000.0,97000.0,120000.0,38000.0,71000.0,114000.0,84000.0,51000.0,36000.0,117000.0,109000.0,142000.0,62000.0,494000.0,573.0,10000.0,14000.0,88000.0,4200.0,33000.0,174000.0,119000.0,19000.0,3100.0,6400.0,1600.0,102000.0,1400.0,1600.0,88000.0,2600.0,42000.0,4000.0,20000.0,4300.0,84000.0,10000.0,96000.0,917000.0,32000.0,3000.0,103000.0,25000.0,24000.0,3700.0,6000.0,20000.0,11000.0,6500.0,3200.0,3300.0,12000.0,1800.0,4200.0,8700.0,11000.0],\"yaxis\":\"y\",\"type\":\"scatter\"}],                        {\"template\":{\"data\":{\"histogram2dcontour\":[{\"type\":\"histogram2dcontour\",\"colorbar\":{\"outlinewidth\":0,\"ticks\":\"\"},\"colorscale\":[[0.0,\"#0d0887\"],[0.1111111111111111,\"#46039f\"],[0.2222222222222222,\"#7201a8\"],[0.3333333333333333,\"#9c179e\"],[0.4444444444444444,\"#bd3786\"],[0.5555555555555556,\"#d8576b\"],[0.6666666666666666,\"#ed7953\"],[0.7777777777777778,\"#fb9f3a\"],[0.8888888888888888,\"#fdca26\"],[1.0,\"#f0f921\"]]}],\"choropleth\":[{\"type\":\"choropleth\",\"colorbar\":{\"outlinewidth\":0,\"ticks\":\"\"}}],\"histogram2d\":[{\"type\":\"histogram2d\",\"colorbar\":{\"outlinewidth\":0,\"ticks\":\"\"},\"colorscale\":[[0.0,\"#0d0887\"],[0.1111111111111111,\"#46039f\"],[0.2222222222222222,\"#7201a8\"],[0.3333333333333333,\"#9c179e\"],[0.4444444444444444,\"#bd3786\"],[0.5555555555555556,\"#d8576b\"],[0.6666666666666666,\"#ed7953\"],[0.7777777777777778,\"#fb9f3a\"],[0.8888888888888888,\"#fdca26\"],[1.0,\"#f0f921\"]]}],\"heatmap\":[{\"type\":\"heatmap\",\"colorbar\":{\"outlinewidth\":0,\"ticks\":\"\"},\"colorscale\":[[0.0,\"#0d0887\"],[0.1111111111111111,\"#46039f\"],[0.2222222222222222,\"#7201a8\"],[0.3333333333333333,\"#9c179e\"],[0.4444444444444444,\"#bd3786\"],[0.5555555555555556,\"#d8576b\"],[0.6666666666666666,\"#ed7953\"],[0.7777777777777778,\"#fb9f3a\"],[0.8888888888888888,\"#fdca26\"],[1.0,\"#f0f921\"]]}],\"heatmapgl\":[{\"type\":\"heatmapgl\",\"colorbar\":{\"outlinewidth\":0,\"ticks\":\"\"},\"colorscale\":[[0.0,\"#0d0887\"],[0.1111111111111111,\"#46039f\"],[0.2222222222222222,\"#7201a8\"],[0.3333333333333333,\"#9c179e\"],[0.4444444444444444,\"#bd3786\"],[0.5555555555555556,\"#d8576b\"],[0.6666666666666666,\"#ed7953\"],[0.7777777777777778,\"#fb9f3a\"],[0.8888888888888888,\"#fdca26\"],[1.0,\"#f0f921\"]]}],\"contourcarpet\":[{\"type\":\"contourcarpet\",\"colorbar\":{\"outlinewidth\":0,\"ticks\":\"\"}}],\"contour\":[{\"type\":\"contour\",\"colorbar\":{\"outlinewidth\":0,\"ticks\":\"\"},\"colorscale\":[[0.0,\"#0d0887\"],[0.1111111111111111,\"#46039f\"],[0.2222222222222222,\"#7201a8\"],[0.3333333333333333,\"#9c179e\"],[0.4444444444444444,\"#bd3786\"],[0.5555555555555556,\"#d8576b\"],[0.6666666666666666,\"#ed7953\"],[0.7777777777777778,\"#fb9f3a\"],[0.8888888888888888,\"#fdca26\"],[1.0,\"#f0f921\"]]}],\"surface\":[{\"type\":\"surface\",\"colorbar\":{\"outlinewidth\":0,\"ticks\":\"\"},\"colorscale\":[[0.0,\"#0d0887\"],[0.1111111111111111,\"#46039f\"],[0.2222222222222222,\"#7201a8\"],[0.3333333333333333,\"#9c179e\"],[0.4444444444444444,\"#bd3786\"],[0.5555555555555556,\"#d8576b\"],[0.6666666666666666,\"#ed7953\"],[0.7777777777777778,\"#fb9f3a\"],[0.8888888888888888,\"#fdca26\"],[1.0,\"#f0f921\"]]}],\"mesh3d\":[{\"type\":\"mesh3d\",\"colorbar\":{\"outlinewidth\":0,\"ticks\":\"\"}}],\"scatter\":[{\"fillpattern\":{\"fillmode\":\"overlay\",\"size\":10,\"solidity\":0.2},\"type\":\"scatter\"}],\"parcoords\":[{\"type\":\"parcoords\",\"line\":{\"colorbar\":{\"outlinewidth\":0,\"ticks\":\"\"}}}],\"scatterpolargl\":[{\"type\":\"scatterpolargl\",\"marker\":{\"colorbar\":{\"outlinewidth\":0,\"ticks\":\"\"}}}],\"bar\":[{\"error_x\":{\"color\":\"#2a3f5f\"},\"error_y\":{\"color\":\"#2a3f5f\"},\"marker\":{\"line\":{\"color\":\"#E5ECF6\",\"width\":0.5},\"pattern\":{\"fillmode\":\"overlay\",\"size\":10,\"solidity\":0.2}},\"type\":\"bar\"}],\"scattergeo\":[{\"type\":\"scattergeo\",\"marker\":{\"colorbar\":{\"outlinewidth\":0,\"ticks\":\"\"}}}],\"scatterpolar\":[{\"type\":\"scatterpolar\",\"marker\":{\"colorbar\":{\"outlinewidth\":0,\"ticks\":\"\"}}}],\"histogram\":[{\"marker\":{\"pattern\":{\"fillmode\":\"overlay\",\"size\":10,\"solidity\":0.2}},\"type\":\"histogram\"}],\"scattergl\":[{\"type\":\"scattergl\",\"marker\":{\"colorbar\":{\"outlinewidth\":0,\"ticks\":\"\"}}}],\"scatter3d\":[{\"type\":\"scatter3d\",\"line\":{\"colorbar\":{\"outlinewidth\":0,\"ticks\":\"\"}},\"marker\":{\"colorbar\":{\"outlinewidth\":0,\"ticks\":\"\"}}}],\"scattermapbox\":[{\"type\":\"scattermapbox\",\"marker\":{\"colorbar\":{\"outlinewidth\":0,\"ticks\":\"\"}}}],\"scatterternary\":[{\"type\":\"scatterternary\",\"marker\":{\"colorbar\":{\"outlinewidth\":0,\"ticks\":\"\"}}}],\"scattercarpet\":[{\"type\":\"scattercarpet\",\"marker\":{\"colorbar\":{\"outlinewidth\":0,\"ticks\":\"\"}}}],\"carpet\":[{\"aaxis\":{\"endlinecolor\":\"#2a3f5f\",\"gridcolor\":\"white\",\"linecolor\":\"white\",\"minorgridcolor\":\"white\",\"startlinecolor\":\"#2a3f5f\"},\"baxis\":{\"endlinecolor\":\"#2a3f5f\",\"gridcolor\":\"white\",\"linecolor\":\"white\",\"minorgridcolor\":\"white\",\"startlinecolor\":\"#2a3f5f\"},\"type\":\"carpet\"}],\"table\":[{\"cells\":{\"fill\":{\"color\":\"#EBF0F8\"},\"line\":{\"color\":\"white\"}},\"header\":{\"fill\":{\"color\":\"#C8D4E3\"},\"line\":{\"color\":\"white\"}},\"type\":\"table\"}],\"barpolar\":[{\"marker\":{\"line\":{\"color\":\"#E5ECF6\",\"width\":0.5},\"pattern\":{\"fillmode\":\"overlay\",\"size\":10,\"solidity\":0.2}},\"type\":\"barpolar\"}],\"pie\":[{\"automargin\":true,\"type\":\"pie\"}]},\"layout\":{\"autotypenumbers\":\"strict\",\"colorway\":[\"#636efa\",\"#EF553B\",\"#00cc96\",\"#ab63fa\",\"#FFA15A\",\"#19d3f3\",\"#FF6692\",\"#B6E880\",\"#FF97FF\",\"#FECB52\"],\"font\":{\"color\":\"#2a3f5f\"},\"hovermode\":\"closest\",\"hoverlabel\":{\"align\":\"left\"},\"paper_bgcolor\":\"white\",\"plot_bgcolor\":\"#E5ECF6\",\"polar\":{\"bgcolor\":\"#E5ECF6\",\"angularaxis\":{\"gridcolor\":\"white\",\"linecolor\":\"white\",\"ticks\":\"\"},\"radialaxis\":{\"gridcolor\":\"white\",\"linecolor\":\"white\",\"ticks\":\"\"}},\"ternary\":{\"bgcolor\":\"#E5ECF6\",\"aaxis\":{\"gridcolor\":\"white\",\"linecolor\":\"white\",\"ticks\":\"\"},\"baxis\":{\"gridcolor\":\"white\",\"linecolor\":\"white\",\"ticks\":\"\"},\"caxis\":{\"gridcolor\":\"white\",\"linecolor\":\"white\",\"ticks\":\"\"}},\"coloraxis\":{\"colorbar\":{\"outlinewidth\":0,\"ticks\":\"\"}},\"colorscale\":{\"sequential\":[[0.0,\"#0d0887\"],[0.1111111111111111,\"#46039f\"],[0.2222222222222222,\"#7201a8\"],[0.3333333333333333,\"#9c179e\"],[0.4444444444444444,\"#bd3786\"],[0.5555555555555556,\"#d8576b\"],[0.6666666666666666,\"#ed7953\"],[0.7777777777777778,\"#fb9f3a\"],[0.8888888888888888,\"#fdca26\"],[1.0,\"#f0f921\"]],\"sequentialminus\":[[0.0,\"#0d0887\"],[0.1111111111111111,\"#46039f\"],[0.2222222222222222,\"#7201a8\"],[0.3333333333333333,\"#9c179e\"],[0.4444444444444444,\"#bd3786\"],[0.5555555555555556,\"#d8576b\"],[0.6666666666666666,\"#ed7953\"],[0.7777777777777778,\"#fb9f3a\"],[0.8888888888888888,\"#fdca26\"],[1.0,\"#f0f921\"]],\"diverging\":[[0,\"#8e0152\"],[0.1,\"#c51b7d\"],[0.2,\"#de77ae\"],[0.3,\"#f1b6da\"],[0.4,\"#fde0ef\"],[0.5,\"#f7f7f7\"],[0.6,\"#e6f5d0\"],[0.7,\"#b8e186\"],[0.8,\"#7fbc41\"],[0.9,\"#4d9221\"],[1,\"#276419\"]]},\"xaxis\":{\"gridcolor\":\"white\",\"linecolor\":\"white\",\"ticks\":\"\",\"title\":{\"standoff\":15},\"zerolinecolor\":\"white\",\"automargin\":true,\"zerolinewidth\":2},\"yaxis\":{\"gridcolor\":\"white\",\"linecolor\":\"white\",\"ticks\":\"\",\"title\":{\"standoff\":15},\"zerolinecolor\":\"white\",\"automargin\":true,\"zerolinewidth\":2},\"scene\":{\"xaxis\":{\"backgroundcolor\":\"#E5ECF6\",\"gridcolor\":\"white\",\"linecolor\":\"white\",\"showbackground\":true,\"ticks\":\"\",\"zerolinecolor\":\"white\",\"gridwidth\":2},\"yaxis\":{\"backgroundcolor\":\"#E5ECF6\",\"gridcolor\":\"white\",\"linecolor\":\"white\",\"showbackground\":true,\"ticks\":\"\",\"zerolinecolor\":\"white\",\"gridwidth\":2},\"zaxis\":{\"backgroundcolor\":\"#E5ECF6\",\"gridcolor\":\"white\",\"linecolor\":\"white\",\"showbackground\":true,\"ticks\":\"\",\"zerolinecolor\":\"white\",\"gridwidth\":2}},\"shapedefaults\":{\"line\":{\"color\":\"#2a3f5f\"}},\"annotationdefaults\":{\"arrowcolor\":\"#2a3f5f\",\"arrowhead\":0,\"arrowwidth\":1},\"geo\":{\"bgcolor\":\"white\",\"landcolor\":\"#E5ECF6\",\"subunitcolor\":\"white\",\"showland\":true,\"showlakes\":true,\"lakecolor\":\"white\"},\"title\":{\"x\":0.05},\"mapbox\":{\"style\":\"light\"}}},\"xaxis\":{\"anchor\":\"y\",\"domain\":[0.0,1.0],\"title\":{\"text\":\"Posted On\"}},\"yaxis\":{\"anchor\":\"x\",\"domain\":[0.0,1.0],\"title\":{\"text\":\"# of views per episode\"}},\"legend\":{\"tracegroupgap\":0},\"margin\":{\"t\":60},\"title\":{\"text\":\"King David Studio1\"},\"updatemenus\":[{\"buttons\":[{\"args\":[\"type\",\"scatter\"],\"label\":\"Scatter Plot\",\"method\":\"restyle\"},{\"args\":[\"type\",\"pie\"],\"label\":\"Pie Chart \",\"method\":\"restyle\"}],\"direction\":\"down\"}]},                        {\"responsive\": true}                    ).then(function(){\n",
       "                            \n",
       "var gd = document.getElementById('6d93f3d8-c6ad-4449-85d9-d38c7bd5669a');\n",
       "var x = new MutationObserver(function (mutations, observer) {{\n",
       "        var display = window.getComputedStyle(gd).display;\n",
       "        if (!display || display === 'none') {{\n",
       "            console.log([gd, 'removed!']);\n",
       "            Plotly.purge(gd);\n",
       "            observer.disconnect();\n",
       "        }}\n",
       "}});\n",
       "\n",
       "// Listen for the removal of the full notebook cells\n",
       "var notebookContainer = gd.closest('#notebook-container');\n",
       "if (notebookContainer) {{\n",
       "    x.observe(notebookContainer, {childList: true});\n",
       "}}\n",
       "\n",
       "// Listen for the clearing of the current output cell\n",
       "var outputEl = gd.closest('.output');\n",
       "if (outputEl) {{\n",
       "    x.observe(outputEl, {childList: true});\n",
       "}}\n",
       "\n",
       "                        })                };                });            </script>        </div>"
      ]
     },
     "metadata": {},
     "output_type": "display_data"
    }
   ],
   "source": [
    "# reading the database\n",
    "data = pd.read_csv(\"Output Files/kingdavidstudio1_Podcast.csv\")\n",
    " \n",
    "plot = px.scatter(\n",
    "    x=data['posted'],\n",
    "    y=data['views'],\n",
    ")\n",
    " \n",
    "# Add dropdown\n",
    "plot.update_layout(\n",
    "\n",
    "    title=\"King David Studio1\",\n",
    "    xaxis_title=\"Posted On\",\n",
    "    yaxis_title=\"# of views per episode\",\n",
    "    \n",
    "    updatemenus=[\n",
    "        dict(\n",
    "            buttons=list([\n",
    "                dict(\n",
    "                    args=[\"type\", \"scatter\"],\n",
    "                    label=\"Scatter Plot\",\n",
    "                    method=\"restyle\"\n",
    "                ),\n",
    "                dict(\n",
    "                    args=[\"type\", \"pie\"],\n",
    "                    label=\"Pie Chart \",\n",
    "                    method=\"restyle\"\n",
    "                )\n",
    "            ]),\n",
    "            direction=\"down\",\n",
    "        ),\n",
    "    ]\n",
    ")\n",
    " \n",
    "plot.show()"
   ]
  },
  {
   "cell_type": "code",
   "execution_count": 109,
   "id": "d1669d68-8312-4495-8ca2-7f8004f4bd23",
   "metadata": {},
   "outputs": [
    {
     "name": "stdout",
     "output_type": "stream",
     "text": [
      "                                                 title   views     posted\n",
      "0    Episode 115|Lesego Gumede on Sneaker Cleanic l...   396.0  23 hours \n",
      "1    Episode 114| Things to clarify from the year, ...  2500.0   10 days \n",
      "2    Episode 113| Hazel Mahazard on podcasting, rel...  9300.0   3 weeks \n",
      "3    Episode 112|What's success? Love never lies So...  4700.0   4 weeks \n",
      "4    Episode 111| Dj Sbu at it again, illegal minin...  3200.0   1 month \n",
      "..                                                 ...     ...        ...\n",
      "151  Episode 13|Sir M on Move Feet To Beat, Somizi ...   247.0   2 years \n",
      "152  Episode 12| Lebogang Mahlangu On Being Miss SA...   549.0   2 years \n",
      "153  Episode 11| Dj Divalash on Lock Down House Par...   313.0   2 years \n",
      "154  Episode 10| Pabi Cooper Vs Pearl Thusi, KZN fl...   628.0   2 years \n",
      "155  Episode 9|Thabz Le Madonga on grooming new tal...   387.0   2 years \n",
      "\n",
      "[156 rows x 3 columns]\n",
      "                                                title    views     posted\n",
      "0   EPISODE 18 | POLYGAMY - The way it’s structure...   1000.0   9 hours \n",
      "1                         EPISODE 17 | FINALE EPISODE   4500.0    7 days \n",
      "2                      EPISODE 16 | Family Gatherings   5000.0   2 weeks \n",
      "3                     EPISODE 15 | Township Lifestyle   7100.0   2 weeks \n",
      "4                   EPISODE 14 | Being Stuck as a Man   7900.0   4 weeks \n",
      "5                 EPISODE 13 | Drugs in the community   6600.0   1 month \n",
      "6              EPISODE 12 | The Impact Of Forgiveness   5400.0   1 month \n",
      "7          EPISODE 11 | Spirituality, Personal Belief   5000.0   1 month \n",
      "8   EPISODE 10 W/ Percy Mthunzi | Difficulties Of ...   7400.0   1 month \n",
      "9   EPISODE 9 | Dealing with a Cheating Partner in...   6500.0  2 months \n",
      "10  Episode 8 Financial Literacy Part 1 - Black Bu...   6400.0  2 months \n",
      "11  Episode 7 | Couple issues,How to approach this...   8100.0  2 months \n",
      "12                        EPISODE 6 | Superman Effect  10000.0  2 months \n",
      "13                             EPISODE 5 | Mama’s Boy   9600.0  3 months \n",
      "14  EPISODE 4| Cellphones & Spouses , Work Boyfrie...  10000.0  3 months \n",
      "15         EPISODE 3 | Beautiful Wife Beautiful Knife  15000.0  4 months \n",
      "16                    EPISODE 2 | Groove transactions   8700.0  4 months \n",
      "17  EPISODE 1 | Living at your girlfriends parents...  13000.0  4 months \n",
      "18                      Majita Monday , Coming soon !    565.0  4 months \n",
      "19                      What would you do as a gent ?    455.0  4 months \n"
     ]
    }
   ],
   "source": [
    "# reading the data\n",
    "df_a = pd.read_csv('Output Files/culturespotlight_Podcast.csv')\n",
    "print(df_a)\n",
    "df_b = pd.read_csv('Output Files/Majit_AMonday_Podcast.csv')\n",
    "print(df_b)"
   ]
  },
  {
   "cell_type": "code",
   "execution_count": 110,
   "id": "2dd9e0a7-6a11-450a-afd2-edbfb5ebaff3",
   "metadata": {},
   "outputs": [
    {
     "name": "stdout",
     "output_type": "stream",
     "text": [
      "        posted     views\n",
      "0     1 month    13000.0\n",
      "1      1 year   244465.0\n",
      "2     10 days     2500.0\n",
      "3   10 months    77608.0\n",
      "4   11 months    12713.0\n",
      "5    2 months    19200.0\n",
      "6     2 years    30107.0\n",
      "7    23 hours      396.0\n",
      "8    3 months    43772.0\n",
      "9     3 weeks     9300.0\n",
      "10   4 months    28077.0\n",
      "11    4 weeks     4700.0\n",
      "12   5 months    41300.0\n",
      "13   6 months    22600.0\n",
      "14   7 months     3686.0\n",
      "15   8 months    86704.0\n",
      "16   9 months    48317.0\n",
      " \n",
      "      posted    views\n",
      "0   1 month   24400.0\n",
      "1  2 months   31000.0\n",
      "2   2 weeks   12100.0\n",
      "3  3 months   19600.0\n",
      "4  4 months   37720.0\n",
      "5   4 weeks    7900.0\n",
      "6    7 days    4500.0\n",
      "7   9 hours    1000.0\n"
     ]
    }
   ],
   "source": [
    "# aggregate data\n",
    "aggregated_data_a = df_a.groupby('posted')['views'].sum().reset_index().sort_values( by = 'posted',ascending=True)\n",
    "aggregated_data_b = df_b.groupby('posted')['views'].sum().reset_index().sort_values( by = 'posted',ascending=True)\n",
    "print(f'{aggregated_data_a}\\n \\n{aggregated_data_b}')"
   ]
  },
  {
   "cell_type": "code",
   "execution_count": 111,
   "id": "b840c386-1a92-4190-b799-b6f3764d8313",
   "metadata": {},
   "outputs": [
    {
     "data": {
      "image/png": "[encoded data removed]",
      "text/plain": [
       "<Figure size 3000x1000 with 2 Axes>"
      ]
     },
     "metadata": {},
     "output_type": "display_data"
    }
   ],
   "source": [
    "# create a 2*2 grid for subplots\n",
    "gs = GridSpec(2,2)\n",
    "fig = plt.figure(figsize=(30,10))\n",
    "\n",
    "# create the first subplot\n",
    "ax1 = fig.add_subplot(gs[0,0])\n",
    "ax1.bar(aggregated_data_a['posted'], aggregated_data_a['views'])\n",
    "ax1.set_xticks(range(len(aggregated_data_a['posted'])))\n",
    "ax1.set_xticklabels(aggregated_data_a['posted'], rotation=45)\n",
    "ax1.set_ylabel('# of total views')\n",
    "ax1.set_xlabel('Posted On')\n",
    "ax1.set_title('Culture SpotLight')\n",
    "\n",
    "# create the first subplot\n",
    "ax2 = fig.add_subplot(gs[0,1])\n",
    "ax2.bar(aggregated_data_b['posted'], aggregated_data_b['views'])\n",
    "ax2.set_xticks(range(len(aggregated_data_b['posted'])))\n",
    "ax2.set_xticklabels(aggregated_data_b['posted'], rotation=45)\n",
    "ax2.set_ylabel('# of total views')\n",
    "ax2.set_xlabel('Posted On')\n",
    "ax2.set_title('Majita Monday')\n",
    "\n",
    "# show the plots\n",
    "plt.show()"
   ]
  },
  {
   "cell_type": "code",
   "execution_count": 112,
   "id": "3cb8197c-1de2-4fac-b475-7c66795100e1",
   "metadata": {},
   "outputs": [
    {
     "name": "stdout",
     "output_type": "stream",
     "text": [
      "                                                title     views    posted\n",
      "0   Rap*d On Campus Then Banned From University - ...    9200.0   2 days \n",
      "1                I Was Afraid Of Chili Bite Character    1700.0   3 days \n",
      "2   I Got Paid R10 000 For Chili Bite Character - ...   54000.0   5 days \n",
      "3    Sangomas Are No Longer Relevant - Gogo Skhotheni  126000.0  1 month \n",
      "4                    How I Got Shot at Church - Vicky    7200.0  1 month \n",
      "..                                                ...       ...       ...\n",
      "66  \"Family Politics Can Kill You\" | Patson Mabund...    9400.0   1 year \n",
      "67  How to turn Passion into Profit | Hetty The En...   14000.0   1 year \n",
      "68  \"How I lost My Millions\" | Penuel The Black Pe...  326000.0   1 year \n",
      "69  CAPE TOWN Is More Dangerous Than Joburg | Nkul...   56000.0   1 year \n",
      "70  \"I earned R1500 at Orlando Pirates \" | Tso Vil...   29000.0   1 year \n",
      "\n",
      "[71 rows x 3 columns]\n",
      "                                                 title     views    posted\n",
      "0    Prof Blade Nzimande on Fees Must Fall, Jacob Z...   20000.0  4 hours \n",
      "1               'Mbalula is my brother' — Tony Yengeni    6800.0    1 day \n",
      "2    Tony Yengeni on Fikile Mbalula, Jacob Zuma & M...   95000.0   2 days \n",
      "3                ‘GNU won’t do more.’ — Prince Mashele    4300.0   3 days \n",
      "4    Prince Mashele on ‘GNU’, ANC, MK Party, Jacob ...  143000.0   4 days \n",
      "..                                                 ...       ...       ...\n",
      "421  Nina Hastie: Comedy and Politics in South Afri...    5800.0  5 years \n",
      "422  Naledi Chirwa: Going to Parliament | Gender Ju...   20000.0  5 years \n",
      "423                                          SMWX: Q&A    9100.0  5 years \n",
      "424  Democracy and Delusion, the Book and Album (Of...    1000.0  7 years \n",
      "425                  Sizwe Mpofu-Walsh — State Capture    6900.0  7 years \n",
      "\n",
      "[426 rows x 3 columns]\n"
     ]
    }
   ],
   "source": [
    "# reading the data\n",
    "df_c = pd.read_csv('Output Files/justifyworldwide_Podcast.csv')\n",
    "print(df_c)\n",
    "df_d = pd.read_csv('Output Files/SMWX_Podcast.csv')\n",
    "print(df_d)"
   ]
  },
  {
   "cell_type": "code",
   "execution_count": 113,
   "id": "412ae221-e83d-4c32-b7d4-510fd16fcc86",
   "metadata": {},
   "outputs": [
    {
     "name": "stdout",
     "output_type": "stream",
     "text": [
      "        posted      views\n",
      "0     1 month    157200.0\n",
      "1      1 year   1896500.0\n",
      "2   10 months   2628000.0\n",
      "3   11 months    949000.0\n",
      "4      2 days      9200.0\n",
      "5    2 months    462000.0\n",
      "6      3 days      1700.0\n",
      "7    3 months    589400.0\n",
      "8    4 months   1209000.0\n",
      "9      5 days     54000.0\n",
      "10   5 months   1386300.0\n",
      "11   6 months   1155000.0\n",
      "12   7 months    752000.0\n",
      "13   8 months   1162400.0\n",
      "14   9 months    699000.0\n",
      " \n",
      "        posted      views\n",
      "0       1 day      6800.0\n",
      "1     1 month   1305000.0\n",
      "2      1 year   3930200.0\n",
      "3   10 months    708300.0\n",
      "4   11 months   1149400.0\n",
      "5      2 days     95000.0\n",
      "6    2 months   1948000.0\n",
      "7     2 weeks      9900.0\n",
      "8     2 years    485700.0\n",
      "9      3 days      4300.0\n",
      "10   3 months   1055000.0\n",
      "11    3 weeks     33000.0\n",
      "12    3 years    499564.0\n",
      "13     4 days    143000.0\n",
      "14    4 hours     20000.0\n",
      "15   4 months   1250000.0\n",
      "16    4 weeks     29000.0\n",
      "17    4 years    230982.0\n",
      "18     5 days     16000.0\n",
      "19   5 months   1328000.0\n",
      "20    5 years   1371391.0\n",
      "21     6 days    125000.0\n",
      "22   6 months   1898000.0\n",
      "23   7 months   2748000.0\n",
      "24    7 years      7900.0\n",
      "25     8 days     40000.0\n",
      "26   8 months   1005700.0\n",
      "27     9 days     22000.0\n",
      "28   9 months    901100.0\n"
     ]
    }
   ],
   "source": [
    "# aggregate data\n",
    "aggregated_data_c = df_c.groupby('posted')['views'].sum().reset_index().sort_values( by = 'posted',ascending=True)\n",
    "aggregated_data_d = df_d.groupby('posted')['views'].sum().reset_index().sort_values( by = 'posted',ascending=True)\n",
    "print(f'{aggregated_data_c}\\n \\n{aggregated_data_d}')"
   ]
  },
  {
   "cell_type": "code",
   "execution_count": 114,
   "id": "e0342c5e-130b-4a78-b961-c8bf2e848e98",
   "metadata": {},
   "outputs": [
    {
     "data": {
      "image/png": "[encoded data removed]",
      "text/plain": [
       "<Figure size 3000x1000 with 2 Axes>"
      ]
     },
     "metadata": {},
     "output_type": "display_data"
    }
   ],
   "source": [
    "# Create a 2*2 grid for subplots\n",
    "gs = GridSpec(2,2)\n",
    "fig_b = plt.figure(figsize=(30,10))\n",
    "\n",
    "ax1 = fig_b.add_subplot(gs[0,0])\n",
    "ax1.scatter(aggregated_data_c['posted'], aggregated_data_c['views'])\n",
    "ax1.set_xticks(range(len(aggregated_data_c['posted'])))\n",
    "ax1.set_xticklabels(aggregated_data_c['posted'], rotation=45)\n",
    "ax1.set_ylabel('# of total views')\n",
    "ax1.set_xlabel('Posted On')\n",
    "ax1.set_title('Justify WorldWide Podcast')\n",
    "\n",
    "ax2 = fig_b.add_subplot(gs[0,1])\n",
    "ax2.scatter(aggregated_data_d['posted'], aggregated_data_d['views'])\n",
    "ax2.set_xticks(range(len(aggregated_data_d['posted'])))\n",
    "ax2.set_xticklabels(aggregated_data_d['posted'], rotation=45)\n",
    "ax2.set_ylabel('# of total views')\n",
    "ax2.set_xlabel('Posted On')\n",
    "ax2.set_title('SMWX Podcast')\n",
    "\n",
    "plt.show()"
   ]
  },
  {
   "cell_type": "code",
   "execution_count": 115,
   "id": "f9dc9331-fee1-4dc7-a1b7-70dcf98cb95a",
   "metadata": {},
   "outputs": [
    {
     "name": "stdout",
     "output_type": "stream",
     "text": [
      "        posted      views\n",
      "0     1 month    157200.0\n",
      "1      1 year   1896500.0\n",
      "2   10 months   2628000.0\n",
      "3   11 months    949000.0\n",
      "4      2 days      9200.0\n",
      "5    2 months    462000.0\n",
      "6      3 days      1700.0\n",
      "7    3 months    589400.0\n",
      "8    4 months   1209000.0\n",
      "9      5 days     54000.0\n",
      "10   5 months   1386300.0\n",
      "11   6 months   1155000.0\n",
      "12   7 months    752000.0\n",
      "13   8 months   1162400.0\n",
      "14   9 months    699000.0\n",
      "\n"
     ]
    }
   ],
   "source": [
    "# Read the data\n",
    "data = pd.read_csv('Output Files/Majit_AMonday_Podcast.csv')\n",
    "# aggregate data\n",
    "aggregated_data = df_c.groupby('posted')['views'].sum().reset_index().sort_values( by = 'posted',ascending=True)\n",
    "print(f'{aggregated_data}\\n')"
   ]
  },
  {
   "cell_type": "code",
   "execution_count": 116,
   "id": "6e1083ba-c607-4708-8d0c-8a24add38482",
   "metadata": {},
   "outputs": [
    {
     "data": {
      "text/plain": [
       "<Figure size 1000x800 with 0 Axes>"
      ]
     },
     "metadata": {},
     "output_type": "display_data"
    },
    {
     "data": {
      "image/png": "[encoded data removed]",
      "text/plain": [
       "<Figure size 640x480 with 1 Axes>"
      ]
     },
     "metadata": {},
     "output_type": "display_data"
    }
   ],
   "source": [
    "# Set the figure size to increase the overall size of the pie chart\n",
    "plt.figure(figsize=(10, 8))\n",
    "\n",
    "# Create the pie chart without the percentages\n",
    "fig, ax = plt.subplots()\n",
    "wedges, texts = ax.pie(\n",
    "    aggregated_data['views'],\n",
    "    startangle=90,\n",
    "    wedgeprops={'edgecolor': 'black'}\n",
    ")\n",
    "\n",
    "# Calculate percentages manually\n",
    "percentages = [f'{(value / sum(aggregated_data[\"views\"])) * 100:.1f}%' for value in aggregated_data['views']]\n",
    "\n",
    "# Create a legend with percentages\n",
    "ax.legend(wedges, [f\"{label} - {perc}\" for label, perc in zip(aggregated_data['posted'], percentages)],\n",
    "          title=\"Podcast Stats\", loc=\"center left\", bbox_to_anchor=(1, 0, 0.5, 1))\n",
    "\n",
    "# Set the title\n",
    "plt.title(\"Majita Monday Podcast\")\n",
    "\n",
    "# Show the plot\n",
    "plt.show()"
   ]
  },
  {
   "cell_type": "code",
   "execution_count": null,
   "id": "a11c4d17-5045-408d-8398-8bce814c1c50",
   "metadata": {},
   "outputs": [],
   "source": []
  },
  {
   "cell_type": "code",
   "execution_count": 117,
   "id": "859eab23-9053-4923-868a-6cdb1871a511",
   "metadata": {},
   "outputs": [
    {
     "name": "stdout",
     "output_type": "stream",
     "text": [
      "                                                 title     views    posted\n",
      "0    Konvo Show: Penuel In Conversation With Muzi M...    5100.0  5 hours \n",
      "1    \"EUROPEANS DON'T GET OFFENDED WHEN WE SAY MLUN...    1800.0   2 days \n",
      "2    \"THERE'S PROPAGANDA BEHIND THE IMAGE OF SHAKA ...    3100.0   2 days \n",
      "3    \"THE NAME CASSPER NYOVEST IS NOT JUST A STREET...   12000.0   3 days \n",
      "4    \"COLONISERS TREATED ALL AFRICAN PEOPLE LIKE AN...    1000.0   3 days \n",
      "..                                                 ...       ...       ...\n",
      "403  Penuel The Black Pen In Conversation Nhlanhla ...   59000.0  2 years \n",
      "404  Penuel The Black Pen | In Conversation Nhlanhl...  164000.0  2 years \n",
      "405  Penuel The Black Pen | In Conversation with Ma...   21000.0  2 years \n",
      "406  Penuel The Black Pen | In Conversation With Ma...   62000.0  2 years \n",
      "407  Penuel The Black Pen | In Conversation With Pe...   79000.0  2 years \n",
      "\n",
      "[408 rows x 3 columns]\n",
      "\n"
     ]
    },
    {
     "data": {
      "application/vnd.plotly.v1+json": {
       "config": {
        "plotlyServerURL": "https://plot.ly"
       },
       "data": [
        {
         "hovertemplate": "x=%{x}<br>y=%{y}<extra></extra>",
         "legendgroup": "",
         "marker": {
          "color": "#636efa",
          "symbol": "circle"
         },
         "mode": "markers",
         "name": "",
         "orientation": "v",
         "showlegend": false,
         "type": "scatter",
         "x": [
          "5 hours ",
          "2 days ",
          "2 days ",
          "3 days ",
          "3 days ",
          "3 days ",
          "3 days ",
          "5 days ",
          "5 days ",
          "6 days ",
          "6 days ",
          "7 days ",
          "9 days ",
          "10 days ",
          "10 days ",
          "11 days ",
          "11 days ",
          "11 days ",
          "12 days ",
          "12 days ",
          "13 days ",
          "13 days ",
          "2 weeks ",
          "2 weeks ",
          "2 weeks ",
          "2 weeks ",
          "2 weeks ",
          "2 weeks ",
          "2 weeks ",
          "2 weeks ",
          "2 weeks ",
          "3 weeks ",
          "3 weeks ",
          "3 weeks ",
          "3 weeks ",
          "3 weeks ",
          "3 weeks ",
          "3 weeks ",
          "3 weeks ",
          "4 weeks ",
          "4 weeks ",
          "1 month ",
          "1 month ",
          "1 month ",
          "1 month ",
          "1 month ",
          "1 month ",
          "1 month ",
          "1 month ",
          "1 month ",
          "1 month ",
          "1 month ",
          "1 month ",
          "1 month ",
          "1 month ",
          "1 month ",
          "1 month ",
          "1 month ",
          "1 month ",
          "1 month ",
          "1 month ",
          "1 month ",
          "1 month ",
          "1 month ",
          "1 month ",
          "1 month ",
          "1 month ",
          "1 month ",
          "1 month ",
          "1 month ",
          "1 month ",
          "1 month ",
          "1 month ",
          "1 month ",
          "1 month ",
          "1 month ",
          "1 month ",
          "1 month ",
          "1 month ",
          "1 month ",
          "1 month ",
          "1 month ",
          "1 month ",
          "1 month ",
          "1 month ",
          "1 month ",
          "1 month ",
          "1 month ",
          "1 month ",
          "2 months ",
          "2 months ",
          "2 months ",
          "2 months ",
          "2 months ",
          "2 months ",
          "2 months ",
          "2 months ",
          "2 months ",
          "2 months ",
          "2 months ",
          "2 months ",
          "2 months ",
          "2 months ",
          "2 months ",
          "2 months ",
          "2 months ",
          "2 months ",
          "2 months ",
          "2 months ",
          "2 months ",
          "2 months ",
          "2 months ",
          "3 months ",
          "3 months ",
          "3 months ",
          "3 months ",
          "3 months ",
          "3 months ",
          "3 months ",
          "3 months ",
          "3 months ",
          "3 months ",
          "3 months ",
          "3 months ",
          "3 months ",
          "3 months ",
          "3 months ",
          "3 months ",
          "3 months ",
          "3 months ",
          "3 months ",
          "3 months ",
          "3 months ",
          "3 months ",
          "3 months ",
          "3 months ",
          "3 months ",
          "3 months ",
          "3 months ",
          "3 months ",
          "3 months ",
          "3 months ",
          "3 months ",
          "3 months ",
          "3 months ",
          "3 months ",
          "3 months ",
          "3 months ",
          "4 months ",
          "4 months ",
          "4 months ",
          "4 months ",
          "4 months ",
          "4 months ",
          "4 months ",
          "4 months ",
          "4 months ",
          "4 months ",
          "4 months ",
          "4 months ",
          "4 months ",
          "4 months ",
          "4 months ",
          "4 months ",
          "4 months ",
          "4 months ",
          "4 months ",
          "4 months ",
          "4 months ",
          "4 months ",
          "4 months ",
          "4 months ",
          "4 months ",
          "4 months ",
          "4 months ",
          "4 months ",
          "5 months ",
          "5 months ",
          "5 months ",
          "5 months ",
          "5 months ",
          "5 months ",
          "5 months ",
          "5 months ",
          "5 months ",
          "5 months ",
          "5 months ",
          "5 months ",
          "5 months ",
          "5 months ",
          "5 months ",
          "5 months ",
          "5 months ",
          "5 months ",
          "5 months ",
          "5 months ",
          "5 months ",
          "5 months ",
          "5 months ",
          "5 months ",
          "5 months ",
          "6 months ",
          "6 months ",
          "6 months ",
          "6 months ",
          "6 months ",
          "6 months ",
          "6 months ",
          "6 months ",
          "6 months ",
          "6 months ",
          "6 months ",
          "6 months ",
          "6 months ",
          "6 months ",
          "6 months ",
          "6 months ",
          "6 months ",
          "6 months ",
          "6 months ",
          "6 months ",
          "6 months ",
          "6 months ",
          "6 months ",
          "7 months ",
          "7 months ",
          "7 months ",
          "7 months ",
          "7 months ",
          "7 months ",
          "7 months ",
          "7 months ",
          "7 months ",
          "7 months ",
          "7 months ",
          "7 months ",
          "7 months ",
          "7 months ",
          "7 months ",
          "7 months ",
          "7 months ",
          "7 months ",
          "7 months ",
          "7 months ",
          "7 months ",
          "7 months ",
          "8 months ",
          "8 months ",
          "8 months ",
          "8 months ",
          "8 months ",
          "8 months ",
          "8 months ",
          "8 months ",
          "8 months ",
          "8 months ",
          "8 months ",
          "8 months ",
          "8 months ",
          "8 months ",
          "8 months ",
          "8 months ",
          "8 months ",
          "8 months ",
          "8 months ",
          "8 months ",
          "8 months ",
          "9 months ",
          "9 months ",
          "9 months ",
          "9 months ",
          "9 months ",
          "9 months ",
          "9 months ",
          "9 months ",
          "9 months ",
          "9 months ",
          "9 months ",
          "9 months ",
          "9 months ",
          "9 months ",
          "9 months ",
          "9 months ",
          "9 months ",
          "9 months ",
          "9 months ",
          "9 months ",
          "9 months ",
          "9 months ",
          "9 months ",
          "9 months ",
          "9 months ",
          "9 months ",
          "10 months ",
          "10 months ",
          "10 months ",
          "10 months ",
          "10 months ",
          "10 months ",
          "10 months ",
          "10 months ",
          "10 months ",
          "10 months ",
          "10 months ",
          "10 months ",
          "10 months ",
          "10 months ",
          "11 months ",
          "11 months ",
          "11 months ",
          "11 months ",
          "11 months ",
          "11 months ",
          "11 months ",
          "11 months ",
          "11 months ",
          "11 months ",
          "11 months ",
          "11 months ",
          "11 months ",
          "1 year ",
          "1 year ",
          "1 year ",
          "1 year ",
          "1 year ",
          "1 year ",
          "1 year ",
          "1 year ",
          "1 year ",
          "1 year ",
          "1 year ",
          "1 year ",
          "1 year ",
          "1 year ",
          "1 year ",
          "1 year ",
          "1 year ",
          "1 year ",
          "1 year ",
          "1 year ",
          "1 year ",
          "1 year ",
          "1 year ",
          "1 year ",
          "1 year ",
          "1 year ",
          "1 year ",
          "1 year ",
          "1 year ",
          "1 year ",
          "1 year ",
          "1 year ",
          "1 year ",
          "1 year ",
          "1 year ",
          "1 year ",
          "1 year ",
          "1 year ",
          "1 year ",
          "1 year ",
          "1 year ",
          "1 year ",
          "1 year ",
          "1 year ",
          "1 year ",
          "1 year ",
          "1 year ",
          "1 year ",
          "1 year ",
          "1 year ",
          "1 year ",
          "1 year ",
          "1 year ",
          "1 year ",
          "1 year ",
          "1 year ",
          "1 year ",
          "1 year ",
          "1 year ",
          "1 year ",
          "1 year ",
          "1 year ",
          "2 years ",
          "2 years ",
          "2 years ",
          "2 years ",
          "2 years ",
          "2 years ",
          "2 years ",
          "2 years ",
          "2 years ",
          "2 years ",
          "2 years ",
          "2 years ",
          "2 years ",
          "2 years ",
          "2 years ",
          "2 years ",
          "2 years ",
          "2 years ",
          "2 years ",
          "2 years ",
          "2 years ",
          "2 years ",
          "2 years ",
          "2 years ",
          "2 years ",
          "2 years "
         ],
         "xaxis": "x",
         "y": [
          5100,
          1800,
          3100,
          12000,
          1000,
          1200,
          4500,
          1300,
          6600,
          5600,
          7600,
          66000,
          2800,
          4700,
          3900,
          472,
          371,
          16000,
          26000,
          4500,
          3400,
          51000,
          84000,
          9800,
          2700,
          4100,
          18000,
          3400,
          15000,
          62000,
          4000,
          93000,
          725,
          635,
          527,
          1100,
          453,
          768,
          389,
          4700,
          1100,
          2400,
          519,
          1100,
          915,
          778,
          2100,
          1500,
          4400,
          3500,
          33000,
          3100,
          2000,
          5700,
          2900,
          1600,
          1500,
          33000,
          74000,
          9300,
          3400,
          200000,
          1400,
          3200,
          10000,
          28000,
          1200,
          2200,
          2500,
          1800,
          30000,
          2500,
          2500,
          705,
          6500,
          1700,
          1300,
          4800,
          33000,
          7000,
          2800,
          2100,
          34000,
          3200,
          2900,
          2100,
          966,
          11000,
          11000,
          1800,
          1100,
          1100,
          546,
          12000,
          1200,
          1900,
          827,
          407,
          2000,
          942,
          851,
          2400,
          16000,
          4800,
          5400,
          7100,
          5800,
          1400,
          1400,
          7400,
          3200,
          42000,
          3500,
          2300,
          24000,
          5000,
          6900,
          9400,
          1800,
          1800,
          77000,
          1700,
          591,
          451,
          477,
          1300,
          532,
          1700,
          857,
          13000,
          25000,
          1000,
          726,
          1400,
          853,
          883,
          1300,
          1300,
          1400,
          59000,
          800,
          947,
          1400,
          981,
          30000,
          18000,
          22000,
          11000,
          2900,
          8000,
          5200,
          22000,
          172000,
          2500,
          1700,
          117000,
          13000,
          3800,
          1600,
          3100,
          2100,
          9200,
          90000,
          5300,
          171000,
          9700,
          2400,
          2300,
          65000,
          5000,
          2700,
          24000,
          42000,
          2600,
          2000,
          4800,
          59000,
          3800,
          2700,
          2900,
          5100,
          43000,
          2700,
          10000,
          83000,
          3000,
          36000,
          7200,
          1600,
          2000,
          2400,
          24000,
          13000,
          4300,
          6800,
          158000,
          7600,
          8400,
          1800,
          10000,
          67000,
          4400,
          4700,
          2700,
          7500,
          147000,
          2400,
          737,
          3700,
          5200,
          30000,
          3900,
          9800,
          12000,
          6000,
          26000,
          35000,
          152000,
          7200,
          9300,
          457000,
          5200,
          1900,
          1700,
          2700,
          48000,
          1500,
          892,
          1700,
          29000,
          37000,
          1800,
          923,
          8200,
          1000,
          31000,
          6700,
          6300,
          3600,
          5900,
          2300,
          52000,
          884,
          1700,
          2100,
          6400,
          25000,
          5200,
          2200,
          2000,
          13000,
          24000,
          10000,
          49000,
          37000,
          19000,
          122000,
          147000,
          12000,
          7200,
          3300,
          35000,
          7200,
          1900,
          1300,
          15000,
          63000,
          2400,
          13000,
          3800,
          4100,
          55000,
          44000,
          4700,
          2100,
          68000,
          4400,
          156000,
          13000,
          535000,
          3300,
          3300,
          1400,
          1500,
          58000,
          4400,
          1700,
          1500,
          43000,
          2200,
          1800,
          3000,
          3600,
          68000,
          1800,
          53000,
          2300,
          6900,
          10000,
          273000,
          3600,
          1900,
          8500,
          6000,
          113000,
          11000,
          1100,
          33000,
          1600,
          1700,
          3100,
          4000,
          50000,
          1500,
          5600,
          7300,
          2600,
          133000,
          70000,
          42000,
          54000,
          27000,
          85000,
          71000,
          44000,
          177000,
          291000,
          632000,
          151000,
          45000,
          66000,
          84000,
          19000,
          33000,
          180000,
          31000,
          41000,
          2600,
          52000,
          2800,
          122000,
          2500,
          3900,
          1900,
          2300,
          2500,
          226000,
          52000,
          43000,
          8600,
          264000,
          47000,
          4100,
          76000,
          56000,
          64000,
          63000,
          291000,
          220000,
          363000,
          15000,
          249000,
          55000,
          38000,
          41000,
          115000,
          2200,
          86000,
          547000,
          58000,
          425000,
          77000,
          30000,
          18000,
          1300000,
          53000,
          50000,
          90000,
          105000,
          315000,
          156000,
          78000,
          22000,
          23000,
          45000,
          86000,
          45000,
          134000,
          203000,
          170000,
          56000,
          213000,
          24000,
          33000,
          42000,
          70000,
          42000,
          110000,
          85000,
          301000,
          277000,
          112000,
          85000,
          59000,
          164000,
          21000,
          62000,
          79000
         ],
         "yaxis": "y"
        }
       ],
       "layout": {
        "autosize": true,
        "legend": {
         "tracegroupgap": 0
        },
        "margin": {
         "t": 60
        },
        "template": {
         "data": {
          "bar": [
           {
            "error_x": {
             "color": "#2a3f5f"
            },
            "error_y": {
             "color": "#2a3f5f"
            },
            "marker": {
             "line": {
              "color": "#E5ECF6",
              "width": 0.5
             },
             "pattern": {
              "fillmode": "overlay",
              "size": 10,
              "solidity": 0.2
             }
            },
            "type": "bar"
           }
          ],
          "barpolar": [
           {
            "marker": {
             "line": {
              "color": "#E5ECF6",
              "width": 0.5
             },
             "pattern": {
              "fillmode": "overlay",
              "size": 10,
              "solidity": 0.2
             }
            },
            "type": "barpolar"
           }
          ],
          "carpet": [
           {
            "aaxis": {
             "endlinecolor": "#2a3f5f",
             "gridcolor": "white",
             "linecolor": "white",
             "minorgridcolor": "white",
             "startlinecolor": "#2a3f5f"
            },
            "baxis": {
             "endlinecolor": "#2a3f5f",
             "gridcolor": "white",
             "linecolor": "white",
             "minorgridcolor": "white",
             "startlinecolor": "#2a3f5f"
            },
            "type": "carpet"
           }
          ],
          "choropleth": [
           {
            "colorbar": {
             "outlinewidth": 0,
             "ticks": ""
            },
            "type": "choropleth"
           }
          ],
          "contour": [
           {
            "colorbar": {
             "outlinewidth": 0,
             "ticks": ""
            },
            "colorscale": [
             [
              0,
              "#0d0887"
             ],
             [
              0.1111111111111111,
              "#46039f"
             ],
             [
              0.2222222222222222,
              "#7201a8"
             ],
             [
              0.3333333333333333,
              "#9c179e"
             ],
             [
              0.4444444444444444,
              "#bd3786"
             ],
             [
              0.5555555555555556,
              "#d8576b"
             ],
             [
              0.6666666666666666,
              "#ed7953"
             ],
             [
              0.7777777777777778,
              "#fb9f3a"
             ],
             [
              0.8888888888888888,
              "#fdca26"
             ],
             [
              1,
              "#f0f921"
             ]
            ],
            "type": "contour"
           }
          ],
          "contourcarpet": [
           {
            "colorbar": {
             "outlinewidth": 0,
             "ticks": ""
            },
            "type": "contourcarpet"
           }
          ],
          "heatmap": [
           {
            "colorbar": {
             "outlinewidth": 0,
             "ticks": ""
            },
            "colorscale": [
             [
              0,
              "#0d0887"
             ],
             [
              0.1111111111111111,
              "#46039f"
             ],
             [
              0.2222222222222222,
              "#7201a8"
             ],
             [
              0.3333333333333333,
              "#9c179e"
             ],
             [
              0.4444444444444444,
              "#bd3786"
             ],
             [
              0.5555555555555556,
              "#d8576b"
             ],
             [
              0.6666666666666666,
              "#ed7953"
             ],
             [
              0.7777777777777778,
              "#fb9f3a"
             ],
             [
              0.8888888888888888,
              "#fdca26"
             ],
             [
              1,
              "#f0f921"
             ]
            ],
            "type": "heatmap"
           }
          ],
          "heatmapgl": [
           {
            "colorbar": {
             "outlinewidth": 0,
             "ticks": ""
            },
            "colorscale": [
             [
              0,
              "#0d0887"
             ],
             [
              0.1111111111111111,
              "#46039f"
             ],
             [
              0.2222222222222222,
              "#7201a8"
             ],
             [
              0.3333333333333333,
              "#9c179e"
             ],
             [
              0.4444444444444444,
              "#bd3786"
             ],
             [
              0.5555555555555556,
              "#d8576b"
             ],
             [
              0.6666666666666666,
              "#ed7953"
             ],
             [
              0.7777777777777778,
              "#fb9f3a"
             ],
             [
              0.8888888888888888,
              "#fdca26"
             ],
             [
              1,
              "#f0f921"
             ]
            ],
            "type": "heatmapgl"
           }
          ],
          "histogram": [
           {
            "marker": {
             "pattern": {
              "fillmode": "overlay",
              "size": 10,
              "solidity": 0.2
             }
            },
            "type": "histogram"
           }
          ],
          "histogram2d": [
           {
            "colorbar": {
             "outlinewidth": 0,
             "ticks": ""
            },
            "colorscale": [
             [
              0,
              "#0d0887"
             ],
             [
              0.1111111111111111,
              "#46039f"
             ],
             [
              0.2222222222222222,
              "#7201a8"
             ],
             [
              0.3333333333333333,
              "#9c179e"
             ],
             [
              0.4444444444444444,
              "#bd3786"
             ],
             [
              0.5555555555555556,
              "#d8576b"
             ],
             [
              0.6666666666666666,
              "#ed7953"
             ],
             [
              0.7777777777777778,
              "#fb9f3a"
             ],
             [
              0.8888888888888888,
              "#fdca26"
             ],
             [
              1,
              "#f0f921"
             ]
            ],
            "type": "histogram2d"
           }
          ],
          "histogram2dcontour": [
           {
            "colorbar": {
             "outlinewidth": 0,
             "ticks": ""
            },
            "colorscale": [
             [
              0,
              "#0d0887"
             ],
             [
              0.1111111111111111,
              "#46039f"
             ],
             [
              0.2222222222222222,
              "#7201a8"
             ],
             [
              0.3333333333333333,
              "#9c179e"
             ],
             [
              0.4444444444444444,
              "#bd3786"
             ],
             [
              0.5555555555555556,
              "#d8576b"
             ],
             [
              0.6666666666666666,
              "#ed7953"
             ],
             [
              0.7777777777777778,
              "#fb9f3a"
             ],
             [
              0.8888888888888888,
              "#fdca26"
             ],
             [
              1,
              "#f0f921"
             ]
            ],
            "type": "histogram2dcontour"
           }
          ],
          "mesh3d": [
           {
            "colorbar": {
             "outlinewidth": 0,
             "ticks": ""
            },
            "type": "mesh3d"
           }
          ],
          "parcoords": [
           {
            "line": {
             "colorbar": {
              "outlinewidth": 0,
              "ticks": ""
             }
            },
            "type": "parcoords"
           }
          ],
          "pie": [
           {
            "automargin": true,
            "type": "pie"
           }
          ],
          "scatter": [
           {
            "fillpattern": {
             "fillmode": "overlay",
             "size": 10,
             "solidity": 0.2
            },
            "type": "scatter"
           }
          ],
          "scatter3d": [
           {
            "line": {
             "colorbar": {
              "outlinewidth": 0,
              "ticks": ""
             }
            },
            "marker": {
             "colorbar": {
              "outlinewidth": 0,
              "ticks": ""
             }
            },
            "type": "scatter3d"
           }
          ],
          "scattercarpet": [
           {
            "marker": {
             "colorbar": {
              "outlinewidth": 0,
              "ticks": ""
             }
            },
            "type": "scattercarpet"
           }
          ],
          "scattergeo": [
           {
            "marker": {
             "colorbar": {
              "outlinewidth": 0,
              "ticks": ""
             }
            },
            "type": "scattergeo"
           }
          ],
          "scattergl": [
           {
            "marker": {
             "colorbar": {
              "outlinewidth": 0,
              "ticks": ""
             }
            },
            "type": "scattergl"
           }
          ],
          "scattermapbox": [
           {
            "marker": {
             "colorbar": {
              "outlinewidth": 0,
              "ticks": ""
             }
            },
            "type": "scattermapbox"
           }
          ],
          "scatterpolar": [
           {
            "marker": {
             "colorbar": {
              "outlinewidth": 0,
              "ticks": ""
             }
            },
            "type": "scatterpolar"
           }
          ],
          "scatterpolargl": [
           {
            "marker": {
             "colorbar": {
              "outlinewidth": 0,
              "ticks": ""
             }
            },
            "type": "scatterpolargl"
           }
          ],
          "scatterternary": [
           {
            "marker": {
             "colorbar": {
              "outlinewidth": 0,
              "ticks": ""
             }
            },
            "type": "scatterternary"
           }
          ],
          "surface": [
           {
            "colorbar": {
             "outlinewidth": 0,
             "ticks": ""
            },
            "colorscale": [
             [
              0,
              "#0d0887"
             ],
             [
              0.1111111111111111,
              "#46039f"
             ],
             [
              0.2222222222222222,
              "#7201a8"
             ],
             [
              0.3333333333333333,
              "#9c179e"
             ],
             [
              0.4444444444444444,
              "#bd3786"
             ],
             [
              0.5555555555555556,
              "#d8576b"
             ],
             [
              0.6666666666666666,
              "#ed7953"
             ],
             [
              0.7777777777777778,
              "#fb9f3a"
             ],
             [
              0.8888888888888888,
              "#fdca26"
             ],
             [
              1,
              "#f0f921"
             ]
            ],
            "type": "surface"
           }
          ],
          "table": [
           {
            "cells": {
             "fill": {
              "color": "#EBF0F8"
             },
             "line": {
              "color": "white"
             }
            },
            "header": {
             "fill": {
              "color": "#C8D4E3"
             },
             "line": {
              "color": "white"
             }
            },
            "type": "table"
           }
          ]
         },
         "layout": {
          "annotationdefaults": {
           "arrowcolor": "#2a3f5f",
           "arrowhead": 0,
           "arrowwidth": 1
          },
          "autotypenumbers": "strict",
          "coloraxis": {
           "colorbar": {
            "outlinewidth": 0,
            "ticks": ""
           }
          },
          "colorscale": {
           "diverging": [
            [
             0,
             "#8e0152"
            ],
            [
             0.1,
             "#c51b7d"
            ],
            [
             0.2,
             "#de77ae"
            ],
            [
             0.3,
             "#f1b6da"
            ],
            [
             0.4,
             "#fde0ef"
            ],
            [
             0.5,
             "#f7f7f7"
            ],
            [
             0.6,
             "#e6f5d0"
            ],
            [
             0.7,
             "#b8e186"
            ],
            [
             0.8,
             "#7fbc41"
            ],
            [
             0.9,
             "#4d9221"
            ],
            [
             1,
             "#276419"
            ]
           ],
           "sequential": [
            [
             0,
             "#0d0887"
            ],
            [
             0.1111111111111111,
             "#46039f"
            ],
            [
             0.2222222222222222,
             "#7201a8"
            ],
            [
             0.3333333333333333,
             "#9c179e"
            ],
            [
             0.4444444444444444,
             "#bd3786"
            ],
            [
             0.5555555555555556,
             "#d8576b"
            ],
            [
             0.6666666666666666,
             "#ed7953"
            ],
            [
             0.7777777777777778,
             "#fb9f3a"
            ],
            [
             0.8888888888888888,
             "#fdca26"
            ],
            [
             1,
             "#f0f921"
            ]
           ],
           "sequentialminus": [
            [
             0,
             "#0d0887"
            ],
            [
             0.1111111111111111,
             "#46039f"
            ],
            [
             0.2222222222222222,
             "#7201a8"
            ],
            [
             0.3333333333333333,
             "#9c179e"
            ],
            [
             0.4444444444444444,
             "#bd3786"
            ],
            [
             0.5555555555555556,
             "#d8576b"
            ],
            [
             0.6666666666666666,
             "#ed7953"
            ],
            [
             0.7777777777777778,
             "#fb9f3a"
            ],
            [
             0.8888888888888888,
             "#fdca26"
            ],
            [
             1,
             "#f0f921"
            ]
           ]
          },
          "colorway": [
           "#636efa",
           "#EF553B",
           "#00cc96",
           "#ab63fa",
           "#FFA15A",
           "#19d3f3",
           "#FF6692",
           "#B6E880",
           "#FF97FF",
           "#FECB52"
          ],
          "font": {
           "color": "#2a3f5f"
          },
          "geo": {
           "bgcolor": "white",
           "lakecolor": "white",
           "landcolor": "#E5ECF6",
           "showlakes": true,
           "showland": true,
           "subunitcolor": "white"
          },
          "hoverlabel": {
           "align": "left"
          },
          "hovermode": "closest",
          "mapbox": {
           "style": "light"
          },
          "paper_bgcolor": "white",
          "plot_bgcolor": "#E5ECF6",
          "polar": {
           "angularaxis": {
            "gridcolor": "white",
            "linecolor": "white",
            "ticks": ""
           },
           "bgcolor": "#E5ECF6",
           "radialaxis": {
            "gridcolor": "white",
            "linecolor": "white",
            "ticks": ""
           }
          },
          "scene": {
           "xaxis": {
            "backgroundcolor": "#E5ECF6",
            "gridcolor": "white",
            "gridwidth": 2,
            "linecolor": "white",
            "showbackground": true,
            "ticks": "",
            "zerolinecolor": "white"
           },
           "yaxis": {
            "backgroundcolor": "#E5ECF6",
            "gridcolor": "white",
            "gridwidth": 2,
            "linecolor": "white",
            "showbackground": true,
            "ticks": "",
            "zerolinecolor": "white"
           },
           "zaxis": {
            "backgroundcolor": "#E5ECF6",
            "gridcolor": "white",
            "gridwidth": 2,
            "linecolor": "white",
            "showbackground": true,
            "ticks": "",
            "zerolinecolor": "white"
           }
          },
          "shapedefaults": {
           "line": {
            "color": "#2a3f5f"
           }
          },
          "ternary": {
           "aaxis": {
            "gridcolor": "white",
            "linecolor": "white",
            "ticks": ""
           },
           "baxis": {
            "gridcolor": "white",
            "linecolor": "white",
            "ticks": ""
           },
           "bgcolor": "#E5ECF6",
           "caxis": {
            "gridcolor": "white",
            "linecolor": "white",
            "ticks": ""
           }
          },
          "title": {
           "x": 0.05
          },
          "xaxis": {
           "automargin": true,
           "gridcolor": "white",
           "linecolor": "white",
           "ticks": "",
           "title": {
            "standoff": 15
           },
           "zerolinecolor": "white",
           "zerolinewidth": 2
          },
          "yaxis": {
           "automargin": true,
           "gridcolor": "white",
           "linecolor": "white",
           "ticks": "",
           "title": {
            "standoff": 15
           },
           "zerolinecolor": "white",
           "zerolinewidth": 2
          }
         }
        },
        "title": {
         "text": "Konvo ZA Podcast"
        },
        "updatemenus": [
         {
          "buttons": [
           {
            "args": [
             "type",
             "scatter"
            ],
            "label": "Scatter Plot",
            "method": "restyle"
           }
          ],
          "direction": "left",
          "type": "buttons"
         }
        ],
        "xaxis": {
         "anchor": "y",
         "autorange": true,
         "domain": [
          0,
          1
         ],
         "range": [
          -1.5838157725459927,
          27.583815772545993
         ],
         "title": {
          "text": "Posted On"
         },
         "type": "category"
        },
        "yaxis": {
         "anchor": "x",
         "autorange": true,
         "domain": [
          0,
          1
         ],
         "range": [
          -100944.16397849463,
          1401315.1639784947
         ],
         "title": {
          "text": "# of views per episode"
         },
         "type": "linear"
        }
       }
      },
      "image/png": "[encoded data removed]",
      "text/html": [
       "<div>                            <div id=\"b078b47e-db47-4ed7-8b95-41c96861d70e\" class=\"plotly-graph-div\" style=\"height:525px; width:100%;\"></div>            <script type=\"text/javascript\">                require([\"plotly\"], function(Plotly) {                    window.PLOTLYENV=window.PLOTLYENV || {};                                    if (document.getElementById(\"b078b47e-db47-4ed7-8b95-41c96861d70e\")) {                    Plotly.newPlot(                        \"b078b47e-db47-4ed7-8b95-41c96861d70e\",                        [{\"hovertemplate\":\"x=%{x}\\u003cbr\\u003ey=%{y}\\u003cextra\\u003e\\u003c\\u002fextra\\u003e\",\"legendgroup\":\"\",\"marker\":{\"color\":\"#636efa\",\"symbol\":\"circle\"},\"mode\":\"markers\",\"name\":\"\",\"orientation\":\"v\",\"showlegend\":false,\"x\":[\"5 hours \",\"2 days \",\"2 days \",\"3 days \",\"3 days \",\"3 days \",\"3 days \",\"5 days \",\"5 days \",\"6 days \",\"6 days \",\"7 days \",\"9 days \",\"10 days \",\"10 days \",\"11 days \",\"11 days \",\"11 days \",\"12 days \",\"12 days \",\"13 days \",\"13 days \",\"2 weeks \",\"2 weeks \",\"2 weeks \",\"2 weeks \",\"2 weeks \",\"2 weeks \",\"2 weeks \",\"2 weeks \",\"2 weeks \",\"3 weeks \",\"3 weeks \",\"3 weeks \",\"3 weeks \",\"3 weeks \",\"3 weeks \",\"3 weeks \",\"3 weeks \",\"4 weeks \",\"4 weeks \",\"1 month \",\"1 month \",\"1 month \",\"1 month \",\"1 month \",\"1 month \",\"1 month \",\"1 month \",\"1 month \",\"1 month \",\"1 month \",\"1 month \",\"1 month \",\"1 month \",\"1 month \",\"1 month \",\"1 month \",\"1 month \",\"1 month \",\"1 month \",\"1 month \",\"1 month \",\"1 month \",\"1 month \",\"1 month \",\"1 month \",\"1 month \",\"1 month \",\"1 month \",\"1 month \",\"1 month \",\"1 month \",\"1 month \",\"1 month \",\"1 month \",\"1 month \",\"1 month \",\"1 month \",\"1 month \",\"1 month \",\"1 month \",\"1 month \",\"1 month \",\"1 month \",\"1 month \",\"1 month \",\"1 month \",\"1 month \",\"2 months \",\"2 months \",\"2 months \",\"2 months \",\"2 months \",\"2 months \",\"2 months \",\"2 months \",\"2 months \",\"2 months \",\"2 months \",\"2 months \",\"2 months \",\"2 months \",\"2 months \",\"2 months \",\"2 months \",\"2 months \",\"2 months \",\"2 months \",\"2 months \",\"2 months \",\"2 months \",\"3 months \",\"3 months \",\"3 months \",\"3 months \",\"3 months \",\"3 months \",\"3 months \",\"3 months \",\"3 months \",\"3 months \",\"3 months \",\"3 months \",\"3 months \",\"3 months \",\"3 months \",\"3 months \",\"3 months \",\"3 months \",\"3 months \",\"3 months \",\"3 months \",\"3 months \",\"3 months \",\"3 months \",\"3 months \",\"3 months \",\"3 months \",\"3 months \",\"3 months \",\"3 months \",\"3 months \",\"3 months \",\"3 months \",\"3 months \",\"3 months \",\"3 months \",\"4 months \",\"4 months \",\"4 months \",\"4 months \",\"4 months \",\"4 months \",\"4 months \",\"4 months \",\"4 months \",\"4 months \",\"4 months \",\"4 months \",\"4 months \",\"4 months \",\"4 months \",\"4 months \",\"4 months \",\"4 months \",\"4 months \",\"4 months \",\"4 months \",\"4 months \",\"4 months \",\"4 months \",\"4 months \",\"4 months \",\"4 months \",\"4 months \",\"5 months \",\"5 months \",\"5 months \",\"5 months \",\"5 months \",\"5 months \",\"5 months \",\"5 months \",\"5 months \",\"5 months \",\"5 months \",\"5 months \",\"5 months \",\"5 months \",\"5 months \",\"5 months \",\"5 months \",\"5 months \",\"5 months \",\"5 months \",\"5 months \",\"5 months \",\"5 months \",\"5 months \",\"5 months \",\"6 months \",\"6 months \",\"6 months \",\"6 months \",\"6 months \",\"6 months \",\"6 months \",\"6 months \",\"6 months \",\"6 months \",\"6 months \",\"6 months \",\"6 months \",\"6 months \",\"6 months \",\"6 months \",\"6 months \",\"6 months \",\"6 months \",\"6 months \",\"6 months \",\"6 months \",\"6 months \",\"7 months \",\"7 months \",\"7 months \",\"7 months \",\"7 months \",\"7 months \",\"7 months \",\"7 months \",\"7 months \",\"7 months \",\"7 months \",\"7 months \",\"7 months \",\"7 months \",\"7 months \",\"7 months \",\"7 months \",\"7 months \",\"7 months \",\"7 months \",\"7 months \",\"7 months \",\"8 months \",\"8 months \",\"8 months \",\"8 months \",\"8 months \",\"8 months \",\"8 months \",\"8 months \",\"8 months \",\"8 months \",\"8 months \",\"8 months \",\"8 months \",\"8 months \",\"8 months \",\"8 months \",\"8 months \",\"8 months \",\"8 months \",\"8 months \",\"8 months \",\"9 months \",\"9 months \",\"9 months \",\"9 months \",\"9 months \",\"9 months \",\"9 months \",\"9 months \",\"9 months \",\"9 months \",\"9 months \",\"9 months \",\"9 months \",\"9 months \",\"9 months \",\"9 months \",\"9 months \",\"9 months \",\"9 months \",\"9 months \",\"9 months \",\"9 months \",\"9 months \",\"9 months \",\"9 months \",\"9 months \",\"10 months \",\"10 months \",\"10 months \",\"10 months \",\"10 months \",\"10 months \",\"10 months \",\"10 months \",\"10 months \",\"10 months \",\"10 months \",\"10 months \",\"10 months \",\"10 months \",\"11 months \",\"11 months \",\"11 months \",\"11 months \",\"11 months \",\"11 months \",\"11 months \",\"11 months \",\"11 months \",\"11 months \",\"11 months \",\"11 months \",\"11 months \",\"1 year \",\"1 year \",\"1 year \",\"1 year \",\"1 year \",\"1 year \",\"1 year \",\"1 year \",\"1 year \",\"1 year \",\"1 year \",\"1 year \",\"1 year \",\"1 year \",\"1 year \",\"1 year \",\"1 year \",\"1 year \",\"1 year \",\"1 year \",\"1 year \",\"1 year \",\"1 year \",\"1 year \",\"1 year \",\"1 year \",\"1 year \",\"1 year \",\"1 year \",\"1 year \",\"1 year \",\"1 year \",\"1 year \",\"1 year \",\"1 year \",\"1 year \",\"1 year \",\"1 year \",\"1 year \",\"1 year \",\"1 year \",\"1 year \",\"1 year \",\"1 year \",\"1 year \",\"1 year \",\"1 year \",\"1 year \",\"1 year \",\"1 year \",\"1 year \",\"1 year \",\"1 year \",\"1 year \",\"1 year \",\"1 year \",\"1 year \",\"1 year \",\"1 year \",\"1 year \",\"1 year \",\"1 year \",\"2 years \",\"2 years \",\"2 years \",\"2 years \",\"2 years \",\"2 years \",\"2 years \",\"2 years \",\"2 years \",\"2 years \",\"2 years \",\"2 years \",\"2 years \",\"2 years \",\"2 years \",\"2 years \",\"2 years \",\"2 years \",\"2 years \",\"2 years \",\"2 years \",\"2 years \",\"2 years \",\"2 years \",\"2 years \",\"2 years \"],\"xaxis\":\"x\",\"y\":[5100.0,1800.0,3100.0,12000.0,1000.0,1200.0,4500.0,1300.0,6600.0,5600.0,7600.0,66000.0,2800.0,4700.0,3900.0,472.0,371.0,16000.0,26000.0,4500.0,3400.0,51000.0,84000.0,9800.0,2700.0,4100.0,18000.0,3400.0,15000.0,62000.0,4000.0,93000.0,725.0,635.0,527.0,1100.0,453.0,768.0,389.0,4700.0,1100.0,2400.0,519.0,1100.0,915.0,778.0,2100.0,1500.0,4400.0,3500.0,33000.0,3100.0,2000.0,5700.0,2900.0,1600.0,1500.0,33000.0,74000.0,9300.0,3400.0,200000.0,1400.0,3200.0,10000.0,28000.0,1200.0,2200.0,2500.0,1800.0,30000.0,2500.0,2500.0,705.0,6500.0,1700.0,1300.0,4800.0,33000.0,7000.0,2800.0,2100.0,34000.0,3200.0,2900.0,2100.0,966.0,11000.0,11000.0,1800.0,1100.0,1100.0,546.0,12000.0,1200.0,1900.0,827.0,407.0,2000.0,942.0,851.0,2400.0,16000.0,4800.0,5400.0,7100.0,5800.0,1400.0,1400.0,7400.0,3200.0,42000.0,3500.0,2300.0,24000.0,5000.0,6900.0,9400.0,1800.0,1800.0,77000.0,1700.0,591.0,451.0,477.0,1300.0,532.0,1700.0,857.0,13000.0,25000.0,1000.0,726.0,1400.0,853.0,883.0,1300.0,1300.0,1400.0,59000.0,800.0,947.0,1400.0,981.0,30000.0,18000.0,22000.0,11000.0,2900.0,8000.0,5200.0,22000.0,172000.0,2500.0,1700.0,117000.0,13000.0,3800.0,1600.0,3100.0,2100.0,9200.0,90000.0,5300.0,171000.0,9700.0,2400.0,2300.0,65000.0,5000.0,2700.0,24000.0,42000.0,2600.0,2000.0,4800.0,59000.0,3800.0,2700.0,2900.0,5100.0,43000.0,2700.0,10000.0,83000.0,3000.0,36000.0,7200.0,1600.0,2000.0,2400.0,24000.0,13000.0,4300.0,6800.0,158000.0,7600.0,8400.0,1800.0,10000.0,67000.0,4400.0,4700.0,2700.0,7500.0,147000.0,2400.0,737.0,3700.0,5200.0,30000.0,3900.0,9800.0,12000.0,6000.0,26000.0,35000.0,152000.0,7200.0,9300.0,457000.0,5200.0,1900.0,1700.0,2700.0,48000.0,1500.0,892.0,1700.0,29000.0,37000.0,1800.0,923.0,8200.0,1000.0,31000.0,6700.0,6300.0,3600.0,5900.0,2300.0,52000.0,884.0,1700.0,2100.0,6400.0,25000.0,5200.0,2200.0,2000.0,13000.0,24000.0,10000.0,49000.0,37000.0,19000.0,122000.0,147000.0,12000.0,7200.0,3300.0,35000.0,7200.0,1900.0,1300.0,15000.0,63000.0,2400.0,13000.0,3800.0,4100.0,55000.0,44000.0,4700.0,2100.0,68000.0,4400.0,156000.0,13000.0,535000.0,3300.0,3300.0,1400.0,1500.0,58000.0,4400.0,1700.0,1500.0,43000.0,2200.0,1800.0,3000.0,3600.0,68000.0,1800.0,53000.0,2300.0,6900.0,10000.0,273000.0,3600.0,1900.0,8500.0,6000.0,113000.0,11000.0,1100.0,33000.0,1600.0,1700.0,3100.0,4000.0,50000.0,1500.0,5600.0,7300.0,2600.0,133000.0,70000.0,42000.0,54000.0,27000.0,85000.0,71000.0,44000.0,177000.0,291000.0,632000.0,151000.0,45000.0,66000.0,84000.0,19000.0,33000.0,180000.0,31000.0,41000.0,2600.0,52000.0,2800.0,122000.0,2500.0,3900.0,1900.0,2300.0,2500.0,226000.0,52000.0,43000.0,8600.0,264000.0,47000.0,4100.0,76000.0,56000.0,64000.0,63000.0,291000.0,220000.0,363000.0,15000.0,249000.0,55000.0,38000.0,41000.0,115000.0,2200.0,86000.0,547000.0,58000.0,425000.0,77000.0,30000.0,18000.0,1300000.0,53000.0,50000.0,90000.0,105000.0,315000.0,156000.0,78000.0,22000.0,23000.0,45000.0,86000.0,45000.0,134000.0,203000.0,170000.0,56000.0,213000.0,24000.0,33000.0,42000.0,70000.0,42000.0,110000.0,85000.0,301000.0,277000.0,112000.0,85000.0,59000.0,164000.0,21000.0,62000.0,79000.0],\"yaxis\":\"y\",\"type\":\"scatter\"}],                        {\"template\":{\"data\":{\"histogram2dcontour\":[{\"type\":\"histogram2dcontour\",\"colorbar\":{\"outlinewidth\":0,\"ticks\":\"\"},\"colorscale\":[[0.0,\"#0d0887\"],[0.1111111111111111,\"#46039f\"],[0.2222222222222222,\"#7201a8\"],[0.3333333333333333,\"#9c179e\"],[0.4444444444444444,\"#bd3786\"],[0.5555555555555556,\"#d8576b\"],[0.6666666666666666,\"#ed7953\"],[0.7777777777777778,\"#fb9f3a\"],[0.8888888888888888,\"#fdca26\"],[1.0,\"#f0f921\"]]}],\"choropleth\":[{\"type\":\"choropleth\",\"colorbar\":{\"outlinewidth\":0,\"ticks\":\"\"}}],\"histogram2d\":[{\"type\":\"histogram2d\",\"colorbar\":{\"outlinewidth\":0,\"ticks\":\"\"},\"colorscale\":[[0.0,\"#0d0887\"],[0.1111111111111111,\"#46039f\"],[0.2222222222222222,\"#7201a8\"],[0.3333333333333333,\"#9c179e\"],[0.4444444444444444,\"#bd3786\"],[0.5555555555555556,\"#d8576b\"],[0.6666666666666666,\"#ed7953\"],[0.7777777777777778,\"#fb9f3a\"],[0.8888888888888888,\"#fdca26\"],[1.0,\"#f0f921\"]]}],\"heatmap\":[{\"type\":\"heatmap\",\"colorbar\":{\"outlinewidth\":0,\"ticks\":\"\"},\"colorscale\":[[0.0,\"#0d0887\"],[0.1111111111111111,\"#46039f\"],[0.2222222222222222,\"#7201a8\"],[0.3333333333333333,\"#9c179e\"],[0.4444444444444444,\"#bd3786\"],[0.5555555555555556,\"#d8576b\"],[0.6666666666666666,\"#ed7953\"],[0.7777777777777778,\"#fb9f3a\"],[0.8888888888888888,\"#fdca26\"],[1.0,\"#f0f921\"]]}],\"heatmapgl\":[{\"type\":\"heatmapgl\",\"colorbar\":{\"outlinewidth\":0,\"ticks\":\"\"},\"colorscale\":[[0.0,\"#0d0887\"],[0.1111111111111111,\"#46039f\"],[0.2222222222222222,\"#7201a8\"],[0.3333333333333333,\"#9c179e\"],[0.4444444444444444,\"#bd3786\"],[0.5555555555555556,\"#d8576b\"],[0.6666666666666666,\"#ed7953\"],[0.7777777777777778,\"#fb9f3a\"],[0.8888888888888888,\"#fdca26\"],[1.0,\"#f0f921\"]]}],\"contourcarpet\":[{\"type\":\"contourcarpet\",\"colorbar\":{\"outlinewidth\":0,\"ticks\":\"\"}}],\"contour\":[{\"type\":\"contour\",\"colorbar\":{\"outlinewidth\":0,\"ticks\":\"\"},\"colorscale\":[[0.0,\"#0d0887\"],[0.1111111111111111,\"#46039f\"],[0.2222222222222222,\"#7201a8\"],[0.3333333333333333,\"#9c179e\"],[0.4444444444444444,\"#bd3786\"],[0.5555555555555556,\"#d8576b\"],[0.6666666666666666,\"#ed7953\"],[0.7777777777777778,\"#fb9f3a\"],[0.8888888888888888,\"#fdca26\"],[1.0,\"#f0f921\"]]}],\"surface\":[{\"type\":\"surface\",\"colorbar\":{\"outlinewidth\":0,\"ticks\":\"\"},\"colorscale\":[[0.0,\"#0d0887\"],[0.1111111111111111,\"#46039f\"],[0.2222222222222222,\"#7201a8\"],[0.3333333333333333,\"#9c179e\"],[0.4444444444444444,\"#bd3786\"],[0.5555555555555556,\"#d8576b\"],[0.6666666666666666,\"#ed7953\"],[0.7777777777777778,\"#fb9f3a\"],[0.8888888888888888,\"#fdca26\"],[1.0,\"#f0f921\"]]}],\"mesh3d\":[{\"type\":\"mesh3d\",\"colorbar\":{\"outlinewidth\":0,\"ticks\":\"\"}}],\"scatter\":[{\"fillpattern\":{\"fillmode\":\"overlay\",\"size\":10,\"solidity\":0.2},\"type\":\"scatter\"}],\"parcoords\":[{\"type\":\"parcoords\",\"line\":{\"colorbar\":{\"outlinewidth\":0,\"ticks\":\"\"}}}],\"scatterpolargl\":[{\"type\":\"scatterpolargl\",\"marker\":{\"colorbar\":{\"outlinewidth\":0,\"ticks\":\"\"}}}],\"bar\":[{\"error_x\":{\"color\":\"#2a3f5f\"},\"error_y\":{\"color\":\"#2a3f5f\"},\"marker\":{\"line\":{\"color\":\"#E5ECF6\",\"width\":0.5},\"pattern\":{\"fillmode\":\"overlay\",\"size\":10,\"solidity\":0.2}},\"type\":\"bar\"}],\"scattergeo\":[{\"type\":\"scattergeo\",\"marker\":{\"colorbar\":{\"outlinewidth\":0,\"ticks\":\"\"}}}],\"scatterpolar\":[{\"type\":\"scatterpolar\",\"marker\":{\"colorbar\":{\"outlinewidth\":0,\"ticks\":\"\"}}}],\"histogram\":[{\"marker\":{\"pattern\":{\"fillmode\":\"overlay\",\"size\":10,\"solidity\":0.2}},\"type\":\"histogram\"}],\"scattergl\":[{\"type\":\"scattergl\",\"marker\":{\"colorbar\":{\"outlinewidth\":0,\"ticks\":\"\"}}}],\"scatter3d\":[{\"type\":\"scatter3d\",\"line\":{\"colorbar\":{\"outlinewidth\":0,\"ticks\":\"\"}},\"marker\":{\"colorbar\":{\"outlinewidth\":0,\"ticks\":\"\"}}}],\"scattermapbox\":[{\"type\":\"scattermapbox\",\"marker\":{\"colorbar\":{\"outlinewidth\":0,\"ticks\":\"\"}}}],\"scatterternary\":[{\"type\":\"scatterternary\",\"marker\":{\"colorbar\":{\"outlinewidth\":0,\"ticks\":\"\"}}}],\"scattercarpet\":[{\"type\":\"scattercarpet\",\"marker\":{\"colorbar\":{\"outlinewidth\":0,\"ticks\":\"\"}}}],\"carpet\":[{\"aaxis\":{\"endlinecolor\":\"#2a3f5f\",\"gridcolor\":\"white\",\"linecolor\":\"white\",\"minorgridcolor\":\"white\",\"startlinecolor\":\"#2a3f5f\"},\"baxis\":{\"endlinecolor\":\"#2a3f5f\",\"gridcolor\":\"white\",\"linecolor\":\"white\",\"minorgridcolor\":\"white\",\"startlinecolor\":\"#2a3f5f\"},\"type\":\"carpet\"}],\"table\":[{\"cells\":{\"fill\":{\"color\":\"#EBF0F8\"},\"line\":{\"color\":\"white\"}},\"header\":{\"fill\":{\"color\":\"#C8D4E3\"},\"line\":{\"color\":\"white\"}},\"type\":\"table\"}],\"barpolar\":[{\"marker\":{\"line\":{\"color\":\"#E5ECF6\",\"width\":0.5},\"pattern\":{\"fillmode\":\"overlay\",\"size\":10,\"solidity\":0.2}},\"type\":\"barpolar\"}],\"pie\":[{\"automargin\":true,\"type\":\"pie\"}]},\"layout\":{\"autotypenumbers\":\"strict\",\"colorway\":[\"#636efa\",\"#EF553B\",\"#00cc96\",\"#ab63fa\",\"#FFA15A\",\"#19d3f3\",\"#FF6692\",\"#B6E880\",\"#FF97FF\",\"#FECB52\"],\"font\":{\"color\":\"#2a3f5f\"},\"hovermode\":\"closest\",\"hoverlabel\":{\"align\":\"left\"},\"paper_bgcolor\":\"white\",\"plot_bgcolor\":\"#E5ECF6\",\"polar\":{\"bgcolor\":\"#E5ECF6\",\"angularaxis\":{\"gridcolor\":\"white\",\"linecolor\":\"white\",\"ticks\":\"\"},\"radialaxis\":{\"gridcolor\":\"white\",\"linecolor\":\"white\",\"ticks\":\"\"}},\"ternary\":{\"bgcolor\":\"#E5ECF6\",\"aaxis\":{\"gridcolor\":\"white\",\"linecolor\":\"white\",\"ticks\":\"\"},\"baxis\":{\"gridcolor\":\"white\",\"linecolor\":\"white\",\"ticks\":\"\"},\"caxis\":{\"gridcolor\":\"white\",\"linecolor\":\"white\",\"ticks\":\"\"}},\"coloraxis\":{\"colorbar\":{\"outlinewidth\":0,\"ticks\":\"\"}},\"colorscale\":{\"sequential\":[[0.0,\"#0d0887\"],[0.1111111111111111,\"#46039f\"],[0.2222222222222222,\"#7201a8\"],[0.3333333333333333,\"#9c179e\"],[0.4444444444444444,\"#bd3786\"],[0.5555555555555556,\"#d8576b\"],[0.6666666666666666,\"#ed7953\"],[0.7777777777777778,\"#fb9f3a\"],[0.8888888888888888,\"#fdca26\"],[1.0,\"#f0f921\"]],\"sequentialminus\":[[0.0,\"#0d0887\"],[0.1111111111111111,\"#46039f\"],[0.2222222222222222,\"#7201a8\"],[0.3333333333333333,\"#9c179e\"],[0.4444444444444444,\"#bd3786\"],[0.5555555555555556,\"#d8576b\"],[0.6666666666666666,\"#ed7953\"],[0.7777777777777778,\"#fb9f3a\"],[0.8888888888888888,\"#fdca26\"],[1.0,\"#f0f921\"]],\"diverging\":[[0,\"#8e0152\"],[0.1,\"#c51b7d\"],[0.2,\"#de77ae\"],[0.3,\"#f1b6da\"],[0.4,\"#fde0ef\"],[0.5,\"#f7f7f7\"],[0.6,\"#e6f5d0\"],[0.7,\"#b8e186\"],[0.8,\"#7fbc41\"],[0.9,\"#4d9221\"],[1,\"#276419\"]]},\"xaxis\":{\"gridcolor\":\"white\",\"linecolor\":\"white\",\"ticks\":\"\",\"title\":{\"standoff\":15},\"zerolinecolor\":\"white\",\"automargin\":true,\"zerolinewidth\":2},\"yaxis\":{\"gridcolor\":\"white\",\"linecolor\":\"white\",\"ticks\":\"\",\"title\":{\"standoff\":15},\"zerolinecolor\":\"white\",\"automargin\":true,\"zerolinewidth\":2},\"scene\":{\"xaxis\":{\"backgroundcolor\":\"#E5ECF6\",\"gridcolor\":\"white\",\"linecolor\":\"white\",\"showbackground\":true,\"ticks\":\"\",\"zerolinecolor\":\"white\",\"gridwidth\":2},\"yaxis\":{\"backgroundcolor\":\"#E5ECF6\",\"gridcolor\":\"white\",\"linecolor\":\"white\",\"showbackground\":true,\"ticks\":\"\",\"zerolinecolor\":\"white\",\"gridwidth\":2},\"zaxis\":{\"backgroundcolor\":\"#E5ECF6\",\"gridcolor\":\"white\",\"linecolor\":\"white\",\"showbackground\":true,\"ticks\":\"\",\"zerolinecolor\":\"white\",\"gridwidth\":2}},\"shapedefaults\":{\"line\":{\"color\":\"#2a3f5f\"}},\"annotationdefaults\":{\"arrowcolor\":\"#2a3f5f\",\"arrowhead\":0,\"arrowwidth\":1},\"geo\":{\"bgcolor\":\"white\",\"landcolor\":\"#E5ECF6\",\"subunitcolor\":\"white\",\"showland\":true,\"showlakes\":true,\"lakecolor\":\"white\"},\"title\":{\"x\":0.05},\"mapbox\":{\"style\":\"light\"}}},\"xaxis\":{\"anchor\":\"y\",\"domain\":[0.0,1.0],\"title\":{\"text\":\"Posted On\"}},\"yaxis\":{\"anchor\":\"x\",\"domain\":[0.0,1.0],\"title\":{\"text\":\"# of views per episode\"}},\"legend\":{\"tracegroupgap\":0},\"margin\":{\"t\":60},\"title\":{\"text\":\"Konvo ZA Podcast\"},\"updatemenus\":[{\"buttons\":[{\"args\":[\"type\",\"scatter\"],\"label\":\"Scatter Plot\",\"method\":\"restyle\"}],\"direction\":\"left\",\"type\":\"buttons\"}]},                        {\"responsive\": true}                    ).then(function(){\n",
       "                            \n",
       "var gd = document.getElementById('b078b47e-db47-4ed7-8b95-41c96861d70e');\n",
       "var x = new MutationObserver(function (mutations, observer) {{\n",
       "        var display = window.getComputedStyle(gd).display;\n",
       "        if (!display || display === 'none') {{\n",
       "            console.log([gd, 'removed!']);\n",
       "            Plotly.purge(gd);\n",
       "            observer.disconnect();\n",
       "        }}\n",
       "}});\n",
       "\n",
       "// Listen for the removal of the full notebook cells\n",
       "var notebookContainer = gd.closest('#notebook-container');\n",
       "if (notebookContainer) {{\n",
       "    x.observe(notebookContainer, {childList: true});\n",
       "}}\n",
       "\n",
       "// Listen for the clearing of the current output cell\n",
       "var outputEl = gd.closest('.output');\n",
       "if (outputEl) {{\n",
       "    x.observe(outputEl, {childList: true});\n",
       "}}\n",
       "\n",
       "                        })                };                });            </script>        </div>"
      ]
     },
     "metadata": {},
     "output_type": "display_data"
    }
   ],
   "source": [
    "# reading the database\n",
    "data = pd.read_csv(\"Output Files/konvo_za_Podcast.csv\")\n",
    "print(f'{data}\\n')\n",
    "\n",
    "plot = px.scatter(\n",
    "    x=data['posted'],\n",
    "    y=data['views'],\n",
    ")\n",
    " \n",
    "# Add dropdown\n",
    "plot.update_layout(\n",
    "\n",
    "    title=\"Konvo ZA Podcast\",\n",
    "    xaxis_title=\"Posted On\",\n",
    "    yaxis_title=\"# of views per episode\",\n",
    "    \n",
    "    updatemenus=[\n",
    "        dict(\n",
    "            type=\"buttons\",\n",
    "            direction=\"left\",\n",
    "            buttons=list([\n",
    "                dict(\n",
    "                    args=[\"type\", \"scatter\"],\n",
    "                    label=\"Scatter Plot\",\n",
    "                    method=\"restyle\"\n",
    "                ),\n",
    "            ]),\n",
    "        ),\n",
    "    ]\n",
    ")\n",
    "\n",
    "plot.show()"
   ]
  },
  {
   "cell_type": "code",
   "execution_count": 118,
   "id": "f14c69be-8f4c-4fbb-9997-6090d47c51d4",
   "metadata": {},
   "outputs": [
    {
     "data": {
      "application/vnd.plotly.v1+json": {
       "config": {
        "plotlyServerURL": "https://plot.ly"
       },
       "data": [
        {
         "hovertemplate": "x=%{x}<br>y=%{y}<extra></extra>",
         "legendgroup": "",
         "marker": {
          "color": "#636efa",
          "symbol": "circle"
         },
         "mode": "markers",
         "name": "",
         "orientation": "v",
         "showlegend": false,
         "type": "scatter",
         "x": [
          "2 hours ",
          "7 days ",
          "2 weeks ",
          "3 weeks ",
          "4 weeks ",
          "1 month ",
          "1 month ",
          "1 month ",
          "1 month ",
          "2 months ",
          "2 months ",
          "2 months ",
          "2 months ",
          "2 months ",
          "2 months ",
          "2 months ",
          "2 months ",
          "2 months ",
          "2 months ",
          "2 months ",
          "2 months ",
          "2 months ",
          "2 months ",
          "2 months ",
          "2 months ",
          "2 months ",
          "2 months ",
          "2 months ",
          "2 months ",
          "2 months ",
          "2 months ",
          "2 months ",
          "2 months ",
          "2 months ",
          "2 months ",
          "2 months ",
          "2 months ",
          "2 months ",
          "2 months ",
          "2 months ",
          "2 months ",
          "2 months ",
          "2 months ",
          "2 months ",
          "2 months ",
          "2 months ",
          "2 months ",
          "2 months ",
          "2 months ",
          "2 months ",
          "2 months ",
          "2 months ",
          "2 months ",
          "2 months ",
          "2 months ",
          "2 months ",
          "2 months ",
          "2 months ",
          "2 months ",
          "2 months ",
          "2 months ",
          "2 months ",
          "2 months ",
          "2 months ",
          "2 months ",
          "2 months ",
          "2 months ",
          "2 months ",
          "2 months ",
          "2 months ",
          "2 months ",
          "2 months ",
          "2 months ",
          "2 months ",
          "2 months ",
          "2 months ",
          "2 months ",
          "2 months ",
          "2 months ",
          "2 months ",
          "2 months ",
          "2 months ",
          "2 months ",
          "2 months ",
          "2 months ",
          "2 months ",
          "2 months ",
          "2 months ",
          "2 months ",
          "2 months ",
          "2 months ",
          "3 months ",
          "3 months ",
          "3 months ",
          "3 months ",
          "3 months ",
          "3 months ",
          "3 months ",
          "3 months ",
          "3 months ",
          "3 months ",
          "3 months ",
          "3 months ",
          "3 months ",
          "3 months ",
          "3 months ",
          "3 months ",
          "3 months ",
          "3 months ",
          "3 months ",
          "3 months ",
          "3 months ",
          "3 months ",
          "3 months ",
          "3 months ",
          "3 months ",
          "3 months ",
          "3 months ",
          "3 months ",
          "3 months ",
          "3 months ",
          "3 months ",
          "3 months ",
          "3 months ",
          "3 months ",
          "3 months ",
          "3 months ",
          "3 months ",
          "3 months ",
          "3 months ",
          "3 months ",
          "3 months ",
          "3 months ",
          "3 months ",
          "3 months ",
          "3 months ",
          "3 months ",
          "3 months ",
          "3 months ",
          "3 months ",
          "3 months ",
          "3 months ",
          "3 months ",
          "3 months ",
          "3 months ",
          "3 months ",
          "3 months ",
          "3 months ",
          "3 months ",
          "3 months ",
          "3 months ",
          "3 months ",
          "3 months ",
          "3 months ",
          "3 months ",
          "3 months ",
          "3 months ",
          "3 months ",
          "3 months ",
          "3 months ",
          "3 months ",
          "3 months ",
          "3 months ",
          "3 months ",
          "3 months ",
          "3 months ",
          "3 months ",
          "3 months ",
          "3 months ",
          "3 months ",
          "4 months ",
          "4 months ",
          "4 months ",
          "4 months ",
          "4 months ",
          "4 months ",
          "4 months ",
          "4 months ",
          "4 months ",
          "4 months ",
          "4 months ",
          "4 months ",
          "4 months ",
          "4 months ",
          "4 months ",
          "4 months ",
          "4 months ",
          "4 months ",
          "4 months ",
          "4 months ",
          "4 months ",
          "4 months ",
          "5 months ",
          "5 months ",
          "5 months ",
          "5 months ",
          "5 months ",
          "5 months ",
          "6 months ",
          "6 months ",
          "6 months ",
          "6 months ",
          "7 months ",
          "7 months ",
          "8 months ",
          "8 months ",
          "8 months ",
          "8 months ",
          "9 months ",
          "9 months ",
          "9 months ",
          "9 months ",
          "9 months ",
          "9 months ",
          "9 months ",
          "9 months ",
          "10 months ",
          "10 months ",
          "10 months ",
          "10 months ",
          "10 months ",
          "11 months ",
          "11 months ",
          "11 months ",
          "11 months ",
          "11 months ",
          "1 year ",
          "1 year ",
          "1 year ",
          "1 year ",
          "1 year ",
          "1 year ",
          "1 year ",
          "1 year ",
          "1 year ",
          "1 year ",
          "1 year ",
          "1 year ",
          "1 year ",
          "1 year ",
          "1 year ",
          "1 year ",
          "1 year ",
          "1 year ",
          "1 year ",
          "1 year ",
          "1 year ",
          "1 year ",
          "1 year ",
          "1 year ",
          "1 year ",
          "1 year ",
          "1 year ",
          "1 year ",
          "1 year ",
          "1 year ",
          "1 year ",
          "1 year ",
          "1 year ",
          "1 year ",
          "1 year ",
          "1 year ",
          "1 year ",
          "1 year ",
          "1 year ",
          "1 year ",
          "1 year ",
          "1 year ",
          "1 year ",
          "1 year ",
          "1 year ",
          "1 year ",
          "1 year ",
          "1 year ",
          "1 year ",
          "1 year ",
          "1 year ",
          "1 year ",
          "1 year ",
          "1 year ",
          "1 year ",
          "1 year ",
          "1 year ",
          "1 year ",
          "1 year ",
          "1 year ",
          "1 year ",
          "1 year ",
          "1 year ",
          "1 year ",
          "1 year ",
          "1 year ",
          "1 year ",
          "1 year ",
          "1 year ",
          "1 year ",
          "1 year ",
          "1 year ",
          "1 year ",
          "1 year ",
          "1 year ",
          "1 year ",
          "1 year ",
          "1 year ",
          "1 year ",
          "1 year ",
          "1 year ",
          "1 year ",
          "1 year ",
          "1 year ",
          "1 year ",
          "1 year ",
          "1 year ",
          "1 year ",
          "1 year ",
          "1 year ",
          "1 year ",
          "1 year ",
          "1 year ",
          "1 year ",
          "1 year ",
          "1 year ",
          "1 year ",
          "1 year ",
          "1 year ",
          "1 year ",
          "1 year ",
          "1 year ",
          "1 year ",
          "1 year ",
          "1 year ",
          "1 year ",
          "2 years ",
          "2 years ",
          "2 years ",
          "2 years ",
          "2 years ",
          "2 years ",
          "2 years ",
          "2 years ",
          "2 years ",
          "2 years ",
          "2 years ",
          "2 years ",
          "2 years ",
          "2 years ",
          "2 years ",
          "2 years ",
          "2 years ",
          "2 years ",
          "2 years ",
          "2 years ",
          "2 years ",
          "2 years ",
          "2 years ",
          "2 years ",
          "2 years ",
          "2 years ",
          "2 years ",
          "2 years ",
          "2 years ",
          "2 years ",
          "2 years ",
          "2 years ",
          "2 years ",
          "2 years ",
          "2 years ",
          "2 years ",
          "2 years ",
          "2 years ",
          "2 years ",
          "2 years ",
          "2 years ",
          "2 years ",
          "2 years ",
          "2 years ",
          "2 years ",
          "2 years ",
          "2 years ",
          "2 years ",
          "2 years ",
          "2 years ",
          "2 years ",
          "2 years ",
          "2 years ",
          "2 years ",
          "2 years ",
          "2 years ",
          "2 years ",
          "2 years ",
          "2 years ",
          "2 years ",
          "2 years ",
          "2 years ",
          "2 years ",
          "2 years ",
          "2 years ",
          "2 years ",
          "2 years ",
          "2 years ",
          "2 years ",
          "2 years ",
          "2 years ",
          "2 years ",
          "2 years ",
          "2 years ",
          "2 years ",
          "2 years ",
          "2 years ",
          "2 years ",
          "2 years ",
          "2 years ",
          "2 years ",
          "2 years ",
          "2 years ",
          "2 years ",
          "2 years ",
          "2 years ",
          "2 years ",
          "2 years ",
          "2 years ",
          "2 years ",
          "2 years ",
          "2 years ",
          "2 years ",
          "2 years ",
          "2 years ",
          "2 years ",
          "2 years ",
          "2 years ",
          "2 years ",
          "2 years ",
          "2 years ",
          "2 years ",
          "2 years ",
          "2 years ",
          "2 years ",
          "2 years ",
          "2 years ",
          "2 years ",
          "2 years ",
          "2 years ",
          "2 years ",
          "2 years ",
          "2 years ",
          "2 years ",
          "2 years ",
          "2 years ",
          "2 years ",
          "2 years ",
          "2 years ",
          "2 years ",
          "2 years ",
          "2 years ",
          "2 years ",
          "2 years ",
          "2 years ",
          "2 years ",
          "2 years ",
          "2 years ",
          "2 years ",
          "2 years ",
          "2 years ",
          "3 years ",
          "3 years ",
          "3 years ",
          "3 years ",
          "3 years ",
          "3 years ",
          "3 years ",
          "3 years ",
          "3 years ",
          "3 years ",
          "3 years ",
          "3 years ",
          "3 years ",
          "3 years ",
          "3 years ",
          "3 years ",
          "3 years ",
          "3 years ",
          "3 years ",
          "3 years ",
          "3 years ",
          "3 years ",
          "3 years ",
          "3 years ",
          "3 years ",
          "3 years ",
          "3 years ",
          "3 years ",
          "3 years ",
          "4 years ",
          "4 years ",
          "4 years ",
          "4 years ",
          "4 years ",
          "4 years ",
          "4 years ",
          "4 years ",
          "4 years ",
          "4 years ",
          "4 years ",
          "4 years ",
          "4 years ",
          "4 years ",
          "4 years ",
          "4 years ",
          "4 years ",
          "4 years ",
          "4 years ",
          "4 years ",
          "4 years ",
          "4 years ",
          "4 years ",
          "4 years ",
          "4 years ",
          "4 years ",
          "4 years ",
          "4 years ",
          "4 years ",
          "4 years ",
          "4 years ",
          "4 years ",
          "4 years ",
          "4 years ",
          "4 years ",
          "4 years ",
          "4 years ",
          "4 years ",
          "4 years ",
          "4 years ",
          "4 years ",
          "4 years ",
          "4 years ",
          "4 years ",
          "4 years ",
          "4 years ",
          "4 years ",
          "4 years ",
          "4 years ",
          "4 years ",
          "4 years ",
          "4 years ",
          "4 years ",
          "4 years ",
          "5 years ",
          "5 years ",
          "5 years ",
          "5 years ",
          "5 years ",
          "5 years ",
          "5 years ",
          "5 years ",
          "5 years ",
          "5 years ",
          "5 years ",
          "5 years ",
          "5 years ",
          "5 years "
         ],
         "xaxis": "x",
         "y": [
          1400,
          3700,
          154000,
          318000,
          13000,
          171000,
          27000,
          330000,
          6700,
          36000,
          55000,
          20000,
          29000,
          65000,
          3900,
          1600,
          1300,
          2900,
          2300,
          2800,
          3300,
          1800,
          63000,
          2000,
          1300,
          1500,
          2600,
          1300,
          817,
          2100,
          3800,
          3200,
          19000,
          777,
          7400,
          7200,
          3300,
          1200,
          1600,
          2700,
          985,
          3700,
          1000,
          17000,
          1600,
          3600,
          3100,
          823,
          1300,
          1200,
          312,
          1400,
          639,
          2500,
          475,
          216,
          6300,
          2100,
          4100,
          15000,
          33000,
          6800,
          16000,
          3300,
          21000,
          3300,
          2200,
          614,
          23000,
          2500,
          971,
          3000,
          13000,
          3400,
          6100,
          1200,
          516,
          381,
          220,
          310,
          434,
          5400,
          2100,
          104000,
          637,
          5800,
          532,
          1100,
          676,
          1400,
          1600,
          857,
          1000,
          131000,
          654,
          151,
          207,
          837,
          3900,
          1100,
          438,
          1300,
          388,
          401,
          952,
          769,
          972,
          1000,
          6000,
          1800,
          1400,
          375,
          1000,
          100,
          164,
          3900,
          5400,
          2500,
          10000,
          434,
          184,
          533,
          999,
          563,
          4700,
          4000,
          59000,
          423,
          2500,
          384,
          3600,
          1900,
          4700,
          5600,
          531,
          3400,
          3100,
          659,
          315,
          442,
          678,
          306,
          1300,
          910,
          814,
          3500,
          582,
          630,
          3400,
          1900,
          930,
          304,
          411,
          47000,
          59000,
          60000,
          1600,
          935,
          55000,
          2500,
          805,
          3100,
          424,
          2800,
          1500,
          743,
          2900,
          2300,
          1000,
          3400,
          27000,
          1600,
          1600,
          14000,
          1100,
          2000,
          1900,
          711,
          1800,
          376,
          3300,
          1600,
          7400,
          3700,
          6400,
          10000,
          513,
          65000,
          14000,
          17000,
          2000,
          104000,
          4300,
          17000,
          20000,
          22000,
          131000,
          14000,
          5400,
          36000,
          842,
          96000,
          26000,
          78000,
          33000,
          5500,
          65000,
          119000,
          7100,
          18000,
          81000,
          37000,
          6100,
          108000,
          57000,
          110000,
          49000,
          1000,
          226000,
          2000,
          308000,
          4000,
          85000,
          3400,
          11000,
          14000,
          15000,
          43000,
          12000,
          1500,
          33000,
          15000,
          18000,
          32000,
          70000,
          38000,
          26000,
          4800,
          31000,
          650000,
          9400,
          24000,
          27000,
          63000,
          72000,
          4600,
          25000,
          20000,
          205000,
          74000,
          15000,
          183000,
          3200,
          35000,
          7800,
          21000,
          121000,
          5000,
          16000,
          24000,
          69000,
          21000,
          42000,
          8900,
          21000,
          37000,
          36000,
          59000,
          16000,
          439000,
          28000,
          4600,
          45000,
          1800,
          200000,
          1800,
          150000,
          3400,
          5300,
          75000,
          26000,
          3100,
          2600,
          17000,
          27000,
          14000,
          13000,
          3500,
          3900,
          24000,
          43000,
          4500,
          5700,
          106000,
          87000,
          63000,
          13000,
          17000,
          64000,
          30000,
          85000,
          529000,
          32000,
          201000,
          767000,
          8200,
          24000,
          32000,
          10000,
          30000,
          15000,
          16000,
          28000,
          187000,
          32000,
          47000,
          74000,
          109000,
          4800,
          166000,
          16000,
          6600,
          15000,
          43000,
          258000,
          350000,
          126000,
          41000,
          925000,
          48000,
          79000,
          57000,
          5200,
          3500,
          52000,
          17000,
          3900,
          3700,
          4400,
          38000,
          15000,
          11000,
          83000,
          10000,
          31000,
          9600,
          25000,
          2000,
          15000,
          39000,
          61000,
          47000,
          22000,
          35000,
          130000,
          4500,
          17000,
          28000,
          96000,
          43000,
          61000,
          24000,
          13000,
          189000,
          16000,
          25000,
          21000,
          25000,
          20000,
          92000,
          58000,
          328000,
          65000,
          775000,
          854000,
          13000,
          40000,
          2400,
          8000,
          8000,
          33000,
          35000,
          32000,
          64000,
          7800,
          38000,
          18000,
          32000,
          12000,
          44000,
          190000,
          11000,
          27000,
          155000,
          37000,
          18000,
          51000,
          34000,
          42000,
          20000,
          106000,
          400000,
          75000,
          114000,
          44000,
          50000,
          302000,
          58000,
          10000,
          26000,
          61000,
          89000,
          16000,
          43000,
          22000,
          86000,
          25000,
          28000,
          28000,
          77000,
          32000,
          45000,
          29000,
          76000,
          74000,
          183000,
          153000,
          49000,
          500000,
          118000,
          13000,
          21000,
          205000,
          39000,
          276000,
          33000,
          218000,
          15000,
          168000,
          22000,
          136000,
          21000,
          215000,
          20000,
          198000,
          22000,
          10000,
          6100,
          5000,
          82000,
          29000,
          1700,
          1900,
          26000,
          1100,
          15000,
          628,
          33000,
          1100,
          12000,
          1100,
          7700,
          996,
          1600,
          1300,
          1700,
          2200,
          53000,
          49000,
          2400,
          1800,
          863,
          11000,
          726,
          2900,
          1800,
          4300,
          8400,
          1200,
          7300,
          2700,
          864,
          1200,
          1400,
          6900,
          2500,
          16000,
          4600,
          12000,
          23000,
          12000,
          86000,
          49000,
          57000,
          10000,
          10000,
          15000,
          902,
          584,
          869,
          4500,
          11000,
          6600,
          696,
          3600,
          483,
          412,
          4600,
          795,
          658,
          900,
          972,
          2200,
          6300,
          5500,
          10000,
          1500,
          3700,
          1000,
          2000,
          1000,
          2200,
          6700,
          22000,
          1600,
          6800,
          663,
          1900,
          5700,
          70000,
          799,
          10000,
          1600,
          7200,
          5300,
          5200,
          1700,
          6400,
          6500,
          854,
          1100,
          6600,
          9100,
          10000,
          122000,
          30000,
          24000,
          679,
          29000,
          6400,
          12000,
          4100,
          12000,
          6500,
          6400,
          32000,
          7500,
          7400,
          40000,
          197000
         ],
         "yaxis": "y"
        }
       ],
       "layout": {
        "autosize": true,
        "legend": {
         "tracegroupgap": 0
        },
        "margin": {
         "t": 60
        },
        "template": {
         "data": {
          "bar": [
           {
            "error_x": {
             "color": "#2a3f5f"
            },
            "error_y": {
             "color": "#2a3f5f"
            },
            "marker": {
             "line": {
              "color": "#E5ECF6",
              "width": 0.5
             },
             "pattern": {
              "fillmode": "overlay",
              "size": 10,
              "solidity": 0.2
             }
            },
            "type": "bar"
           }
          ],
          "barpolar": [
           {
            "marker": {
             "line": {
              "color": "#E5ECF6",
              "width": 0.5
             },
             "pattern": {
              "fillmode": "overlay",
              "size": 10,
              "solidity": 0.2
             }
            },
            "type": "barpolar"
           }
          ],
          "carpet": [
           {
            "aaxis": {
             "endlinecolor": "#2a3f5f",
             "gridcolor": "white",
             "linecolor": "white",
             "minorgridcolor": "white",
             "startlinecolor": "#2a3f5f"
            },
            "baxis": {
             "endlinecolor": "#2a3f5f",
             "gridcolor": "white",
             "linecolor": "white",
             "minorgridcolor": "white",
             "startlinecolor": "#2a3f5f"
            },
            "type": "carpet"
           }
          ],
          "choropleth": [
           {
            "colorbar": {
             "outlinewidth": 0,
             "ticks": ""
            },
            "type": "choropleth"
           }
          ],
          "contour": [
           {
            "colorbar": {
             "outlinewidth": 0,
             "ticks": ""
            },
            "colorscale": [
             [
              0,
              "#0d0887"
             ],
             [
              0.1111111111111111,
              "#46039f"
             ],
             [
              0.2222222222222222,
              "#7201a8"
             ],
             [
              0.3333333333333333,
              "#9c179e"
             ],
             [
              0.4444444444444444,
              "#bd3786"
             ],
             [
              0.5555555555555556,
              "#d8576b"
             ],
             [
              0.6666666666666666,
              "#ed7953"
             ],
             [
              0.7777777777777778,
              "#fb9f3a"
             ],
             [
              0.8888888888888888,
              "#fdca26"
             ],
             [
              1,
              "#f0f921"
             ]
            ],
            "type": "contour"
           }
          ],
          "contourcarpet": [
           {
            "colorbar": {
             "outlinewidth": 0,
             "ticks": ""
            },
            "type": "contourcarpet"
           }
          ],
          "heatmap": [
           {
            "colorbar": {
             "outlinewidth": 0,
             "ticks": ""
            },
            "colorscale": [
             [
              0,
              "#0d0887"
             ],
             [
              0.1111111111111111,
              "#46039f"
             ],
             [
              0.2222222222222222,
              "#7201a8"
             ],
             [
              0.3333333333333333,
              "#9c179e"
             ],
             [
              0.4444444444444444,
              "#bd3786"
             ],
             [
              0.5555555555555556,
              "#d8576b"
             ],
             [
              0.6666666666666666,
              "#ed7953"
             ],
             [
              0.7777777777777778,
              "#fb9f3a"
             ],
             [
              0.8888888888888888,
              "#fdca26"
             ],
             [
              1,
              "#f0f921"
             ]
            ],
            "type": "heatmap"
           }
          ],
          "heatmapgl": [
           {
            "colorbar": {
             "outlinewidth": 0,
             "ticks": ""
            },
            "colorscale": [
             [
              0,
              "#0d0887"
             ],
             [
              0.1111111111111111,
              "#46039f"
             ],
             [
              0.2222222222222222,
              "#7201a8"
             ],
             [
              0.3333333333333333,
              "#9c179e"
             ],
             [
              0.4444444444444444,
              "#bd3786"
             ],
             [
              0.5555555555555556,
              "#d8576b"
             ],
             [
              0.6666666666666666,
              "#ed7953"
             ],
             [
              0.7777777777777778,
              "#fb9f3a"
             ],
             [
              0.8888888888888888,
              "#fdca26"
             ],
             [
              1,
              "#f0f921"
             ]
            ],
            "type": "heatmapgl"
           }
          ],
          "histogram": [
           {
            "marker": {
             "pattern": {
              "fillmode": "overlay",
              "size": 10,
              "solidity": 0.2
             }
            },
            "type": "histogram"
           }
          ],
          "histogram2d": [
           {
            "colorbar": {
             "outlinewidth": 0,
             "ticks": ""
            },
            "colorscale": [
             [
              0,
              "#0d0887"
             ],
             [
              0.1111111111111111,
              "#46039f"
             ],
             [
              0.2222222222222222,
              "#7201a8"
             ],
             [
              0.3333333333333333,
              "#9c179e"
             ],
             [
              0.4444444444444444,
              "#bd3786"
             ],
             [
              0.5555555555555556,
              "#d8576b"
             ],
             [
              0.6666666666666666,
              "#ed7953"
             ],
             [
              0.7777777777777778,
              "#fb9f3a"
             ],
             [
              0.8888888888888888,
              "#fdca26"
             ],
             [
              1,
              "#f0f921"
             ]
            ],
            "type": "histogram2d"
           }
          ],
          "histogram2dcontour": [
           {
            "colorbar": {
             "outlinewidth": 0,
             "ticks": ""
            },
            "colorscale": [
             [
              0,
              "#0d0887"
             ],
             [
              0.1111111111111111,
              "#46039f"
             ],
             [
              0.2222222222222222,
              "#7201a8"
             ],
             [
              0.3333333333333333,
              "#9c179e"
             ],
             [
              0.4444444444444444,
              "#bd3786"
             ],
             [
              0.5555555555555556,
              "#d8576b"
             ],
             [
              0.6666666666666666,
              "#ed7953"
             ],
             [
              0.7777777777777778,
              "#fb9f3a"
             ],
             [
              0.8888888888888888,
              "#fdca26"
             ],
             [
              1,
              "#f0f921"
             ]
            ],
            "type": "histogram2dcontour"
           }
          ],
          "mesh3d": [
           {
            "colorbar": {
             "outlinewidth": 0,
             "ticks": ""
            },
            "type": "mesh3d"
           }
          ],
          "parcoords": [
           {
            "line": {
             "colorbar": {
              "outlinewidth": 0,
              "ticks": ""
             }
            },
            "type": "parcoords"
           }
          ],
          "pie": [
           {
            "automargin": true,
            "type": "pie"
           }
          ],
          "scatter": [
           {
            "fillpattern": {
             "fillmode": "overlay",
             "size": 10,
             "solidity": 0.2
            },
            "type": "scatter"
           }
          ],
          "scatter3d": [
           {
            "line": {
             "colorbar": {
              "outlinewidth": 0,
              "ticks": ""
             }
            },
            "marker": {
             "colorbar": {
              "outlinewidth": 0,
              "ticks": ""
             }
            },
            "type": "scatter3d"
           }
          ],
          "scattercarpet": [
           {
            "marker": {
             "colorbar": {
              "outlinewidth": 0,
              "ticks": ""
             }
            },
            "type": "scattercarpet"
           }
          ],
          "scattergeo": [
           {
            "marker": {
             "colorbar": {
              "outlinewidth": 0,
              "ticks": ""
             }
            },
            "type": "scattergeo"
           }
          ],
          "scattergl": [
           {
            "marker": {
             "colorbar": {
              "outlinewidth": 0,
              "ticks": ""
             }
            },
            "type": "scattergl"
           }
          ],
          "scattermapbox": [
           {
            "marker": {
             "colorbar": {
              "outlinewidth": 0,
              "ticks": ""
             }
            },
            "type": "scattermapbox"
           }
          ],
          "scatterpolar": [
           {
            "marker": {
             "colorbar": {
              "outlinewidth": 0,
              "ticks": ""
             }
            },
            "type": "scatterpolar"
           }
          ],
          "scatterpolargl": [
           {
            "marker": {
             "colorbar": {
              "outlinewidth": 0,
              "ticks": ""
             }
            },
            "type": "scatterpolargl"
           }
          ],
          "scatterternary": [
           {
            "marker": {
             "colorbar": {
              "outlinewidth": 0,
              "ticks": ""
             }
            },
            "type": "scatterternary"
           }
          ],
          "surface": [
           {
            "colorbar": {
             "outlinewidth": 0,
             "ticks": ""
            },
            "colorscale": [
             [
              0,
              "#0d0887"
             ],
             [
              0.1111111111111111,
              "#46039f"
             ],
             [
              0.2222222222222222,
              "#7201a8"
             ],
             [
              0.3333333333333333,
              "#9c179e"
             ],
             [
              0.4444444444444444,
              "#bd3786"
             ],
             [
              0.5555555555555556,
              "#d8576b"
             ],
             [
              0.6666666666666666,
              "#ed7953"
             ],
             [
              0.7777777777777778,
              "#fb9f3a"
             ],
             [
              0.8888888888888888,
              "#fdca26"
             ],
             [
              1,
              "#f0f921"
             ]
            ],
            "type": "surface"
           }
          ],
          "table": [
           {
            "cells": {
             "fill": {
              "color": "#EBF0F8"
             },
             "line": {
              "color": "white"
             }
            },
            "header": {
             "fill": {
              "color": "#C8D4E3"
             },
             "line": {
              "color": "white"
             }
            },
            "type": "table"
           }
          ]
         },
         "layout": {
          "annotationdefaults": {
           "arrowcolor": "#2a3f5f",
           "arrowhead": 0,
           "arrowwidth": 1
          },
          "autotypenumbers": "strict",
          "coloraxis": {
           "colorbar": {
            "outlinewidth": 0,
            "ticks": ""
           }
          },
          "colorscale": {
           "diverging": [
            [
             0,
             "#8e0152"
            ],
            [
             0.1,
             "#c51b7d"
            ],
            [
             0.2,
             "#de77ae"
            ],
            [
             0.3,
             "#f1b6da"
            ],
            [
             0.4,
             "#fde0ef"
            ],
            [
             0.5,
             "#f7f7f7"
            ],
            [
             0.6,
             "#e6f5d0"
            ],
            [
             0.7,
             "#b8e186"
            ],
            [
             0.8,
             "#7fbc41"
            ],
            [
             0.9,
             "#4d9221"
            ],
            [
             1,
             "#276419"
            ]
           ],
           "sequential": [
            [
             0,
             "#0d0887"
            ],
            [
             0.1111111111111111,
             "#46039f"
            ],
            [
             0.2222222222222222,
             "#7201a8"
            ],
            [
             0.3333333333333333,
             "#9c179e"
            ],
            [
             0.4444444444444444,
             "#bd3786"
            ],
            [
             0.5555555555555556,
             "#d8576b"
            ],
            [
             0.6666666666666666,
             "#ed7953"
            ],
            [
             0.7777777777777778,
             "#fb9f3a"
            ],
            [
             0.8888888888888888,
             "#fdca26"
            ],
            [
             1,
             "#f0f921"
            ]
           ],
           "sequentialminus": [
            [
             0,
             "#0d0887"
            ],
            [
             0.1111111111111111,
             "#46039f"
            ],
            [
             0.2222222222222222,
             "#7201a8"
            ],
            [
             0.3333333333333333,
             "#9c179e"
            ],
            [
             0.4444444444444444,
             "#bd3786"
            ],
            [
             0.5555555555555556,
             "#d8576b"
            ],
            [
             0.6666666666666666,
             "#ed7953"
            ],
            [
             0.7777777777777778,
             "#fb9f3a"
            ],
            [
             0.8888888888888888,
             "#fdca26"
            ],
            [
             1,
             "#f0f921"
            ]
           ]
          },
          "colorway": [
           "#636efa",
           "#EF553B",
           "#00cc96",
           "#ab63fa",
           "#FFA15A",
           "#19d3f3",
           "#FF6692",
           "#B6E880",
           "#FF97FF",
           "#FECB52"
          ],
          "font": {
           "color": "#2a3f5f"
          },
          "geo": {
           "bgcolor": "white",
           "lakecolor": "white",
           "landcolor": "#E5ECF6",
           "showlakes": true,
           "showland": true,
           "subunitcolor": "white"
          },
          "hoverlabel": {
           "align": "left"
          },
          "hovermode": "closest",
          "mapbox": {
           "style": "light"
          },
          "paper_bgcolor": "white",
          "plot_bgcolor": "#E5ECF6",
          "polar": {
           "angularaxis": {
            "gridcolor": "white",
            "linecolor": "white",
            "ticks": ""
           },
           "bgcolor": "#E5ECF6",
           "radialaxis": {
            "gridcolor": "white",
            "linecolor": "white",
            "ticks": ""
           }
          },
          "scene": {
           "xaxis": {
            "backgroundcolor": "#E5ECF6",
            "gridcolor": "white",
            "gridwidth": 2,
            "linecolor": "white",
            "showbackground": true,
            "ticks": "",
            "zerolinecolor": "white"
           },
           "yaxis": {
            "backgroundcolor": "#E5ECF6",
            "gridcolor": "white",
            "gridwidth": 2,
            "linecolor": "white",
            "showbackground": true,
            "ticks": "",
            "zerolinecolor": "white"
           },
           "zaxis": {
            "backgroundcolor": "#E5ECF6",
            "gridcolor": "white",
            "gridwidth": 2,
            "linecolor": "white",
            "showbackground": true,
            "ticks": "",
            "zerolinecolor": "white"
           }
          },
          "shapedefaults": {
           "line": {
            "color": "#2a3f5f"
           }
          },
          "ternary": {
           "aaxis": {
            "gridcolor": "white",
            "linecolor": "white",
            "ticks": ""
           },
           "baxis": {
            "gridcolor": "white",
            "linecolor": "white",
            "ticks": ""
           },
           "bgcolor": "#E5ECF6",
           "caxis": {
            "gridcolor": "white",
            "linecolor": "white",
            "ticks": ""
           }
          },
          "title": {
           "x": 0.05
          },
          "xaxis": {
           "automargin": true,
           "gridcolor": "white",
           "linecolor": "white",
           "ticks": "",
           "title": {
            "standoff": 15
           },
           "zerolinecolor": "white",
           "zerolinewidth": 2
          },
          "yaxis": {
           "automargin": true,
           "gridcolor": "white",
           "linecolor": "white",
           "ticks": "",
           "title": {
            "standoff": 15
           },
           "zerolinecolor": "white",
           "zerolinewidth": 2
          }
         }
        },
        "title": {
         "text": "The Hustlers Corner SA Podcast"
        },
        "updatemenus": [
         {
          "buttons": [
           {
            "args": [
             "type",
             "scatter"
            ],
            "label": "Scatter Plot",
            "method": "restyle"
           }
          ],
          "direction": "left",
          "type": "buttons"
         }
        ],
        "xaxis": {
         "anchor": "y",
         "autorange": true,
         "domain": [
          0,
          1
         ],
         "range": [
          -1.2183198250353788,
          21.21831982503538
         ],
         "title": {
          "text": "Posted On"
         },
         "type": "category"
        },
        "yaxis": {
         "anchor": "x",
         "autorange": true,
         "domain": [
          0,
          1
         ],
         "range": [
          -72002.41935483871,
          997102.4193548387
         ],
         "title": {
          "text": "# of views per episode"
         },
         "type": "linear"
        }
       }
      },
      "image/png": "[encoded data removed]",
      "text/html": [
       "<div>                            <div id=\"1ad8ecfd-28a4-4dc2-b519-013093e8c076\" class=\"plotly-graph-div\" style=\"height:525px; width:100%;\"></div>            <script type=\"text/javascript\">                require([\"plotly\"], function(Plotly) {                    window.PLOTLYENV=window.PLOTLYENV || {};                                    if (document.getElementById(\"1ad8ecfd-28a4-4dc2-b519-013093e8c076\")) {                    Plotly.newPlot(                        \"1ad8ecfd-28a4-4dc2-b519-013093e8c076\",                        [{\"hovertemplate\":\"x=%{x}\\u003cbr\\u003ey=%{y}\\u003cextra\\u003e\\u003c\\u002fextra\\u003e\",\"legendgroup\":\"\",\"marker\":{\"color\":\"#636efa\",\"symbol\":\"circle\"},\"mode\":\"markers\",\"name\":\"\",\"orientation\":\"v\",\"showlegend\":false,\"x\":[\"2 hours \",\"7 days \",\"2 weeks \",\"3 weeks \",\"4 weeks \",\"1 month \",\"1 month \",\"1 month \",\"1 month \",\"2 months \",\"2 months \",\"2 months \",\"2 months \",\"2 months \",\"2 months \",\"2 months \",\"2 months \",\"2 months \",\"2 months \",\"2 months \",\"2 months \",\"2 months \",\"2 months \",\"2 months \",\"2 months \",\"2 months \",\"2 months \",\"2 months \",\"2 months \",\"2 months \",\"2 months \",\"2 months \",\"2 months \",\"2 months \",\"2 months \",\"2 months \",\"2 months \",\"2 months \",\"2 months \",\"2 months \",\"2 months \",\"2 months \",\"2 months \",\"2 months \",\"2 months \",\"2 months \",\"2 months \",\"2 months \",\"2 months \",\"2 months \",\"2 months \",\"2 months \",\"2 months \",\"2 months \",\"2 months \",\"2 months \",\"2 months \",\"2 months \",\"2 months \",\"2 months \",\"2 months \",\"2 months \",\"2 months \",\"2 months \",\"2 months \",\"2 months \",\"2 months \",\"2 months \",\"2 months \",\"2 months \",\"2 months \",\"2 months \",\"2 months \",\"2 months \",\"2 months \",\"2 months \",\"2 months \",\"2 months \",\"2 months \",\"2 months \",\"2 months \",\"2 months \",\"2 months \",\"2 months \",\"2 months \",\"2 months \",\"2 months \",\"2 months \",\"2 months \",\"2 months \",\"2 months \",\"3 months \",\"3 months \",\"3 months \",\"3 months \",\"3 months \",\"3 months \",\"3 months \",\"3 months \",\"3 months \",\"3 months \",\"3 months \",\"3 months \",\"3 months \",\"3 months \",\"3 months \",\"3 months \",\"3 months \",\"3 months \",\"3 months \",\"3 months \",\"3 months \",\"3 months \",\"3 months \",\"3 months \",\"3 months \",\"3 months \",\"3 months \",\"3 months \",\"3 months \",\"3 months \",\"3 months \",\"3 months \",\"3 months \",\"3 months \",\"3 months \",\"3 months \",\"3 months \",\"3 months \",\"3 months \",\"3 months \",\"3 months \",\"3 months \",\"3 months \",\"3 months \",\"3 months \",\"3 months \",\"3 months \",\"3 months \",\"3 months \",\"3 months \",\"3 months \",\"3 months \",\"3 months \",\"3 months \",\"3 months \",\"3 months \",\"3 months \",\"3 months \",\"3 months \",\"3 months \",\"3 months \",\"3 months \",\"3 months \",\"3 months \",\"3 months \",\"3 months \",\"3 months \",\"3 months \",\"3 months \",\"3 months \",\"3 months \",\"3 months \",\"3 months \",\"3 months \",\"3 months \",\"3 months \",\"3 months \",\"3 months \",\"3 months \",\"4 months \",\"4 months \",\"4 months \",\"4 months \",\"4 months \",\"4 months \",\"4 months \",\"4 months \",\"4 months \",\"4 months \",\"4 months \",\"4 months \",\"4 months \",\"4 months \",\"4 months \",\"4 months \",\"4 months \",\"4 months \",\"4 months \",\"4 months \",\"4 months \",\"4 months \",\"5 months \",\"5 months \",\"5 months \",\"5 months \",\"5 months \",\"5 months \",\"6 months \",\"6 months \",\"6 months \",\"6 months \",\"7 months \",\"7 months \",\"8 months \",\"8 months \",\"8 months \",\"8 months \",\"9 months \",\"9 months \",\"9 months \",\"9 months \",\"9 months \",\"9 months \",\"9 months \",\"9 months \",\"10 months \",\"10 months \",\"10 months \",\"10 months \",\"10 months \",\"11 months \",\"11 months \",\"11 months \",\"11 months \",\"11 months \",\"1 year \",\"1 year \",\"1 year \",\"1 year \",\"1 year \",\"1 year \",\"1 year \",\"1 year \",\"1 year \",\"1 year \",\"1 year \",\"1 year \",\"1 year \",\"1 year \",\"1 year \",\"1 year \",\"1 year \",\"1 year \",\"1 year \",\"1 year \",\"1 year \",\"1 year \",\"1 year \",\"1 year \",\"1 year \",\"1 year \",\"1 year \",\"1 year \",\"1 year \",\"1 year \",\"1 year \",\"1 year \",\"1 year \",\"1 year \",\"1 year \",\"1 year \",\"1 year \",\"1 year \",\"1 year \",\"1 year \",\"1 year \",\"1 year \",\"1 year \",\"1 year \",\"1 year \",\"1 year \",\"1 year \",\"1 year \",\"1 year \",\"1 year \",\"1 year \",\"1 year \",\"1 year \",\"1 year \",\"1 year \",\"1 year \",\"1 year \",\"1 year \",\"1 year \",\"1 year \",\"1 year \",\"1 year \",\"1 year \",\"1 year \",\"1 year \",\"1 year \",\"1 year \",\"1 year \",\"1 year \",\"1 year \",\"1 year \",\"1 year \",\"1 year \",\"1 year \",\"1 year \",\"1 year \",\"1 year \",\"1 year \",\"1 year \",\"1 year \",\"1 year \",\"1 year \",\"1 year \",\"1 year \",\"1 year \",\"1 year \",\"1 year \",\"1 year \",\"1 year \",\"1 year \",\"1 year \",\"1 year \",\"1 year \",\"1 year \",\"1 year \",\"1 year \",\"1 year \",\"1 year \",\"1 year \",\"1 year \",\"1 year \",\"1 year \",\"1 year \",\"1 year \",\"1 year \",\"1 year \",\"2 years \",\"2 years \",\"2 years \",\"2 years \",\"2 years \",\"2 years \",\"2 years \",\"2 years \",\"2 years \",\"2 years \",\"2 years \",\"2 years \",\"2 years \",\"2 years \",\"2 years \",\"2 years \",\"2 years \",\"2 years \",\"2 years \",\"2 years \",\"2 years \",\"2 years \",\"2 years \",\"2 years \",\"2 years \",\"2 years \",\"2 years \",\"2 years \",\"2 years \",\"2 years \",\"2 years \",\"2 years \",\"2 years \",\"2 years \",\"2 years \",\"2 years \",\"2 years \",\"2 years \",\"2 years \",\"2 years \",\"2 years \",\"2 years \",\"2 years \",\"2 years \",\"2 years \",\"2 years \",\"2 years \",\"2 years \",\"2 years \",\"2 years \",\"2 years \",\"2 years \",\"2 years \",\"2 years \",\"2 years \",\"2 years \",\"2 years \",\"2 years \",\"2 years \",\"2 years \",\"2 years \",\"2 years \",\"2 years \",\"2 years \",\"2 years \",\"2 years \",\"2 years \",\"2 years \",\"2 years \",\"2 years \",\"2 years \",\"2 years \",\"2 years \",\"2 years \",\"2 years \",\"2 years \",\"2 years \",\"2 years \",\"2 years \",\"2 years \",\"2 years \",\"2 years \",\"2 years \",\"2 years \",\"2 years \",\"2 years \",\"2 years \",\"2 years \",\"2 years \",\"2 years \",\"2 years \",\"2 years \",\"2 years \",\"2 years \",\"2 years \",\"2 years \",\"2 years \",\"2 years \",\"2 years \",\"2 years \",\"2 years \",\"2 years \",\"2 years \",\"2 years \",\"2 years \",\"2 years \",\"2 years \",\"2 years \",\"2 years \",\"2 years \",\"2 years \",\"2 years \",\"2 years \",\"2 years \",\"2 years \",\"2 years \",\"2 years \",\"2 years \",\"2 years \",\"2 years \",\"2 years \",\"2 years \",\"2 years \",\"2 years \",\"2 years \",\"2 years \",\"2 years \",\"2 years \",\"2 years \",\"2 years \",\"2 years \",\"3 years \",\"3 years \",\"3 years \",\"3 years \",\"3 years \",\"3 years \",\"3 years \",\"3 years \",\"3 years \",\"3 years \",\"3 years \",\"3 years \",\"3 years \",\"3 years \",\"3 years \",\"3 years \",\"3 years \",\"3 years \",\"3 years \",\"3 years \",\"3 years \",\"3 years \",\"3 years \",\"3 years \",\"3 years \",\"3 years \",\"3 years \",\"3 years \",\"3 years \",\"4 years \",\"4 years \",\"4 years \",\"4 years \",\"4 years \",\"4 years \",\"4 years \",\"4 years \",\"4 years \",\"4 years \",\"4 years \",\"4 years \",\"4 years \",\"4 years \",\"4 years \",\"4 years \",\"4 years \",\"4 years \",\"4 years \",\"4 years \",\"4 years \",\"4 years \",\"4 years \",\"4 years \",\"4 years \",\"4 years \",\"4 years \",\"4 years \",\"4 years \",\"4 years \",\"4 years \",\"4 years \",\"4 years \",\"4 years \",\"4 years \",\"4 years \",\"4 years \",\"4 years \",\"4 years \",\"4 years \",\"4 years \",\"4 years \",\"4 years \",\"4 years \",\"4 years \",\"4 years \",\"4 years \",\"4 years \",\"4 years \",\"4 years \",\"4 years \",\"4 years \",\"4 years \",\"4 years \",\"5 years \",\"5 years \",\"5 years \",\"5 years \",\"5 years \",\"5 years \",\"5 years \",\"5 years \",\"5 years \",\"5 years \",\"5 years \",\"5 years \",\"5 years \",\"5 years \"],\"xaxis\":\"x\",\"y\":[1400.0,3700.0,154000.0,318000.0,13000.0,171000.0,27000.0,330000.0,6700.0,36000.0,55000.0,20000.0,29000.0,65000.0,3900.0,1600.0,1300.0,2900.0,2300.0,2800.0,3300.0,1800.0,63000.0,2000.0,1300.0,1500.0,2600.0,1300.0,817.0,2100.0,3800.0,3200.0,19000.0,777.0,7400.0,7200.0,3300.0,1200.0,1600.0,2700.0,985.0,3700.0,1000.0,17000.0,1600.0,3600.0,3100.0,823.0,1300.0,1200.0,312.0,1400.0,639.0,2500.0,475.0,216.0,6300.0,2100.0,4100.0,15000.0,33000.0,6800.0,16000.0,3300.0,21000.0,3300.0,2200.0,614.0,23000.0,2500.0,971.0,3000.0,13000.0,3400.0,6100.0,1200.0,516.0,381.0,220.0,310.0,434.0,5400.0,2100.0,104000.0,637.0,5800.0,532.0,1100.0,676.0,1400.0,1600.0,857.0,1000.0,131000.0,654.0,151.0,207.0,837.0,3900.0,1100.0,438.0,1300.0,388.0,401.0,952.0,769.0,972.0,1000.0,6000.0,1800.0,1400.0,375.0,1000.0,100.0,164.0,3900.0,5400.0,2500.0,10000.0,434.0,184.0,533.0,999.0,563.0,4700.0,4000.0,59000.0,423.0,2500.0,384.0,3600.0,1900.0,4700.0,5600.0,531.0,3400.0,3100.0,659.0,315.0,442.0,678.0,306.0,1300.0,910.0,814.0,3500.0,582.0,630.0,3400.0,1900.0,930.0,304.0,411.0,47000.0,59000.0,60000.0,1600.0,935.0,55000.0,2500.0,805.0,3100.0,424.0,2800.0,1500.0,743.0,2900.0,2300.0,1000.0,3400.0,27000.0,1600.0,1600.0,14000.0,1100.0,2000.0,1900.0,711.0,1800.0,376.0,3300.0,1600.0,7400.0,3700.0,6400.0,10000.0,513.0,65000.0,14000.0,17000.0,2000.0,104000.0,4300.0,17000.0,20000.0,22000.0,131000.0,14000.0,5400.0,36000.0,842.0,96000.0,26000.0,78000.0,33000.0,5500.0,65000.0,119000.0,7100.0,18000.0,81000.0,37000.0,6100.0,108000.0,57000.0,110000.0,49000.0,1000.0,226000.0,2000.0,308000.0,4000.0,85000.0,3400.0,11000.0,14000.0,15000.0,43000.0,12000.0,1500.0,33000.0,15000.0,18000.0,32000.0,70000.0,38000.0,26000.0,4800.0,31000.0,650000.0,9400.0,24000.0,27000.0,63000.0,72000.0,4600.0,25000.0,20000.0,205000.0,74000.0,15000.0,183000.0,3200.0,35000.0,7800.0,21000.0,121000.0,5000.0,16000.0,24000.0,69000.0,21000.0,42000.0,8900.0,21000.0,37000.0,36000.0,59000.0,16000.0,439000.0,28000.0,4600.0,45000.0,1800.0,200000.0,1800.0,150000.0,3400.0,5300.0,75000.0,26000.0,3100.0,2600.0,17000.0,27000.0,14000.0,13000.0,3500.0,3900.0,24000.0,43000.0,4500.0,5700.0,106000.0,87000.0,63000.0,13000.0,17000.0,64000.0,30000.0,85000.0,529000.0,32000.0,201000.0,767000.0,8200.0,24000.0,32000.0,10000.0,30000.0,15000.0,16000.0,28000.0,187000.0,32000.0,47000.0,74000.0,109000.0,4800.0,166000.0,16000.0,6600.0,15000.0,43000.0,258000.0,350000.0,126000.0,41000.0,925000.0,48000.0,79000.0,57000.0,5200.0,3500.0,52000.0,17000.0,3900.0,3700.0,4400.0,38000.0,15000.0,11000.0,83000.0,10000.0,31000.0,9600.0,25000.0,2000.0,15000.0,39000.0,61000.0,47000.0,22000.0,35000.0,130000.0,4500.0,17000.0,28000.0,96000.0,43000.0,61000.0,24000.0,13000.0,189000.0,16000.0,25000.0,21000.0,25000.0,20000.0,92000.0,58000.0,328000.0,65000.0,775000.0,854000.0,13000.0,40000.0,2400.0,8000.0,8000.0,33000.0,35000.0,32000.0,64000.0,7800.0,38000.0,18000.0,32000.0,12000.0,44000.0,190000.0,11000.0,27000.0,155000.0,37000.0,18000.0,51000.0,34000.0,42000.0,20000.0,106000.0,400000.0,75000.0,114000.0,44000.0,50000.0,302000.0,58000.0,10000.0,26000.0,61000.0,89000.0,16000.0,43000.0,22000.0,86000.0,25000.0,28000.0,28000.0,77000.0,32000.0,45000.0,29000.0,76000.0,74000.0,183000.0,153000.0,49000.0,500000.0,118000.0,13000.0,21000.0,205000.0,39000.0,276000.0,33000.0,218000.0,15000.0,168000.0,22000.0,136000.0,21000.0,215000.0,20000.0,198000.0,22000.0,10000.0,6100.0,5000.0,82000.0,29000.0,1700.0,1900.0,26000.0,1100.0,15000.0,628.0,33000.0,1100.0,12000.0,1100.0,7700.0,996.0,1600.0,1300.0,1700.0,2200.0,53000.0,49000.0,2400.0,1800.0,863.0,11000.0,726.0,2900.0,1800.0,4300.0,8400.0,1200.0,7300.0,2700.0,864.0,1200.0,1400.0,6900.0,2500.0,16000.0,4600.0,12000.0,23000.0,12000.0,86000.0,49000.0,57000.0,10000.0,10000.0,15000.0,902.0,584.0,869.0,4500.0,11000.0,6600.0,696.0,3600.0,483.0,412.0,4600.0,795.0,658.0,900.0,972.0,2200.0,6300.0,5500.0,10000.0,1500.0,3700.0,1000.0,2000.0,1000.0,2200.0,6700.0,22000.0,1600.0,6800.0,663.0,1900.0,5700.0,70000.0,799.0,10000.0,1600.0,7200.0,5300.0,5200.0,1700.0,6400.0,6500.0,854.0,1100.0,6600.0,9100.0,10000.0,122000.0,30000.0,24000.0,679.0,29000.0,6400.0,12000.0,4100.0,12000.0,6500.0,6400.0,32000.0,7500.0,7400.0,40000.0,197000.0],\"yaxis\":\"y\",\"type\":\"scatter\"}],                        {\"template\":{\"data\":{\"histogram2dcontour\":[{\"type\":\"histogram2dcontour\",\"colorbar\":{\"outlinewidth\":0,\"ticks\":\"\"},\"colorscale\":[[0.0,\"#0d0887\"],[0.1111111111111111,\"#46039f\"],[0.2222222222222222,\"#7201a8\"],[0.3333333333333333,\"#9c179e\"],[0.4444444444444444,\"#bd3786\"],[0.5555555555555556,\"#d8576b\"],[0.6666666666666666,\"#ed7953\"],[0.7777777777777778,\"#fb9f3a\"],[0.8888888888888888,\"#fdca26\"],[1.0,\"#f0f921\"]]}],\"choropleth\":[{\"type\":\"choropleth\",\"colorbar\":{\"outlinewidth\":0,\"ticks\":\"\"}}],\"histogram2d\":[{\"type\":\"histogram2d\",\"colorbar\":{\"outlinewidth\":0,\"ticks\":\"\"},\"colorscale\":[[0.0,\"#0d0887\"],[0.1111111111111111,\"#46039f\"],[0.2222222222222222,\"#7201a8\"],[0.3333333333333333,\"#9c179e\"],[0.4444444444444444,\"#bd3786\"],[0.5555555555555556,\"#d8576b\"],[0.6666666666666666,\"#ed7953\"],[0.7777777777777778,\"#fb9f3a\"],[0.8888888888888888,\"#fdca26\"],[1.0,\"#f0f921\"]]}],\"heatmap\":[{\"type\":\"heatmap\",\"colorbar\":{\"outlinewidth\":0,\"ticks\":\"\"},\"colorscale\":[[0.0,\"#0d0887\"],[0.1111111111111111,\"#46039f\"],[0.2222222222222222,\"#7201a8\"],[0.3333333333333333,\"#9c179e\"],[0.4444444444444444,\"#bd3786\"],[0.5555555555555556,\"#d8576b\"],[0.6666666666666666,\"#ed7953\"],[0.7777777777777778,\"#fb9f3a\"],[0.8888888888888888,\"#fdca26\"],[1.0,\"#f0f921\"]]}],\"heatmapgl\":[{\"type\":\"heatmapgl\",\"colorbar\":{\"outlinewidth\":0,\"ticks\":\"\"},\"colorscale\":[[0.0,\"#0d0887\"],[0.1111111111111111,\"#46039f\"],[0.2222222222222222,\"#7201a8\"],[0.3333333333333333,\"#9c179e\"],[0.4444444444444444,\"#bd3786\"],[0.5555555555555556,\"#d8576b\"],[0.6666666666666666,\"#ed7953\"],[0.7777777777777778,\"#fb9f3a\"],[0.8888888888888888,\"#fdca26\"],[1.0,\"#f0f921\"]]}],\"contourcarpet\":[{\"type\":\"contourcarpet\",\"colorbar\":{\"outlinewidth\":0,\"ticks\":\"\"}}],\"contour\":[{\"type\":\"contour\",\"colorbar\":{\"outlinewidth\":0,\"ticks\":\"\"},\"colorscale\":[[0.0,\"#0d0887\"],[0.1111111111111111,\"#46039f\"],[0.2222222222222222,\"#7201a8\"],[0.3333333333333333,\"#9c179e\"],[0.4444444444444444,\"#bd3786\"],[0.5555555555555556,\"#d8576b\"],[0.6666666666666666,\"#ed7953\"],[0.7777777777777778,\"#fb9f3a\"],[0.8888888888888888,\"#fdca26\"],[1.0,\"#f0f921\"]]}],\"surface\":[{\"type\":\"surface\",\"colorbar\":{\"outlinewidth\":0,\"ticks\":\"\"},\"colorscale\":[[0.0,\"#0d0887\"],[0.1111111111111111,\"#46039f\"],[0.2222222222222222,\"#7201a8\"],[0.3333333333333333,\"#9c179e\"],[0.4444444444444444,\"#bd3786\"],[0.5555555555555556,\"#d8576b\"],[0.6666666666666666,\"#ed7953\"],[0.7777777777777778,\"#fb9f3a\"],[0.8888888888888888,\"#fdca26\"],[1.0,\"#f0f921\"]]}],\"mesh3d\":[{\"type\":\"mesh3d\",\"colorbar\":{\"outlinewidth\":0,\"ticks\":\"\"}}],\"scatter\":[{\"fillpattern\":{\"fillmode\":\"overlay\",\"size\":10,\"solidity\":0.2},\"type\":\"scatter\"}],\"parcoords\":[{\"type\":\"parcoords\",\"line\":{\"colorbar\":{\"outlinewidth\":0,\"ticks\":\"\"}}}],\"scatterpolargl\":[{\"type\":\"scatterpolargl\",\"marker\":{\"colorbar\":{\"outlinewidth\":0,\"ticks\":\"\"}}}],\"bar\":[{\"error_x\":{\"color\":\"#2a3f5f\"},\"error_y\":{\"color\":\"#2a3f5f\"},\"marker\":{\"line\":{\"color\":\"#E5ECF6\",\"width\":0.5},\"pattern\":{\"fillmode\":\"overlay\",\"size\":10,\"solidity\":0.2}},\"type\":\"bar\"}],\"scattergeo\":[{\"type\":\"scattergeo\",\"marker\":{\"colorbar\":{\"outlinewidth\":0,\"ticks\":\"\"}}}],\"scatterpolar\":[{\"type\":\"scatterpolar\",\"marker\":{\"colorbar\":{\"outlinewidth\":0,\"ticks\":\"\"}}}],\"histogram\":[{\"marker\":{\"pattern\":{\"fillmode\":\"overlay\",\"size\":10,\"solidity\":0.2}},\"type\":\"histogram\"}],\"scattergl\":[{\"type\":\"scattergl\",\"marker\":{\"colorbar\":{\"outlinewidth\":0,\"ticks\":\"\"}}}],\"scatter3d\":[{\"type\":\"scatter3d\",\"line\":{\"colorbar\":{\"outlinewidth\":0,\"ticks\":\"\"}},\"marker\":{\"colorbar\":{\"outlinewidth\":0,\"ticks\":\"\"}}}],\"scattermapbox\":[{\"type\":\"scattermapbox\",\"marker\":{\"colorbar\":{\"outlinewidth\":0,\"ticks\":\"\"}}}],\"scatterternary\":[{\"type\":\"scatterternary\",\"marker\":{\"colorbar\":{\"outlinewidth\":0,\"ticks\":\"\"}}}],\"scattercarpet\":[{\"type\":\"scattercarpet\",\"marker\":{\"colorbar\":{\"outlinewidth\":0,\"ticks\":\"\"}}}],\"carpet\":[{\"aaxis\":{\"endlinecolor\":\"#2a3f5f\",\"gridcolor\":\"white\",\"linecolor\":\"white\",\"minorgridcolor\":\"white\",\"startlinecolor\":\"#2a3f5f\"},\"baxis\":{\"endlinecolor\":\"#2a3f5f\",\"gridcolor\":\"white\",\"linecolor\":\"white\",\"minorgridcolor\":\"white\",\"startlinecolor\":\"#2a3f5f\"},\"type\":\"carpet\"}],\"table\":[{\"cells\":{\"fill\":{\"color\":\"#EBF0F8\"},\"line\":{\"color\":\"white\"}},\"header\":{\"fill\":{\"color\":\"#C8D4E3\"},\"line\":{\"color\":\"white\"}},\"type\":\"table\"}],\"barpolar\":[{\"marker\":{\"line\":{\"color\":\"#E5ECF6\",\"width\":0.5},\"pattern\":{\"fillmode\":\"overlay\",\"size\":10,\"solidity\":0.2}},\"type\":\"barpolar\"}],\"pie\":[{\"automargin\":true,\"type\":\"pie\"}]},\"layout\":{\"autotypenumbers\":\"strict\",\"colorway\":[\"#636efa\",\"#EF553B\",\"#00cc96\",\"#ab63fa\",\"#FFA15A\",\"#19d3f3\",\"#FF6692\",\"#B6E880\",\"#FF97FF\",\"#FECB52\"],\"font\":{\"color\":\"#2a3f5f\"},\"hovermode\":\"closest\",\"hoverlabel\":{\"align\":\"left\"},\"paper_bgcolor\":\"white\",\"plot_bgcolor\":\"#E5ECF6\",\"polar\":{\"bgcolor\":\"#E5ECF6\",\"angularaxis\":{\"gridcolor\":\"white\",\"linecolor\":\"white\",\"ticks\":\"\"},\"radialaxis\":{\"gridcolor\":\"white\",\"linecolor\":\"white\",\"ticks\":\"\"}},\"ternary\":{\"bgcolor\":\"#E5ECF6\",\"aaxis\":{\"gridcolor\":\"white\",\"linecolor\":\"white\",\"ticks\":\"\"},\"baxis\":{\"gridcolor\":\"white\",\"linecolor\":\"white\",\"ticks\":\"\"},\"caxis\":{\"gridcolor\":\"white\",\"linecolor\":\"white\",\"ticks\":\"\"}},\"coloraxis\":{\"colorbar\":{\"outlinewidth\":0,\"ticks\":\"\"}},\"colorscale\":{\"sequential\":[[0.0,\"#0d0887\"],[0.1111111111111111,\"#46039f\"],[0.2222222222222222,\"#7201a8\"],[0.3333333333333333,\"#9c179e\"],[0.4444444444444444,\"#bd3786\"],[0.5555555555555556,\"#d8576b\"],[0.6666666666666666,\"#ed7953\"],[0.7777777777777778,\"#fb9f3a\"],[0.8888888888888888,\"#fdca26\"],[1.0,\"#f0f921\"]],\"sequentialminus\":[[0.0,\"#0d0887\"],[0.1111111111111111,\"#46039f\"],[0.2222222222222222,\"#7201a8\"],[0.3333333333333333,\"#9c179e\"],[0.4444444444444444,\"#bd3786\"],[0.5555555555555556,\"#d8576b\"],[0.6666666666666666,\"#ed7953\"],[0.7777777777777778,\"#fb9f3a\"],[0.8888888888888888,\"#fdca26\"],[1.0,\"#f0f921\"]],\"diverging\":[[0,\"#8e0152\"],[0.1,\"#c51b7d\"],[0.2,\"#de77ae\"],[0.3,\"#f1b6da\"],[0.4,\"#fde0ef\"],[0.5,\"#f7f7f7\"],[0.6,\"#e6f5d0\"],[0.7,\"#b8e186\"],[0.8,\"#7fbc41\"],[0.9,\"#4d9221\"],[1,\"#276419\"]]},\"xaxis\":{\"gridcolor\":\"white\",\"linecolor\":\"white\",\"ticks\":\"\",\"title\":{\"standoff\":15},\"zerolinecolor\":\"white\",\"automargin\":true,\"zerolinewidth\":2},\"yaxis\":{\"gridcolor\":\"white\",\"linecolor\":\"white\",\"ticks\":\"\",\"title\":{\"standoff\":15},\"zerolinecolor\":\"white\",\"automargin\":true,\"zerolinewidth\":2},\"scene\":{\"xaxis\":{\"backgroundcolor\":\"#E5ECF6\",\"gridcolor\":\"white\",\"linecolor\":\"white\",\"showbackground\":true,\"ticks\":\"\",\"zerolinecolor\":\"white\",\"gridwidth\":2},\"yaxis\":{\"backgroundcolor\":\"#E5ECF6\",\"gridcolor\":\"white\",\"linecolor\":\"white\",\"showbackground\":true,\"ticks\":\"\",\"zerolinecolor\":\"white\",\"gridwidth\":2},\"zaxis\":{\"backgroundcolor\":\"#E5ECF6\",\"gridcolor\":\"white\",\"linecolor\":\"white\",\"showbackground\":true,\"ticks\":\"\",\"zerolinecolor\":\"white\",\"gridwidth\":2}},\"shapedefaults\":{\"line\":{\"color\":\"#2a3f5f\"}},\"annotationdefaults\":{\"arrowcolor\":\"#2a3f5f\",\"arrowhead\":0,\"arrowwidth\":1},\"geo\":{\"bgcolor\":\"white\",\"landcolor\":\"#E5ECF6\",\"subunitcolor\":\"white\",\"showland\":true,\"showlakes\":true,\"lakecolor\":\"white\"},\"title\":{\"x\":0.05},\"mapbox\":{\"style\":\"light\"}}},\"xaxis\":{\"anchor\":\"y\",\"domain\":[0.0,1.0],\"title\":{\"text\":\"Posted On\"}},\"yaxis\":{\"anchor\":\"x\",\"domain\":[0.0,1.0],\"title\":{\"text\":\"# of views per episode\"}},\"legend\":{\"tracegroupgap\":0},\"margin\":{\"t\":60},\"title\":{\"text\":\"The Hustlers Corner SA Podcast\"},\"updatemenus\":[{\"buttons\":[{\"args\":[\"type\",\"scatter\"],\"label\":\"Scatter Plot\",\"method\":\"restyle\"}],\"direction\":\"left\",\"type\":\"buttons\"}]},                        {\"responsive\": true}                    ).then(function(){\n",
       "                            \n",
       "var gd = document.getElementById('1ad8ecfd-28a4-4dc2-b519-013093e8c076');\n",
       "var x = new MutationObserver(function (mutations, observer) {{\n",
       "        var display = window.getComputedStyle(gd).display;\n",
       "        if (!display || display === 'none') {{\n",
       "            console.log([gd, 'removed!']);\n",
       "            Plotly.purge(gd);\n",
       "            observer.disconnect();\n",
       "        }}\n",
       "}});\n",
       "\n",
       "// Listen for the removal of the full notebook cells\n",
       "var notebookContainer = gd.closest('#notebook-container');\n",
       "if (notebookContainer) {{\n",
       "    x.observe(notebookContainer, {childList: true});\n",
       "}}\n",
       "\n",
       "// Listen for the clearing of the current output cell\n",
       "var outputEl = gd.closest('.output');\n",
       "if (outputEl) {{\n",
       "    x.observe(outputEl, {childList: true});\n",
       "}}\n",
       "\n",
       "                        })                };                });            </script>        </div>"
      ]
     },
     "metadata": {},
     "output_type": "display_data"
    }
   ],
   "source": [
    "# reading the database\n",
    "data = pd.read_csv(\"Output Files/TheHustlersCornerSA_Podcast.csv\")\n",
    "print(f'{data}')\n",
    "\n",
    "plot = px.scatter(\n",
    "    x=data['posted'],\n",
    "    y=data['views'],\n",
    ")\n",
    " \n",
    "# Add dropdown\n",
    "plot.update_layout(\n",
    "\n",
    "    title=\"The Hustlers Corner SA Podcast\",\n",
    "    xaxis_title=\"Posted On\",\n",
    "    yaxis_title=\"# of views per episode\",\n",
    "    \n",
    "    updatemenus=[\n",
    "        dict(\n",
    "            type=\"buttons\",\n",
    "            direction=\"left\",\n",
    "            buttons=list([\n",
    "                dict(\n",
    "                    args=[\"type\", \"scatter\"],\n",
    "                    label=\"Scatter Plot\",\n",
    "                    method=\"restyle\"\n",
    "                ),\n",
    "            ]),\n",
    "        ),\n",
    "    ]\n",
    ")\n",
    "\n",
    "plot.show()"
   ]
  },
  {
   "cell_type": "code",
   "execution_count": null,
   "id": "78abd602-fa31-4db8-8fd8-1ad363511fcd",
   "metadata": {},
   "outputs": [],
   "source": []
  }
 ],
 "metadata": {
  "kernelspec": {
   "display_name": "env",
   "language": "python",
   "name": "env"
  },
  "language_info": {
   "codemirror_mode": {
    "name": "ipython",
    "version": 3
   },
   "file_extension": ".py",
   "mimetype": "text/x-python",
   "name": "python",
   "nbconvert_exporter": "python",
   "pygments_lexer": "ipython3",
   "version": "3.12.3"
  }
 },
 "nbformat": 4,
 "nbformat_minor": 5
}
